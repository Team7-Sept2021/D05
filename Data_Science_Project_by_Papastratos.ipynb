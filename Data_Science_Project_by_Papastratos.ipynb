{
  "nbformat": 4,
  "nbformat_minor": 0,
  "metadata": {
    "colab": {
      "name": "Data Science Project by Papastratos.ipynb",
      "provenance": [],
      "collapsed_sections": [],
      "authorship_tag": "ABX9TyNvNKKgxuHh96enwcIjW/xP",
      "include_colab_link": true
    },
    "kernelspec": {
      "name": "python3",
      "display_name": "Python 3"
    },
    "language_info": {
      "name": "python"
    }
  },
  "cells": [
    {
      "cell_type": "markdown",
      "metadata": {
        "id": "view-in-github",
        "colab_type": "text"
      },
      "source": [
        "<a href=\"https://colab.research.google.com/github/Team7-Sept2021/test/blob/main/Data_Science_Project_by_Papastratos.ipynb\" target=\"_parent\"><img src=\"https://colab.research.google.com/assets/colab-badge.svg\" alt=\"Open In Colab\"/></a>"
      ]
    },
    {
      "cell_type": "code",
      "metadata": {
        "id": "WjyxOGKRMkti"
      },
      "source": [
        "import pandas as pd\n",
        "import numpy as np\n",
        "import matplotlib.pyplot as plt\n",
        "import seaborn as sns\n",
        "from sklearn import preprocessing\n",
        "from sklearn.preprocessing import OneHotEncoder\n",
        "from sklearn.model_selection import train_test_split \n",
        "from sklearn.preprocessing import MinMaxScaler, StandardScaler, Normalizer, OrdinalEncoder\n",
        "\n",
        "from sklearn.linear_model import LinearRegression\n",
        "from sklearn.metrics import r2_score\n",
        "from sklearn.metrics import mean_squared_error, mean_absolute_error\n",
        "\n",
        "\n",
        "from sklearn.neighbors import KNeighborsRegressor\n",
        "from sklearn.neighbors import KNeighborsClassifier\n",
        "\n",
        "\n",
        "from sklearn.tree import DecisionTreeClassifier\n",
        "\n",
        "from sklearn.metrics import accuracy_score, precision_recall_fscore_support, classification_report\n",
        "np.set_printoptions(precision=3)\n",
        "\n",
        "%matplotlib inline\n",
        "np.set_printoptions(precision=3, suppress=True)\n",
        "pd.set_option('precision', 3)\n"
      ],
      "execution_count": 203,
      "outputs": []
    },
    {
      "cell_type": "code",
      "metadata": {
        "colab": {
          "base_uri": "https://localhost:8080/"
        },
        "id": "p0u5AsIsNhTY",
        "outputId": "466414fa-3db3-428e-b720-74dc047bac7a"
      },
      "source": [
        "df = pd.read_excel(\"mpg.data.xlsx\")\n",
        "df = df.dropna(axis=1, thresh= 200)\n",
        "df.info()"
      ],
      "execution_count": 204,
      "outputs": [
        {
          "output_type": "stream",
          "name": "stdout",
          "text": [
            "<class 'pandas.core.frame.DataFrame'>\n",
            "RangeIndex: 406 entries, 0 to 405\n",
            "Data columns (total 9 columns):\n",
            " #   Column        Non-Null Count  Dtype  \n",
            "---  ------        --------------  -----  \n",
            " 0   mpg           398 non-null    float64\n",
            " 1   cylinders     406 non-null    int64  \n",
            " 2   displayments  406 non-null    float64\n",
            " 3   horsepower    400 non-null    float64\n",
            " 4   weight        406 non-null    int64  \n",
            " 5   acceleration  406 non-null    float64\n",
            " 6   model year    406 non-null    int64  \n",
            " 7   origin        406 non-null    int64  \n",
            " 8   car name      406 non-null    object \n",
            "dtypes: float64(4), int64(4), object(1)\n",
            "memory usage: 28.7+ KB\n"
          ]
        }
      ]
    },
    {
      "cell_type": "code",
      "metadata": {
        "colab": {
          "base_uri": "https://localhost:8080/",
          "height": 359
        },
        "id": "Asn3kcANi76-",
        "outputId": "02520074-1c3f-4e8e-845f-7adafdab66c2"
      },
      "source": [
        "df.head(10)"
      ],
      "execution_count": 205,
      "outputs": [
        {
          "output_type": "execute_result",
          "data": {
            "text/html": [
              "<div>\n",
              "<style scoped>\n",
              "    .dataframe tbody tr th:only-of-type {\n",
              "        vertical-align: middle;\n",
              "    }\n",
              "\n",
              "    .dataframe tbody tr th {\n",
              "        vertical-align: top;\n",
              "    }\n",
              "\n",
              "    .dataframe thead th {\n",
              "        text-align: right;\n",
              "    }\n",
              "</style>\n",
              "<table border=\"1\" class=\"dataframe\">\n",
              "  <thead>\n",
              "    <tr style=\"text-align: right;\">\n",
              "      <th></th>\n",
              "      <th>mpg</th>\n",
              "      <th>cylinders</th>\n",
              "      <th>displayments</th>\n",
              "      <th>horsepower</th>\n",
              "      <th>weight</th>\n",
              "      <th>acceleration</th>\n",
              "      <th>model year</th>\n",
              "      <th>origin</th>\n",
              "      <th>car name</th>\n",
              "    </tr>\n",
              "  </thead>\n",
              "  <tbody>\n",
              "    <tr>\n",
              "      <th>0</th>\n",
              "      <td>18.0</td>\n",
              "      <td>8</td>\n",
              "      <td>307.0</td>\n",
              "      <td>130.0</td>\n",
              "      <td>3504</td>\n",
              "      <td>12.0</td>\n",
              "      <td>70</td>\n",
              "      <td>1</td>\n",
              "      <td>chevrolet chevelle malibu</td>\n",
              "    </tr>\n",
              "    <tr>\n",
              "      <th>1</th>\n",
              "      <td>15.0</td>\n",
              "      <td>8</td>\n",
              "      <td>350.0</td>\n",
              "      <td>165.0</td>\n",
              "      <td>3693</td>\n",
              "      <td>11.5</td>\n",
              "      <td>70</td>\n",
              "      <td>1</td>\n",
              "      <td>buick skylark 320</td>\n",
              "    </tr>\n",
              "    <tr>\n",
              "      <th>2</th>\n",
              "      <td>18.0</td>\n",
              "      <td>8</td>\n",
              "      <td>318.0</td>\n",
              "      <td>150.0</td>\n",
              "      <td>3436</td>\n",
              "      <td>11.0</td>\n",
              "      <td>70</td>\n",
              "      <td>1</td>\n",
              "      <td>plymouth satellite</td>\n",
              "    </tr>\n",
              "    <tr>\n",
              "      <th>3</th>\n",
              "      <td>16.0</td>\n",
              "      <td>8</td>\n",
              "      <td>304.0</td>\n",
              "      <td>150.0</td>\n",
              "      <td>3433</td>\n",
              "      <td>12.0</td>\n",
              "      <td>70</td>\n",
              "      <td>1</td>\n",
              "      <td>amc rebel sst</td>\n",
              "    </tr>\n",
              "    <tr>\n",
              "      <th>4</th>\n",
              "      <td>17.0</td>\n",
              "      <td>8</td>\n",
              "      <td>302.0</td>\n",
              "      <td>140.0</td>\n",
              "      <td>3449</td>\n",
              "      <td>10.5</td>\n",
              "      <td>70</td>\n",
              "      <td>1</td>\n",
              "      <td>ford torino</td>\n",
              "    </tr>\n",
              "    <tr>\n",
              "      <th>5</th>\n",
              "      <td>15.0</td>\n",
              "      <td>8</td>\n",
              "      <td>429.0</td>\n",
              "      <td>198.0</td>\n",
              "      <td>4341</td>\n",
              "      <td>10.0</td>\n",
              "      <td>70</td>\n",
              "      <td>1</td>\n",
              "      <td>ford galaxie 500</td>\n",
              "    </tr>\n",
              "    <tr>\n",
              "      <th>6</th>\n",
              "      <td>14.0</td>\n",
              "      <td>8</td>\n",
              "      <td>454.0</td>\n",
              "      <td>220.0</td>\n",
              "      <td>4354</td>\n",
              "      <td>9.0</td>\n",
              "      <td>70</td>\n",
              "      <td>1</td>\n",
              "      <td>chevrolet impala</td>\n",
              "    </tr>\n",
              "    <tr>\n",
              "      <th>7</th>\n",
              "      <td>14.0</td>\n",
              "      <td>8</td>\n",
              "      <td>440.0</td>\n",
              "      <td>215.0</td>\n",
              "      <td>4312</td>\n",
              "      <td>8.5</td>\n",
              "      <td>70</td>\n",
              "      <td>1</td>\n",
              "      <td>plymouth fury iii</td>\n",
              "    </tr>\n",
              "    <tr>\n",
              "      <th>8</th>\n",
              "      <td>14.0</td>\n",
              "      <td>8</td>\n",
              "      <td>455.0</td>\n",
              "      <td>225.0</td>\n",
              "      <td>4425</td>\n",
              "      <td>10.0</td>\n",
              "      <td>70</td>\n",
              "      <td>1</td>\n",
              "      <td>pontiac catalina</td>\n",
              "    </tr>\n",
              "    <tr>\n",
              "      <th>9</th>\n",
              "      <td>15.0</td>\n",
              "      <td>8</td>\n",
              "      <td>390.0</td>\n",
              "      <td>190.0</td>\n",
              "      <td>3850</td>\n",
              "      <td>8.5</td>\n",
              "      <td>70</td>\n",
              "      <td>1</td>\n",
              "      <td>amc ambassador dpl</td>\n",
              "    </tr>\n",
              "  </tbody>\n",
              "</table>\n",
              "</div>"
            ],
            "text/plain": [
              "    mpg  cylinders  displayments  ...  model year  origin                   car name\n",
              "0  18.0          8         307.0  ...          70       1  chevrolet chevelle malibu\n",
              "1  15.0          8         350.0  ...          70       1          buick skylark 320\n",
              "2  18.0          8         318.0  ...          70       1         plymouth satellite\n",
              "3  16.0          8         304.0  ...          70       1              amc rebel sst\n",
              "4  17.0          8         302.0  ...          70       1                ford torino\n",
              "5  15.0          8         429.0  ...          70       1           ford galaxie 500\n",
              "6  14.0          8         454.0  ...          70       1           chevrolet impala\n",
              "7  14.0          8         440.0  ...          70       1          plymouth fury iii\n",
              "8  14.0          8         455.0  ...          70       1           pontiac catalina\n",
              "9  15.0          8         390.0  ...          70       1         amc ambassador dpl\n",
              "\n",
              "[10 rows x 9 columns]"
            ]
          },
          "metadata": {},
          "execution_count": 205
        }
      ]
    },
    {
      "cell_type": "markdown",
      "metadata": {
        "id": "AS7cQ2U-uLyU"
      },
      "source": [
        "The above nine columns with data:\n",
        "\n",
        "\n",
        "1.   mpg (miles per gallon)\n",
        "2.   cylinders (number of cylinders)\n",
        "1.   displayments\n",
        "2.   horsepower\n",
        "1.   weight (in kilos)\n",
        "2.   acceleration\n",
        "1.   model year (only the last two digit of the year)\n",
        "2.   origin (as number)\n",
        "1.   car name (company[space]specific_model )-----------\n",
        "\n",
        "So, 406 inputs and 9 columns in total. Important!! Columns 10-13 have not column names"
      ]
    },
    {
      "cell_type": "markdown",
      "metadata": {
        "id": "xuhDKui6Jo-4"
      },
      "source": [
        "# Περιγραφική Στατιστική"
      ]
    },
    {
      "cell_type": "code",
      "metadata": {
        "colab": {
          "base_uri": "https://localhost:8080/",
          "height": 297
        },
        "id": "y04vIU-BO9xo",
        "outputId": "2f84249c-fab2-4a3c-bed9-5329fea32c32"
      },
      "source": [
        "df.describe().transpose()"
      ],
      "execution_count": 206,
      "outputs": [
        {
          "output_type": "execute_result",
          "data": {
            "text/html": [
              "<div>\n",
              "<style scoped>\n",
              "    .dataframe tbody tr th:only-of-type {\n",
              "        vertical-align: middle;\n",
              "    }\n",
              "\n",
              "    .dataframe tbody tr th {\n",
              "        vertical-align: top;\n",
              "    }\n",
              "\n",
              "    .dataframe thead th {\n",
              "        text-align: right;\n",
              "    }\n",
              "</style>\n",
              "<table border=\"1\" class=\"dataframe\">\n",
              "  <thead>\n",
              "    <tr style=\"text-align: right;\">\n",
              "      <th></th>\n",
              "      <th>count</th>\n",
              "      <th>mean</th>\n",
              "      <th>std</th>\n",
              "      <th>min</th>\n",
              "      <th>25%</th>\n",
              "      <th>50%</th>\n",
              "      <th>75%</th>\n",
              "      <th>max</th>\n",
              "    </tr>\n",
              "  </thead>\n",
              "  <tbody>\n",
              "    <tr>\n",
              "      <th>mpg</th>\n",
              "      <td>398.0</td>\n",
              "      <td>23.515</td>\n",
              "      <td>7.816</td>\n",
              "      <td>9.0</td>\n",
              "      <td>17.50</td>\n",
              "      <td>23.0</td>\n",
              "      <td>29.000</td>\n",
              "      <td>46.6</td>\n",
              "    </tr>\n",
              "    <tr>\n",
              "      <th>cylinders</th>\n",
              "      <td>406.0</td>\n",
              "      <td>5.475</td>\n",
              "      <td>1.712</td>\n",
              "      <td>3.0</td>\n",
              "      <td>4.00</td>\n",
              "      <td>4.0</td>\n",
              "      <td>8.000</td>\n",
              "      <td>8.0</td>\n",
              "    </tr>\n",
              "    <tr>\n",
              "      <th>displayments</th>\n",
              "      <td>406.0</td>\n",
              "      <td>194.780</td>\n",
              "      <td>104.922</td>\n",
              "      <td>68.0</td>\n",
              "      <td>105.00</td>\n",
              "      <td>151.0</td>\n",
              "      <td>302.000</td>\n",
              "      <td>455.0</td>\n",
              "    </tr>\n",
              "    <tr>\n",
              "      <th>horsepower</th>\n",
              "      <td>400.0</td>\n",
              "      <td>105.082</td>\n",
              "      <td>38.769</td>\n",
              "      <td>46.0</td>\n",
              "      <td>75.75</td>\n",
              "      <td>95.0</td>\n",
              "      <td>130.000</td>\n",
              "      <td>230.0</td>\n",
              "    </tr>\n",
              "    <tr>\n",
              "      <th>weight</th>\n",
              "      <td>406.0</td>\n",
              "      <td>2979.414</td>\n",
              "      <td>847.004</td>\n",
              "      <td>1613.0</td>\n",
              "      <td>2226.50</td>\n",
              "      <td>2822.5</td>\n",
              "      <td>3618.250</td>\n",
              "      <td>5140.0</td>\n",
              "    </tr>\n",
              "    <tr>\n",
              "      <th>acceleration</th>\n",
              "      <td>406.0</td>\n",
              "      <td>15.520</td>\n",
              "      <td>2.803</td>\n",
              "      <td>8.0</td>\n",
              "      <td>13.70</td>\n",
              "      <td>15.5</td>\n",
              "      <td>17.175</td>\n",
              "      <td>24.8</td>\n",
              "    </tr>\n",
              "    <tr>\n",
              "      <th>model year</th>\n",
              "      <td>406.0</td>\n",
              "      <td>75.921</td>\n",
              "      <td>3.749</td>\n",
              "      <td>70.0</td>\n",
              "      <td>73.00</td>\n",
              "      <td>76.0</td>\n",
              "      <td>79.000</td>\n",
              "      <td>82.0</td>\n",
              "    </tr>\n",
              "    <tr>\n",
              "      <th>origin</th>\n",
              "      <td>406.0</td>\n",
              "      <td>1.569</td>\n",
              "      <td>0.797</td>\n",
              "      <td>1.0</td>\n",
              "      <td>1.00</td>\n",
              "      <td>1.0</td>\n",
              "      <td>2.000</td>\n",
              "      <td>3.0</td>\n",
              "    </tr>\n",
              "  </tbody>\n",
              "</table>\n",
              "</div>"
            ],
            "text/plain": [
              "              count      mean      std  ...     50%       75%     max\n",
              "mpg           398.0    23.515    7.816  ...    23.0    29.000    46.6\n",
              "cylinders     406.0     5.475    1.712  ...     4.0     8.000     8.0\n",
              "displayments  406.0   194.780  104.922  ...   151.0   302.000   455.0\n",
              "horsepower    400.0   105.082   38.769  ...    95.0   130.000   230.0\n",
              "weight        406.0  2979.414  847.004  ...  2822.5  3618.250  5140.0\n",
              "acceleration  406.0    15.520    2.803  ...    15.5    17.175    24.8\n",
              "model year    406.0    75.921    3.749  ...    76.0    79.000    82.0\n",
              "origin        406.0     1.569    0.797  ...     1.0     2.000     3.0\n",
              "\n",
              "[8 rows x 8 columns]"
            ]
          },
          "metadata": {},
          "execution_count": 206
        }
      ]
    },
    {
      "cell_type": "code",
      "metadata": {
        "colab": {
          "base_uri": "https://localhost:8080/"
        },
        "id": "QmtweZ22vkK_",
        "outputId": "bdcfb92f-a83b-408e-c3d3-297011ed016d"
      },
      "source": [
        "df.nunique()"
      ],
      "execution_count": 207,
      "outputs": [
        {
          "output_type": "execute_result",
          "data": {
            "text/plain": [
              "mpg             129\n",
              "cylinders         5\n",
              "displayments     83\n",
              "horsepower       93\n",
              "weight          356\n",
              "acceleration     96\n",
              "model year       13\n",
              "origin            3\n",
              "car name        312\n",
              "dtype: int64"
            ]
          },
          "metadata": {},
          "execution_count": 207
        }
      ]
    },
    {
      "cell_type": "code",
      "metadata": {
        "colab": {
          "base_uri": "https://localhost:8080/"
        },
        "id": "LnrP6ILIGBVG",
        "outputId": "206ad1d2-4b97-466e-e1ac-a3620f8b9f74"
      },
      "source": [
        "df['mpg'].value_counts()"
      ],
      "execution_count": 208,
      "outputs": [
        {
          "output_type": "execute_result",
          "data": {
            "text/plain": [
              "13.0    20\n",
              "14.0    19\n",
              "18.0    17\n",
              "15.0    16\n",
              "26.0    14\n",
              "        ..\n",
              "34.2     1\n",
              "38.1     1\n",
              "37.2     1\n",
              "32.1     1\n",
              "32.7     1\n",
              "Name: mpg, Length: 129, dtype: int64"
            ]
          },
          "metadata": {},
          "execution_count": 208
        }
      ]
    },
    {
      "cell_type": "code",
      "metadata": {
        "colab": {
          "base_uri": "https://localhost:8080/"
        },
        "id": "FeIobyNQvvQf",
        "outputId": "e9bd59f9-255d-4ff7-9606-a5fbd8546983"
      },
      "source": [
        "df.duplicated().sum()"
      ],
      "execution_count": 209,
      "outputs": [
        {
          "output_type": "execute_result",
          "data": {
            "text/plain": [
              "0"
            ]
          },
          "metadata": {},
          "execution_count": 209
        }
      ]
    },
    {
      "cell_type": "code",
      "metadata": {
        "colab": {
          "base_uri": "https://localhost:8080/"
        },
        "id": "qolRQs2NJ_rA",
        "outputId": "fbff16e3-e144-4d15-cdbc-a70a7af380db"
      },
      "source": [
        "df.info()"
      ],
      "execution_count": 210,
      "outputs": [
        {
          "output_type": "stream",
          "name": "stdout",
          "text": [
            "<class 'pandas.core.frame.DataFrame'>\n",
            "RangeIndex: 406 entries, 0 to 405\n",
            "Data columns (total 9 columns):\n",
            " #   Column        Non-Null Count  Dtype  \n",
            "---  ------        --------------  -----  \n",
            " 0   mpg           398 non-null    float64\n",
            " 1   cylinders     406 non-null    int64  \n",
            " 2   displayments  406 non-null    float64\n",
            " 3   horsepower    400 non-null    float64\n",
            " 4   weight        406 non-null    int64  \n",
            " 5   acceleration  406 non-null    float64\n",
            " 6   model year    406 non-null    int64  \n",
            " 7   origin        406 non-null    int64  \n",
            " 8   car name      406 non-null    object \n",
            "dtypes: float64(4), int64(4), object(1)\n",
            "memory usage: 28.7+ KB\n"
          ]
        }
      ]
    },
    {
      "cell_type": "code",
      "metadata": {
        "colab": {
          "base_uri": "https://localhost:8080/",
          "height": 1000
        },
        "id": "4c1iMnCmzD54",
        "outputId": "0983785e-6321-4068-857e-d4791c18ba07"
      },
      "source": [
        "for i in df._get_numeric_data().columns:\n",
        "  fig, axes = plt.subplots(nrows=1, ncols=1, figsize=(20, 2))\n",
        "  sns.boxplot(data=df[i], orient=\"h\", color='c').set_title(i)\n",
        "  plt.show()\n"
      ],
      "execution_count": 9,
      "outputs": [
        {
          "output_type": "display_data",
          "data": {
            "image/png": "[encoded data removed]",
            "text/plain": [
              "<Figure size 1440x144 with 1 Axes>"
            ]
          },
          "metadata": {
            "needs_background": "light"
          }
        },
        {
          "output_type": "display_data",
          "data": {
            "image/png": "[encoded data removed]",
            "text/plain": [
              "<Figure size 1440x144 with 1 Axes>"
            ]
          },
          "metadata": {
            "needs_background": "light"
          }
        },
        {
          "output_type": "display_data",
          "data": {
            "image/png": "[encoded data removed]",
            "text/plain": [
              "<Figure size 1440x144 with 1 Axes>"
            ]
          },
          "metadata": {
            "needs_background": "light"
          }
        },
        {
          "output_type": "display_data",
          "data": {
            "image/png": "[encoded data removed]",
            "text/plain": [
              "<Figure size 1440x144 with 1 Axes>"
            ]
          },
          "metadata": {
            "needs_background": "light"
          }
        },
        {
          "output_type": "display_data",
          "data": {
            "image/png": "[encoded data removed]",
            "text/plain": [
              "<Figure size 1440x144 with 1 Axes>"
            ]
          },
          "metadata": {
            "needs_background": "light"
          }
        },
        {
          "output_type": "display_data",
          "data": {
            "image/png": "[encoded data removed]",
            "text/plain": [
              "<Figure size 1440x144 with 1 Axes>"
            ]
          },
          "metadata": {
            "needs_background": "light"
          }
        },
        {
          "output_type": "display_data",
          "data": {
            "image/png": "[encoded data removed]",
            "text/plain": [
              "<Figure size 1440x144 with 1 Axes>"
            ]
          },
          "metadata": {
            "needs_background": "light"
          }
        },
        {
          "output_type": "display_data",
          "data": {
            "image/png": "[encoded data removed]",
            "text/plain": [
              "<Figure size 1440x144 with 1 Axes>"
            ]
          },
          "metadata": {
            "needs_background": "light"
          }
        }
      ]
    },
    {
      "cell_type": "code",
      "metadata": {
        "colab": {
          "base_uri": "https://localhost:8080/",
          "height": 1000
        },
        "id": "ab_dM8id05bT",
        "outputId": "cb5d3df3-e445-4e36-c9f7-367359c4f59e"
      },
      "source": [
        "for i in df._get_numeric_data().columns:\n",
        "  fig, axes = plt.subplots(nrows=1, ncols=2, figsize=(20, 4))\n",
        "  sns.histplot(df[i], bins=10, ax=axes[0], color='c')\n",
        "  axes[0].set_title(i)\n",
        "  sns.kdeplot(df[i], ax=axes[1], color='c')\n",
        "  axes[1].set_title(i)\n",
        "  plt.show()"
      ],
      "execution_count": 10,
      "outputs": [
        {
          "output_type": "display_data",
          "data": {
            "image/png": "[encoded data removed]",
            "text/plain": [
              "<Figure size 1440x288 with 2 Axes>"
            ]
          },
          "metadata": {
            "needs_background": "light"
          }
        },
        {
          "output_type": "display_data",
          "data": {
            "image/png": "[encoded data removed]",
            "text/plain": [
              "<Figure size 1440x288 with 2 Axes>"
            ]
          },
          "metadata": {
            "needs_background": "light"
          }
        },
        {
          "output_type": "display_data",
          "data": {
            "image/png": "[encoded data removed]",
            "text/plain": [
              "<Figure size 1440x288 with 2 Axes>"
            ]
          },
          "metadata": {
            "needs_background": "light"
          }
        },
        {
          "output_type": "display_data",
          "data": {
            "image/png": "[encoded data removed]",
            "text/plain": [
              "<Figure size 1440x288 with 2 Axes>"
            ]
          },
          "metadata": {
            "needs_background": "light"
          }
        },
        {
          "output_type": "display_data",
          "data": {
            "image/png": "[encoded data removed]",
            "text/plain": [
              "<Figure size 1440x288 with 2 Axes>"
            ]
          },
          "metadata": {
            "needs_background": "light"
          }
        },
        {
          "output_type": "display_data",
          "data": {
            "image/png": "[encoded data removed]",
            "text/plain": [
              "<Figure size 1440x288 with 2 Axes>"
            ]
          },
          "metadata": {
            "needs_background": "light"
          }
        },
        {
          "output_type": "display_data",
          "data": {
            "image/png": "[encoded data removed]",
            "text/plain": [
              "<Figure size 1440x288 with 2 Axes>"
            ]
          },
          "metadata": {
            "needs_background": "light"
          }
        },
        {
          "output_type": "display_data",
          "data": {
            "image/png": "[encoded data removed]",
            "text/plain": [
              "<Figure size 1440x288 with 2 Axes>"
            ]
          },
          "metadata": {
            "needs_background": "light"
          }
        }
      ]
    },
    {
      "cell_type": "code",
      "metadata": {
        "colab": {
          "base_uri": "https://localhost:8080/",
          "height": 596
        },
        "id": "4CzRcNrN9qos",
        "outputId": "78ebc602-518f-463b-8f93-e74f1b55a7bc"
      },
      "source": [
        "f, ax = plt.subplots(figsize=(20, 10))\n",
        "sns.heatmap(df.corr(), annot=True, center=0,cmap=\"vlag\",linewidths=0.4)\n",
        "plt.show()"
      ],
      "execution_count": 11,
      "outputs": [
        {
          "output_type": "display_data",
          "data": {
            "image/png": "[encoded data removed]",
            "text/plain": [
              "<Figure size 1440x720 with 2 Axes>"
            ]
          },
          "metadata": {
            "needs_background": "light"
          }
        }
      ]
    },
    {
      "cell_type": "markdown",
      "metadata": {
        "id": "Nna9xdB-_UKD"
      },
      "source": [
        "# Σχέση Mpg με τις μεταβλητές weight, horsepower, model year και cylinders"
      ]
    },
    {
      "cell_type": "code",
      "metadata": {
        "colab": {
          "base_uri": "https://localhost:8080/",
          "height": 1000
        },
        "id": "4Mz97nV63WQM",
        "outputId": "4f7960af-0c7c-4b19-8b97-abfdebafef4f"
      },
      "source": [
        "df['weight'] = df['weight'].astype(float)\n",
        "\n",
        "\n",
        "for x in ['weight','horsepower','model year','cylinders']:\n",
        "  if df[x].dtypes == float:\n",
        "    bin_size=(df[x].max()-df[x].min())/10\n",
        "    bins=[df[x].min()]\n",
        "    for i in range(10):\n",
        "      bins.append(bins[0]+(i+1)*bin_size)\n",
        "  \n",
        "    fig = plt.subplots(nrows=1, ncols=1, figsize=(20, 4))\n",
        "    out = pd.cut(df[x], bins, include_lowest=True)\n",
        "    sns.barplot(x=out, y='mpg',color='c' , data=df)\n",
        "  else:\n",
        "    fig= plt.subplots(nrows=1, ncols=1, figsize=(20, 4))\n",
        "    sns.barplot(x=x, y='mpg',color='c' , data=df)\n",
        "    plt.ylabel('average mpg per vehicle')\n",
        "\n",
        "  \n",
        "  plt.show()"
      ],
      "execution_count": 12,
      "outputs": [
        {
          "output_type": "display_data",
          "data": {
            "image/png": "[encoded data removed]",
            "text/plain": [
              "<Figure size 1440x288 with 1 Axes>"
            ]
          },
          "metadata": {
            "needs_background": "light"
          }
        },
        {
          "output_type": "display_data",
          "data": {
            "image/png": "[encoded data removed]",
            "text/plain": [
              "<Figure size 1440x288 with 1 Axes>"
            ]
          },
          "metadata": {
            "needs_background": "light"
          }
        },
        {
          "output_type": "display_data",
          "data": {
            "image/png": "[encoded data removed]",
            "text/plain": [
              "<Figure size 1440x288 with 1 Axes>"
            ]
          },
          "metadata": {
            "needs_background": "light"
          }
        },
        {
          "output_type": "display_data",
          "data": {
            "image/png": "[encoded data removed]",
            "text/plain": [
              "<Figure size 1440x288 with 1 Axes>"
            ]
          },
          "metadata": {
            "needs_background": "light"
          }
        }
      ]
    },
    {
      "cell_type": "code",
      "metadata": {
        "colab": {
          "base_uri": "https://localhost:8080/",
          "height": 279
        },
        "id": "bCPdf-iFygzR",
        "outputId": "8c41c025-0177-463b-fce1-6135fee157ce"
      },
      "source": [
        "fig= plt.subplots(nrows=1, ncols=1, figsize=(20, 4))\n",
        "sns.barplot(x='cylinders', y='displayments', data=df, color='c')\n",
        "  \n",
        "plt.show()"
      ],
      "execution_count": 13,
      "outputs": [
        {
          "output_type": "display_data",
          "data": {
            "image/png": "[encoded data removed]",
            "text/plain": [
              "<Figure size 1440x288 with 1 Axes>"
            ]
          },
          "metadata": {
            "needs_background": "light"
          }
        }
      ]
    },
    {
      "cell_type": "code",
      "metadata": {
        "colab": {
          "base_uri": "https://localhost:8080/",
          "height": 280
        },
        "id": "hNySGHSNKt-r",
        "outputId": "35d9cdf2-820b-4b28-d935-3ab55af533cb"
      },
      "source": [
        "displayments_map = pd.cut(df['displayments'],bins=(67,97,121,190,300,456))  #μπορώ να βάλω bins=5\n",
        "df2= pd.DataFrame({\n",
        "    'displayments_map':displayments_map,\n",
        "    'mpg':df['mpg']\n",
        "})\n",
        "\n",
        "#df2.groupby('displayments_map')['mpg'].count() check the bins\n",
        "\n",
        "df2 = pd.concat([df2, df['horsepower']], axis=1)\n",
        "\n",
        "fig = plt.subplots(nrows=1, ncols=1, figsize=(20, 4))\n",
        "sns.barplot(x='displayments_map', y='horsepower', data=df2, color='c')\n",
        "\n",
        "plt.show()"
      ],
      "execution_count": 14,
      "outputs": [
        {
          "output_type": "display_data",
          "data": {
            "image/png": "[encoded data removed]",
            "text/plain": [
              "<Figure size 1440x288 with 1 Axes>"
            ]
          },
          "metadata": {
            "needs_background": "light"
          }
        }
      ]
    },
    {
      "cell_type": "markdown",
      "metadata": {
        "id": "rdZQ-UetLb3H"
      },
      "source": [
        "\n",
        "# Preprocessing"
      ]
    },
    {
      "cell_type": "code",
      "metadata": {
        "colab": {
          "base_uri": "https://localhost:8080/",
          "height": 297
        },
        "id": "WqvR0scgLI9d",
        "outputId": "f83d3ebc-45b3-40fc-dbd9-1ddd77cb070a"
      },
      "source": [
        "df[df['mpg'].isnull()]"
      ],
      "execution_count": 211,
      "outputs": [
        {
          "output_type": "execute_result",
          "data": {
            "text/html": [
              "<div>\n",
              "<style scoped>\n",
              "    .dataframe tbody tr th:only-of-type {\n",
              "        vertical-align: middle;\n",
              "    }\n",
              "\n",
              "    .dataframe tbody tr th {\n",
              "        vertical-align: top;\n",
              "    }\n",
              "\n",
              "    .dataframe thead th {\n",
              "        text-align: right;\n",
              "    }\n",
              "</style>\n",
              "<table border=\"1\" class=\"dataframe\">\n",
              "  <thead>\n",
              "    <tr style=\"text-align: right;\">\n",
              "      <th></th>\n",
              "      <th>mpg</th>\n",
              "      <th>cylinders</th>\n",
              "      <th>displayments</th>\n",
              "      <th>horsepower</th>\n",
              "      <th>weight</th>\n",
              "      <th>acceleration</th>\n",
              "      <th>model year</th>\n",
              "      <th>origin</th>\n",
              "      <th>car name</th>\n",
              "    </tr>\n",
              "  </thead>\n",
              "  <tbody>\n",
              "    <tr>\n",
              "      <th>10</th>\n",
              "      <td>NaN</td>\n",
              "      <td>4</td>\n",
              "      <td>133.0</td>\n",
              "      <td>115.0</td>\n",
              "      <td>3090</td>\n",
              "      <td>17.5</td>\n",
              "      <td>70</td>\n",
              "      <td>2</td>\n",
              "      <td>citroen ds-21 pallas</td>\n",
              "    </tr>\n",
              "    <tr>\n",
              "      <th>11</th>\n",
              "      <td>NaN</td>\n",
              "      <td>8</td>\n",
              "      <td>350.0</td>\n",
              "      <td>165.0</td>\n",
              "      <td>4142</td>\n",
              "      <td>11.5</td>\n",
              "      <td>70</td>\n",
              "      <td>1</td>\n",
              "      <td>chevrolet chevelle concours (sw)</td>\n",
              "    </tr>\n",
              "    <tr>\n",
              "      <th>12</th>\n",
              "      <td>NaN</td>\n",
              "      <td>8</td>\n",
              "      <td>351.0</td>\n",
              "      <td>153.0</td>\n",
              "      <td>4034</td>\n",
              "      <td>11.0</td>\n",
              "      <td>70</td>\n",
              "      <td>1</td>\n",
              "      <td>ford torino (sw)</td>\n",
              "    </tr>\n",
              "    <tr>\n",
              "      <th>13</th>\n",
              "      <td>NaN</td>\n",
              "      <td>8</td>\n",
              "      <td>383.0</td>\n",
              "      <td>175.0</td>\n",
              "      <td>4166</td>\n",
              "      <td>10.5</td>\n",
              "      <td>70</td>\n",
              "      <td>1</td>\n",
              "      <td>plymouth satellite (sw)</td>\n",
              "    </tr>\n",
              "    <tr>\n",
              "      <th>14</th>\n",
              "      <td>NaN</td>\n",
              "      <td>8</td>\n",
              "      <td>360.0</td>\n",
              "      <td>175.0</td>\n",
              "      <td>3850</td>\n",
              "      <td>11.0</td>\n",
              "      <td>70</td>\n",
              "      <td>1</td>\n",
              "      <td>amc rebel sst (sw)</td>\n",
              "    </tr>\n",
              "    <tr>\n",
              "      <th>17</th>\n",
              "      <td>NaN</td>\n",
              "      <td>8</td>\n",
              "      <td>302.0</td>\n",
              "      <td>140.0</td>\n",
              "      <td>3353</td>\n",
              "      <td>8.0</td>\n",
              "      <td>70</td>\n",
              "      <td>1</td>\n",
              "      <td>ford mustang boss 302</td>\n",
              "    </tr>\n",
              "    <tr>\n",
              "      <th>39</th>\n",
              "      <td>NaN</td>\n",
              "      <td>4</td>\n",
              "      <td>97.0</td>\n",
              "      <td>48.0</td>\n",
              "      <td>1978</td>\n",
              "      <td>20.0</td>\n",
              "      <td>71</td>\n",
              "      <td>2</td>\n",
              "      <td>volkswagen super beetle 117</td>\n",
              "    </tr>\n",
              "    <tr>\n",
              "      <th>367</th>\n",
              "      <td>NaN</td>\n",
              "      <td>4</td>\n",
              "      <td>121.0</td>\n",
              "      <td>110.0</td>\n",
              "      <td>2800</td>\n",
              "      <td>15.4</td>\n",
              "      <td>81</td>\n",
              "      <td>2</td>\n",
              "      <td>saab 900s</td>\n",
              "    </tr>\n",
              "  </tbody>\n",
              "</table>\n",
              "</div>"
            ],
            "text/plain": [
              "     mpg  cylinders  ...  origin                          car name\n",
              "10   NaN          4  ...       2              citroen ds-21 pallas\n",
              "11   NaN          8  ...       1  chevrolet chevelle concours (sw)\n",
              "12   NaN          8  ...       1                  ford torino (sw)\n",
              "13   NaN          8  ...       1           plymouth satellite (sw)\n",
              "14   NaN          8  ...       1                amc rebel sst (sw)\n",
              "17   NaN          8  ...       1             ford mustang boss 302\n",
              "39   NaN          4  ...       2       volkswagen super beetle 117\n",
              "367  NaN          4  ...       2                         saab 900s\n",
              "\n",
              "[8 rows x 9 columns]"
            ]
          },
          "metadata": {},
          "execution_count": 211
        }
      ]
    },
    {
      "cell_type": "code",
      "metadata": {
        "colab": {
          "base_uri": "https://localhost:8080/",
          "height": 235
        },
        "id": "PCX4A1r9Kkac",
        "outputId": "87276621-ce99-4123-fcc8-bf55cceab675"
      },
      "source": [
        "df[df['horsepower'].isnull()]"
      ],
      "execution_count": 212,
      "outputs": [
        {
          "output_type": "execute_result",
          "data": {
            "text/html": [
              "<div>\n",
              "<style scoped>\n",
              "    .dataframe tbody tr th:only-of-type {\n",
              "        vertical-align: middle;\n",
              "    }\n",
              "\n",
              "    .dataframe tbody tr th {\n",
              "        vertical-align: top;\n",
              "    }\n",
              "\n",
              "    .dataframe thead th {\n",
              "        text-align: right;\n",
              "    }\n",
              "</style>\n",
              "<table border=\"1\" class=\"dataframe\">\n",
              "  <thead>\n",
              "    <tr style=\"text-align: right;\">\n",
              "      <th></th>\n",
              "      <th>mpg</th>\n",
              "      <th>cylinders</th>\n",
              "      <th>displayments</th>\n",
              "      <th>horsepower</th>\n",
              "      <th>weight</th>\n",
              "      <th>acceleration</th>\n",
              "      <th>model year</th>\n",
              "      <th>origin</th>\n",
              "      <th>car name</th>\n",
              "    </tr>\n",
              "  </thead>\n",
              "  <tbody>\n",
              "    <tr>\n",
              "      <th>38</th>\n",
              "      <td>25.0</td>\n",
              "      <td>4</td>\n",
              "      <td>98.0</td>\n",
              "      <td>NaN</td>\n",
              "      <td>2046</td>\n",
              "      <td>19.0</td>\n",
              "      <td>71</td>\n",
              "      <td>1</td>\n",
              "      <td>ford pinto</td>\n",
              "    </tr>\n",
              "    <tr>\n",
              "      <th>133</th>\n",
              "      <td>21.0</td>\n",
              "      <td>6</td>\n",
              "      <td>200.0</td>\n",
              "      <td>NaN</td>\n",
              "      <td>2875</td>\n",
              "      <td>17.0</td>\n",
              "      <td>74</td>\n",
              "      <td>1</td>\n",
              "      <td>ford maverick</td>\n",
              "    </tr>\n",
              "    <tr>\n",
              "      <th>337</th>\n",
              "      <td>40.9</td>\n",
              "      <td>4</td>\n",
              "      <td>85.0</td>\n",
              "      <td>NaN</td>\n",
              "      <td>1835</td>\n",
              "      <td>17.3</td>\n",
              "      <td>80</td>\n",
              "      <td>2</td>\n",
              "      <td>renault lecar deluxe</td>\n",
              "    </tr>\n",
              "    <tr>\n",
              "      <th>343</th>\n",
              "      <td>23.6</td>\n",
              "      <td>4</td>\n",
              "      <td>140.0</td>\n",
              "      <td>NaN</td>\n",
              "      <td>2905</td>\n",
              "      <td>14.3</td>\n",
              "      <td>80</td>\n",
              "      <td>1</td>\n",
              "      <td>ford mustang cobra</td>\n",
              "    </tr>\n",
              "    <tr>\n",
              "      <th>361</th>\n",
              "      <td>34.5</td>\n",
              "      <td>4</td>\n",
              "      <td>100.0</td>\n",
              "      <td>NaN</td>\n",
              "      <td>2320</td>\n",
              "      <td>15.8</td>\n",
              "      <td>81</td>\n",
              "      <td>2</td>\n",
              "      <td>renault 18i</td>\n",
              "    </tr>\n",
              "    <tr>\n",
              "      <th>382</th>\n",
              "      <td>23.0</td>\n",
              "      <td>4</td>\n",
              "      <td>151.0</td>\n",
              "      <td>NaN</td>\n",
              "      <td>3035</td>\n",
              "      <td>20.5</td>\n",
              "      <td>82</td>\n",
              "      <td>1</td>\n",
              "      <td>amc concord dl</td>\n",
              "    </tr>\n",
              "  </tbody>\n",
              "</table>\n",
              "</div>"
            ],
            "text/plain": [
              "      mpg  cylinders  displayments  ...  model year  origin              car name\n",
              "38   25.0          4          98.0  ...          71       1            ford pinto\n",
              "133  21.0          6         200.0  ...          74       1         ford maverick\n",
              "337  40.9          4          85.0  ...          80       2  renault lecar deluxe\n",
              "343  23.6          4         140.0  ...          80       1    ford mustang cobra\n",
              "361  34.5          4         100.0  ...          81       2           renault 18i\n",
              "382  23.0          4         151.0  ...          82       1        amc concord dl\n",
              "\n",
              "[6 rows x 9 columns]"
            ]
          },
          "metadata": {},
          "execution_count": 212
        }
      ]
    },
    {
      "cell_type": "code",
      "metadata": {
        "id": "Ms71JbDDzWru",
        "colab": {
          "base_uri": "https://localhost:8080/"
        },
        "outputId": "1a90a385-b157-41af-b56b-f17411816223"
      },
      "source": [
        "df.isna().sum()"
      ],
      "execution_count": 213,
      "outputs": [
        {
          "output_type": "execute_result",
          "data": {
            "text/plain": [
              "mpg             8\n",
              "cylinders       0\n",
              "displayments    0\n",
              "horsepower      6\n",
              "weight          0\n",
              "acceleration    0\n",
              "model year      0\n",
              "origin          0\n",
              "car name        0\n",
              "dtype: int64"
            ]
          },
          "metadata": {},
          "execution_count": 213
        }
      ]
    },
    {
      "cell_type": "markdown",
      "metadata": {
        "id": "qNGNoHpGVzIC"
      },
      "source": [
        "Missing Values in mpg"
      ]
    },
    {
      "cell_type": "code",
      "metadata": {
        "id": "tEyII2yfUh3e"
      },
      "source": [
        "df_re_missing = df.dropna(axis = 0,subset=['mpg'])"
      ],
      "execution_count": 214,
      "outputs": []
    },
    {
      "cell_type": "markdown",
      "metadata": {
        "id": "6mShbRDdV4bV"
      },
      "source": [
        "Missing Values in horsepower"
      ]
    },
    {
      "cell_type": "code",
      "metadata": {
        "id": "-YuBP-zpdkw7",
        "colab": {
          "base_uri": "https://localhost:8080/"
        },
        "outputId": "d329bc97-6d2d-4aae-ddd2-92863a4bff09"
      },
      "source": [
        "median_value = df_re_missing['horsepower'].median()\n",
        "df_re_missing['horsepower'] =df_re_missing['horsepower'].fillna(median_value)\n",
        "\n",
        "df_re_missing.isna().sum()"
      ],
      "execution_count": 215,
      "outputs": [
        {
          "output_type": "stream",
          "name": "stderr",
          "text": [
            "/usr/local/lib/python3.7/dist-packages/ipykernel_launcher.py:2: SettingWithCopyWarning: \n",
            "A value is trying to be set on a copy of a slice from a DataFrame.\n",
            "Try using .loc[row_indexer,col_indexer] = value instead\n",
            "\n",
            "See the caveats in the documentation: https://pandas.pydata.org/pandas-docs/stable/user_guide/indexing.html#returning-a-view-versus-a-copy\n",
            "  \n"
          ]
        },
        {
          "output_type": "execute_result",
          "data": {
            "text/plain": [
              "mpg             0\n",
              "cylinders       0\n",
              "displayments    0\n",
              "horsepower      0\n",
              "weight          0\n",
              "acceleration    0\n",
              "model year      0\n",
              "origin          0\n",
              "car name        0\n",
              "dtype: int64"
            ]
          },
          "metadata": {},
          "execution_count": 215
        }
      ]
    },
    {
      "cell_type": "code",
      "metadata": {
        "id": "rV6POVh8X4FQ"
      },
      "source": [
        "df_prepro = df_re_missing.copy()"
      ],
      "execution_count": 216,
      "outputs": []
    },
    {
      "cell_type": "code",
      "metadata": {
        "id": "2aS6uZ_uMlRH"
      },
      "source": [
        "df_prepro['car_company'] = df_prepro['car name'].apply(lambda x: x.split()[0])"
      ],
      "execution_count": 217,
      "outputs": []
    },
    {
      "cell_type": "code",
      "metadata": {
        "colab": {
          "base_uri": "https://localhost:8080/"
        },
        "id": "2PVJPcDLNlra",
        "outputId": "4418022b-1e30-497e-ab33-29807dc934f1"
      },
      "source": [
        "df_prepro['car_company'].value_counts()"
      ],
      "execution_count": 218,
      "outputs": [
        {
          "output_type": "execute_result",
          "data": {
            "text/plain": [
              "ford             51\n",
              "chevrolet        43\n",
              "plymouth         31\n",
              "amc              28\n",
              "dodge            28\n",
              "toyota           25\n",
              "datsun           23\n",
              "buick            17\n",
              "pontiac          16\n",
              "volkswagen       15\n",
              "honda            13\n",
              "mercury          11\n",
              "oldsmobile       10\n",
              "mazda            10\n",
              "fiat              8\n",
              "peugeot           8\n",
              "audi              7\n",
              "vw                6\n",
              "chrysler          6\n",
              "volvo             6\n",
              "renault           5\n",
              "saab              4\n",
              "subaru            4\n",
              "opel              4\n",
              "chevy             3\n",
              "bmw               2\n",
              "mercedes-benz     2\n",
              "maxda             2\n",
              "cadillac          2\n",
              "toyouta           1\n",
              "triumph           1\n",
              "hi                1\n",
              "nissan            1\n",
              "mercedes          1\n",
              "chevroelt         1\n",
              "capri             1\n",
              "vokswagen         1\n",
              "Name: car_company, dtype: int64"
            ]
          },
          "metadata": {},
          "execution_count": 218
        }
      ]
    },
    {
      "cell_type": "code",
      "metadata": {
        "colab": {
          "base_uri": "https://localhost:8080/"
        },
        "id": "NttRtP8PayXB",
        "outputId": "104f29f0-5247-414b-d379-39e33b0fe65a"
      },
      "source": [
        "df_prepro['car_company'].unique()"
      ],
      "execution_count": 219,
      "outputs": [
        {
          "output_type": "execute_result",
          "data": {
            "text/plain": [
              "array(['chevrolet', 'buick', 'plymouth', 'amc', 'ford', 'pontiac',\n",
              "       'dodge', 'toyota', 'datsun', 'volkswagen', 'peugeot', 'audi',\n",
              "       'saab', 'bmw', 'chevy', 'hi', 'mercury', 'opel', 'fiat',\n",
              "       'oldsmobile', 'chrysler', 'mazda', 'volvo', 'renault', 'toyouta',\n",
              "       'maxda', 'honda', 'subaru', 'chevroelt', 'capri', 'vw',\n",
              "       'mercedes-benz', 'cadillac', 'mercedes', 'vokswagen', 'triumph',\n",
              "       'nissan'], dtype=object)"
            ]
          },
          "metadata": {},
          "execution_count": 219
        }
      ]
    },
    {
      "cell_type": "code",
      "metadata": {
        "id": "36HlJu4ENePV"
      },
      "source": [
        "df_prepro.replace({'vokswagen': 'volkswagen',\n",
        "            'vw': 'volkswagen', \n",
        "            'maxda': 'mazda', \n",
        "            'toyouta': 'toyota',\n",
        "            'mercedes-benz': 'mercedes',\n",
        "            'chevy': 'chevrolet',\n",
        "            'chevroelt': 'chevrolet',\n",
        "            'capri': 'ford'}, inplace=True)"
      ],
      "execution_count": 220,
      "outputs": []
    },
    {
      "cell_type": "code",
      "metadata": {
        "colab": {
          "base_uri": "https://localhost:8080/"
        },
        "id": "KyMUsP2INE7y",
        "outputId": "0e9ea820-2a7f-4ea8-a4bb-0c3139a436c8"
      },
      "source": [
        "df_prepro['car_company'].nunique()"
      ],
      "execution_count": 221,
      "outputs": [
        {
          "output_type": "execute_result",
          "data": {
            "text/plain": [
              "29"
            ]
          },
          "metadata": {},
          "execution_count": 221
        }
      ]
    },
    {
      "cell_type": "code",
      "metadata": {
        "colab": {
          "base_uri": "https://localhost:8080/"
        },
        "id": "rGTLY9xJNOZL",
        "outputId": "ef26dd6c-3738-41fe-908f-566d58a7c195"
      },
      "source": [
        "df_prepro.groupby('origin')['car_company'].nunique()"
      ],
      "execution_count": 222,
      "outputs": [
        {
          "output_type": "execute_result",
          "data": {
            "text/plain": [
              "origin\n",
              "1    12\n",
              "2    11\n",
              "3     6\n",
              "Name: car_company, dtype: int64"
            ]
          },
          "metadata": {},
          "execution_count": 222
        }
      ]
    },
    {
      "cell_type": "code",
      "metadata": {
        "id": "Gv5QhAHdP2Sl",
        "colab": {
          "base_uri": "https://localhost:8080/",
          "height": 325
        },
        "outputId": "70432208-00da-49fb-c182-bad325cf38f7"
      },
      "source": [
        "fig = plt.subplots(nrows=1, ncols=1, figsize=(20, 4))\n",
        "sns.barplot(x='car_company', y='mpg', data=df_prepro, color='c')\n",
        "plt.xticks(rotation=60)\n",
        "\n",
        "plt.show()"
      ],
      "execution_count": 27,
      "outputs": [
        {
          "output_type": "display_data",
          "data": {
            "image/png": "[encoded data removed]",
            "text/plain": [
              "<Figure size 1440x288 with 1 Axes>"
            ]
          },
          "metadata": {
            "needs_background": "light"
          }
        }
      ]
    },
    {
      "cell_type": "markdown",
      "metadata": {
        "id": "gLTYpre8P2wt"
      },
      "source": [
        "# Outliers"
      ]
    },
    {
      "cell_type": "code",
      "metadata": {
        "colab": {
          "base_uri": "https://localhost:8080/",
          "height": 501
        },
        "id": "57b1LiXcN0po",
        "outputId": "7ca6c416-2655-4d4f-b865-77bd5252f661"
      },
      "source": [
        "fig, axes = plt.subplots(figsize=(18, 6), nrows=1, ncols=3, dpi=90)\n",
        "\n",
        "sns.scatterplot(x=\"weight\", y=\"mpg\", data=df_prepro, ax=axes[0], color='c')\n",
        "axes[0].set_title(\"Weight vs Miles per Gallon\")\n",
        "\n",
        "sns.scatterplot(x=\"weight\", y=\"acceleration\", data=df_prepro, ax=axes[1], color='c')\n",
        "axes[1].set_title(\"Weight vs Acceleration\")\n",
        "\n",
        "sns.scatterplot(x=\"weight\", y=\"horsepower\", data=df_prepro,  ax=axes[2], color='c')\n",
        "axes[2].set_title(\"Weight vs Horsepower\")\n",
        "\n",
        "plt.show()"
      ],
      "execution_count": 28,
      "outputs": [
        {
          "output_type": "display_data",
          "data": {
            "image/png": "[encoded data removed]",
            "text/plain": [
              "<Figure size 1620x540 with 3 Axes>"
            ]
          },
          "metadata": {
            "needs_background": "light"
          }
        }
      ]
    },
    {
      "cell_type": "code",
      "metadata": {
        "colab": {
          "base_uri": "https://localhost:8080/",
          "height": 501
        },
        "id": "HUJ0lBeUXiPI",
        "outputId": "5bbd182a-4c08-4749-fbf0-dfb3254c0c4c"
      },
      "source": [
        "fig, axes = plt.subplots(figsize=(18, 6), nrows=1, ncols=3, dpi=90)\n",
        "\n",
        "sns.scatterplot(x=\"weight\", y=\"mpg\", data=df_prepro, ax=axes[0], color='c')\n",
        "axes[0].set_title(\"Weight vs Miles per Gallon\")\n",
        "\n",
        "sns.scatterplot(x=\"acceleration\", y=\"mpg\", data=df_prepro, ax=axes[1], color='c')\n",
        "axes[1].set_title(\"Acceleration vs Miles per Gallon\")\n",
        "\n",
        "sns.scatterplot(x=\"horsepower\", y=\"mpg\", data=df_prepro,  ax=axes[2], color='c')\n",
        "axes[2].set_title(\"Horsepower vs Miles per Gallon\")\n",
        "\n",
        "plt.show()"
      ],
      "execution_count": 29,
      "outputs": [
        {
          "output_type": "display_data",
          "data": {
            "image/png": "[encoded data removed]",
            "text/plain": [
              "<Figure size 1620x540 with 3 Axes>"
            ]
          },
          "metadata": {
            "needs_background": "light"
          }
        }
      ]
    },
    {
      "cell_type": "code",
      "metadata": {
        "colab": {
          "base_uri": "https://localhost:8080/"
        },
        "id": "3j71ENVpUfXw",
        "outputId": "e0093775-dc41-497c-f410-197c66a8a39f"
      },
      "source": [
        "df_prepro.shape"
      ],
      "execution_count": 223,
      "outputs": [
        {
          "output_type": "execute_result",
          "data": {
            "text/plain": [
              "(398, 10)"
            ]
          },
          "metadata": {},
          "execution_count": 223
        }
      ]
    },
    {
      "cell_type": "code",
      "metadata": {
        "id": "S9cwDkOkTkTw"
      },
      "source": [
        "def outliers(df, col_name, q1=0.10, q3=0.90):\n",
        "  quartile1 = df[col_name].quantile(q1)\n",
        "  quartile3 = df[col_name].quantile(q3)\n",
        "  IQR = quartile3 - quartile1\n",
        "  up_limit = quartile3 + 1.5 * IQR\n",
        "  low_limit = quartile1 - 1.5 * IQR\n",
        "  return df[(df[col_name]>=low_limit) & (df[col_name]<=up_limit)]"
      ],
      "execution_count": 224,
      "outputs": []
    },
    {
      "cell_type": "code",
      "metadata": {
        "colab": {
          "base_uri": "https://localhost:8080/"
        },
        "id": "TEchMT59T-3P",
        "outputId": "7cb26d18-6643-42cb-c26a-a071f8ff2a68"
      },
      "source": [
        "outliers(df_prepro,'acceleration').shape"
      ],
      "execution_count": 225,
      "outputs": [
        {
          "output_type": "execute_result",
          "data": {
            "text/plain": [
              "(398, 10)"
            ]
          },
          "metadata": {},
          "execution_count": 225
        }
      ]
    },
    {
      "cell_type": "code",
      "metadata": {
        "id": "Pp6EmNPTa8lh"
      },
      "source": [
        "df_prepro = outliers(df_prepro,'acceleration')"
      ],
      "execution_count": 226,
      "outputs": []
    },
    {
      "cell_type": "code",
      "metadata": {
        "colab": {
          "base_uri": "https://localhost:8080/"
        },
        "id": "pDzBDknOXz5M",
        "outputId": "f80e7e0d-57f0-48fc-b9d1-c6ecff22e958"
      },
      "source": [
        "outliers(df_prepro,'horsepower').shape"
      ],
      "execution_count": 227,
      "outputs": [
        {
          "output_type": "execute_result",
          "data": {
            "text/plain": [
              "(398, 10)"
            ]
          },
          "metadata": {},
          "execution_count": 227
        }
      ]
    },
    {
      "cell_type": "code",
      "metadata": {
        "id": "IwD8MX-GbC0w"
      },
      "source": [
        "df_prepro = outliers(df_prepro,'horsepower')"
      ],
      "execution_count": 228,
      "outputs": []
    },
    {
      "cell_type": "code",
      "metadata": {
        "id": "8uV87rb2YstM"
      },
      "source": [
        "df_prepro = df_prepro.drop(columns='car name')"
      ],
      "execution_count": 229,
      "outputs": []
    },
    {
      "cell_type": "code",
      "metadata": {
        "colab": {
          "base_uri": "https://localhost:8080/",
          "height": 419
        },
        "id": "z5H2SI5yY9AA",
        "outputId": "f7de234a-f24a-45b1-9cda-96c946b713b0"
      },
      "source": [
        "df_prepro"
      ],
      "execution_count": 230,
      "outputs": [
        {
          "output_type": "execute_result",
          "data": {
            "text/html": [
              "<div>\n",
              "<style scoped>\n",
              "    .dataframe tbody tr th:only-of-type {\n",
              "        vertical-align: middle;\n",
              "    }\n",
              "\n",
              "    .dataframe tbody tr th {\n",
              "        vertical-align: top;\n",
              "    }\n",
              "\n",
              "    .dataframe thead th {\n",
              "        text-align: right;\n",
              "    }\n",
              "</style>\n",
              "<table border=\"1\" class=\"dataframe\">\n",
              "  <thead>\n",
              "    <tr style=\"text-align: right;\">\n",
              "      <th></th>\n",
              "      <th>mpg</th>\n",
              "      <th>cylinders</th>\n",
              "      <th>displayments</th>\n",
              "      <th>horsepower</th>\n",
              "      <th>weight</th>\n",
              "      <th>acceleration</th>\n",
              "      <th>model year</th>\n",
              "      <th>origin</th>\n",
              "      <th>car_company</th>\n",
              "    </tr>\n",
              "  </thead>\n",
              "  <tbody>\n",
              "    <tr>\n",
              "      <th>0</th>\n",
              "      <td>18.0</td>\n",
              "      <td>8</td>\n",
              "      <td>307.0</td>\n",
              "      <td>130.0</td>\n",
              "      <td>3504</td>\n",
              "      <td>12.0</td>\n",
              "      <td>70</td>\n",
              "      <td>1</td>\n",
              "      <td>chevrolet</td>\n",
              "    </tr>\n",
              "    <tr>\n",
              "      <th>1</th>\n",
              "      <td>15.0</td>\n",
              "      <td>8</td>\n",
              "      <td>350.0</td>\n",
              "      <td>165.0</td>\n",
              "      <td>3693</td>\n",
              "      <td>11.5</td>\n",
              "      <td>70</td>\n",
              "      <td>1</td>\n",
              "      <td>buick</td>\n",
              "    </tr>\n",
              "    <tr>\n",
              "      <th>2</th>\n",
              "      <td>18.0</td>\n",
              "      <td>8</td>\n",
              "      <td>318.0</td>\n",
              "      <td>150.0</td>\n",
              "      <td>3436</td>\n",
              "      <td>11.0</td>\n",
              "      <td>70</td>\n",
              "      <td>1</td>\n",
              "      <td>plymouth</td>\n",
              "    </tr>\n",
              "    <tr>\n",
              "      <th>3</th>\n",
              "      <td>16.0</td>\n",
              "      <td>8</td>\n",
              "      <td>304.0</td>\n",
              "      <td>150.0</td>\n",
              "      <td>3433</td>\n",
              "      <td>12.0</td>\n",
              "      <td>70</td>\n",
              "      <td>1</td>\n",
              "      <td>amc</td>\n",
              "    </tr>\n",
              "    <tr>\n",
              "      <th>4</th>\n",
              "      <td>17.0</td>\n",
              "      <td>8</td>\n",
              "      <td>302.0</td>\n",
              "      <td>140.0</td>\n",
              "      <td>3449</td>\n",
              "      <td>10.5</td>\n",
              "      <td>70</td>\n",
              "      <td>1</td>\n",
              "      <td>ford</td>\n",
              "    </tr>\n",
              "    <tr>\n",
              "      <th>...</th>\n",
              "      <td>...</td>\n",
              "      <td>...</td>\n",
              "      <td>...</td>\n",
              "      <td>...</td>\n",
              "      <td>...</td>\n",
              "      <td>...</td>\n",
              "      <td>...</td>\n",
              "      <td>...</td>\n",
              "      <td>...</td>\n",
              "    </tr>\n",
              "    <tr>\n",
              "      <th>401</th>\n",
              "      <td>27.0</td>\n",
              "      <td>4</td>\n",
              "      <td>140.0</td>\n",
              "      <td>86.0</td>\n",
              "      <td>2790</td>\n",
              "      <td>15.6</td>\n",
              "      <td>82</td>\n",
              "      <td>1</td>\n",
              "      <td>ford</td>\n",
              "    </tr>\n",
              "    <tr>\n",
              "      <th>402</th>\n",
              "      <td>44.0</td>\n",
              "      <td>4</td>\n",
              "      <td>97.0</td>\n",
              "      <td>52.0</td>\n",
              "      <td>2130</td>\n",
              "      <td>24.6</td>\n",
              "      <td>82</td>\n",
              "      <td>2</td>\n",
              "      <td>volkswagen</td>\n",
              "    </tr>\n",
              "    <tr>\n",
              "      <th>403</th>\n",
              "      <td>32.0</td>\n",
              "      <td>4</td>\n",
              "      <td>135.0</td>\n",
              "      <td>84.0</td>\n",
              "      <td>2295</td>\n",
              "      <td>11.6</td>\n",
              "      <td>82</td>\n",
              "      <td>1</td>\n",
              "      <td>dodge</td>\n",
              "    </tr>\n",
              "    <tr>\n",
              "      <th>404</th>\n",
              "      <td>28.0</td>\n",
              "      <td>4</td>\n",
              "      <td>120.0</td>\n",
              "      <td>79.0</td>\n",
              "      <td>2625</td>\n",
              "      <td>18.6</td>\n",
              "      <td>82</td>\n",
              "      <td>1</td>\n",
              "      <td>ford</td>\n",
              "    </tr>\n",
              "    <tr>\n",
              "      <th>405</th>\n",
              "      <td>31.0</td>\n",
              "      <td>4</td>\n",
              "      <td>119.0</td>\n",
              "      <td>82.0</td>\n",
              "      <td>2720</td>\n",
              "      <td>19.4</td>\n",
              "      <td>82</td>\n",
              "      <td>1</td>\n",
              "      <td>chevrolet</td>\n",
              "    </tr>\n",
              "  </tbody>\n",
              "</table>\n",
              "<p>398 rows × 9 columns</p>\n",
              "</div>"
            ],
            "text/plain": [
              "      mpg  cylinders  displayments  ...  model year  origin  car_company\n",
              "0    18.0          8         307.0  ...          70       1    chevrolet\n",
              "1    15.0          8         350.0  ...          70       1        buick\n",
              "2    18.0          8         318.0  ...          70       1     plymouth\n",
              "3    16.0          8         304.0  ...          70       1          amc\n",
              "4    17.0          8         302.0  ...          70       1         ford\n",
              "..    ...        ...           ...  ...         ...     ...          ...\n",
              "401  27.0          4         140.0  ...          82       1         ford\n",
              "402  44.0          4          97.0  ...          82       2   volkswagen\n",
              "403  32.0          4         135.0  ...          82       1        dodge\n",
              "404  28.0          4         120.0  ...          82       1         ford\n",
              "405  31.0          4         119.0  ...          82       1    chevrolet\n",
              "\n",
              "[398 rows x 9 columns]"
            ]
          },
          "metadata": {},
          "execution_count": 230
        }
      ]
    },
    {
      "cell_type": "code",
      "metadata": {
        "id": "R1xRXZt_koHK"
      },
      "source": [
        "car = dict(df_prepro['car_company'].value_counts())"
      ],
      "execution_count": 231,
      "outputs": []
    },
    {
      "cell_type": "code",
      "metadata": {
        "id": "fyCZwGClkoSA"
      },
      "source": [
        "car_comp = list(car.keys())"
      ],
      "execution_count": 233,
      "outputs": []
    },
    {
      "cell_type": "code",
      "metadata": {
        "id": "1qMX5aVHmnJw"
      },
      "source": [
        "car_city = ['Dearborn, Michigan', \n",
        "'Detroit, Michigan', \n",
        "'Auburn Hills, Michigan',\n",
        "'Southfield, Michigan',\n",
        "'Auburn Hills, Michigan',\n",
        "'Aichi, Japan',\n",
        "'Tokyo, Japan',\n",
        "'Wolfsburg, Germany',\n",
        "'Detroit, Michigan',\n",
        "'Detroit, Michigan',\n",
        "'Tokyo, Japan',\n",
        "'Hiroshima, Japan',\n",
        "'Dearborn, Michigan',\n",
        "'Lansing, Michigan',\n",
        "'Turin, Italy',\n",
        "'Sochaux, France',\n",
        "'Ingolstadt, Germany',\n",
        "'Gothenburg, Sweden',\n",
        "'Detroit, Michigan',\n",
        "'Paris, France',\n",
        "'Trollhättan, Sweden',\n",
        "'Rüsselsheim am Main, Germany',\n",
        "'Tokyo, Japan',\n",
        "'Stuttgart, Germany',\n",
        "'Munich, Germany',\n",
        "'Warren, Michigan',\n",
        "'Detroit, Michigan',\n",
        "'Coventry, England',\n",
        "'Chicago, Illinois']"
      ],
      "execution_count": 234,
      "outputs": []
    },
    {
      "cell_type": "code",
      "metadata": {
        "id": "QnZzPv3haZBj"
      },
      "source": [
        "res = dict(zip(list(car.keys()), car_city))\n",
        "df_prepro_powerbi = df_prepro.copy()\n",
        "car_list = []\n",
        "for i in df_prepro_powerbi['car_company']:\n",
        "  car_list.append(res[i])\n",
        "\n",
        "car_list = pd.DataFrame(car_list)\n",
        "car_list.index = df_prepro_powerbi.index\n",
        "df_prepro_powerbi['car_list']= pd.DataFrame(car_list)"
      ],
      "execution_count": 235,
      "outputs": []
    },
    {
      "cell_type": "code",
      "metadata": {
        "colab": {
          "base_uri": "https://localhost:8080/"
        },
        "id": "A7moegJibOaa",
        "outputId": "9aa85852-9763-4b77-9291-cc12dad4b99e"
      },
      "source": [
        "df_prepro_powerbi.columns"
      ],
      "execution_count": 236,
      "outputs": [
        {
          "output_type": "execute_result",
          "data": {
            "text/plain": [
              "Index(['mpg', 'cylinders', 'displayments', 'horsepower', 'weight',\n",
              "       'acceleration', 'model year', 'origin', 'car_company', 'car_list'],\n",
              "      dtype='object')"
            ]
          },
          "metadata": {},
          "execution_count": 236
        }
      ]
    },
    {
      "cell_type": "code",
      "metadata": {
        "id": "HbUhrzg6AYuo"
      },
      "source": [
        "new = df_prepro_powerbi[\"car_list\"].str.split(\",\", n = 1, expand = True)\n",
        "  \n",
        "# making separate first name column from new data frame\n",
        "df_prepro_powerbi[\"City\"]= new[0]\n",
        "  \n",
        "# making separate last name column from new data frame\n",
        "df_prepro_powerbi[\"Country\"]= new[1]"
      ],
      "execution_count": 43,
      "outputs": []
    },
    {
      "cell_type": "code",
      "metadata": {
        "colab": {
          "base_uri": "https://localhost:8080/"
        },
        "id": "mah1GOdnAY3q",
        "outputId": "670681d6-6689-4eca-da39-1540957c2e47"
      },
      "source": [
        "df_prepro_powerbi['City'].unique()  #21"
      ],
      "execution_count": 44,
      "outputs": [
        {
          "output_type": "execute_result",
          "data": {
            "text/plain": [
              "array(['Detroit', 'Auburn Hills', 'Southfield', 'Dearborn', 'Aichi',\n",
              "       'Tokyo', 'Wolfsburg', 'Turin', 'Ingolstadt', 'Munich', 'Coventry',\n",
              "       'Rüsselsheim am Main', 'Sochaux', 'Lansing', 'Hiroshima',\n",
              "       'Gothenburg', 'Paris', 'Trollhättan', 'Stuttgart', 'Warren',\n",
              "       'Chicago'], dtype=object)"
            ]
          },
          "metadata": {},
          "execution_count": 44
        }
      ]
    },
    {
      "cell_type": "code",
      "metadata": {
        "id": "o_bO-7JY96Hy",
        "colab": {
          "base_uri": "https://localhost:8080/"
        },
        "outputId": "a6015cd8-8513-416d-c29f-21d9df47a0e0"
      },
      "source": [
        "df_prepro_powerbi['Country'].unique() #8"
      ],
      "execution_count": 45,
      "outputs": [
        {
          "output_type": "execute_result",
          "data": {
            "text/plain": [
              "array([' Michigan', ' Japan', ' Germany', ' Italy', ' England', ' France',\n",
              "       ' Sweden', ' Illinois'], dtype=object)"
            ]
          },
          "metadata": {},
          "execution_count": 45
        }
      ]
    },
    {
      "cell_type": "code",
      "metadata": {
        "id": "AKHqJBvmpztB"
      },
      "source": [
        "#from google.colab import files\n",
        "#df_prepro_powerbi.to_csv('data_after_prepr.csv') \n",
        "#files.download('data_after_prepr.csv')"
      ],
      "execution_count": 46,
      "outputs": []
    },
    {
      "cell_type": "code",
      "metadata": {
        "id": "OO7r4isCcQml"
      },
      "source": [
        "#origin = df_prepro.pop('origin')\n",
        " \n",
        "#df_prepro['USA'] = (origin == 1)*1\n",
        "#df_prepro['Europe'] =(origin == 2)*1\n",
        "#df_prepro['Japan'] = (origin == 3)*1\n",
        "#df_prepro\n",
        "\n",
        "dict_region = {1:'USA',2:'Europe',3:'Japan'}\n",
        "df_prepro['origin'] = df_prepro['origin'].replace(dict_region)"
      ],
      "execution_count": 238,
      "outputs": []
    },
    {
      "cell_type": "code",
      "metadata": {
        "colab": {
          "base_uri": "https://localhost:8080/",
          "height": 419
        },
        "id": "KIgdSerMQtzV",
        "outputId": "7baf2c2e-eb12-4566-fbf4-e28d9cde8d48"
      },
      "source": [
        "df_prepro"
      ],
      "execution_count": 239,
      "outputs": [
        {
          "output_type": "execute_result",
          "data": {
            "text/html": [
              "<div>\n",
              "<style scoped>\n",
              "    .dataframe tbody tr th:only-of-type {\n",
              "        vertical-align: middle;\n",
              "    }\n",
              "\n",
              "    .dataframe tbody tr th {\n",
              "        vertical-align: top;\n",
              "    }\n",
              "\n",
              "    .dataframe thead th {\n",
              "        text-align: right;\n",
              "    }\n",
              "</style>\n",
              "<table border=\"1\" class=\"dataframe\">\n",
              "  <thead>\n",
              "    <tr style=\"text-align: right;\">\n",
              "      <th></th>\n",
              "      <th>mpg</th>\n",
              "      <th>cylinders</th>\n",
              "      <th>displayments</th>\n",
              "      <th>horsepower</th>\n",
              "      <th>weight</th>\n",
              "      <th>acceleration</th>\n",
              "      <th>model year</th>\n",
              "      <th>origin</th>\n",
              "      <th>car_company</th>\n",
              "    </tr>\n",
              "  </thead>\n",
              "  <tbody>\n",
              "    <tr>\n",
              "      <th>0</th>\n",
              "      <td>18.0</td>\n",
              "      <td>8</td>\n",
              "      <td>307.0</td>\n",
              "      <td>130.0</td>\n",
              "      <td>3504</td>\n",
              "      <td>12.0</td>\n",
              "      <td>70</td>\n",
              "      <td>USA</td>\n",
              "      <td>chevrolet</td>\n",
              "    </tr>\n",
              "    <tr>\n",
              "      <th>1</th>\n",
              "      <td>15.0</td>\n",
              "      <td>8</td>\n",
              "      <td>350.0</td>\n",
              "      <td>165.0</td>\n",
              "      <td>3693</td>\n",
              "      <td>11.5</td>\n",
              "      <td>70</td>\n",
              "      <td>USA</td>\n",
              "      <td>buick</td>\n",
              "    </tr>\n",
              "    <tr>\n",
              "      <th>2</th>\n",
              "      <td>18.0</td>\n",
              "      <td>8</td>\n",
              "      <td>318.0</td>\n",
              "      <td>150.0</td>\n",
              "      <td>3436</td>\n",
              "      <td>11.0</td>\n",
              "      <td>70</td>\n",
              "      <td>USA</td>\n",
              "      <td>plymouth</td>\n",
              "    </tr>\n",
              "    <tr>\n",
              "      <th>3</th>\n",
              "      <td>16.0</td>\n",
              "      <td>8</td>\n",
              "      <td>304.0</td>\n",
              "      <td>150.0</td>\n",
              "      <td>3433</td>\n",
              "      <td>12.0</td>\n",
              "      <td>70</td>\n",
              "      <td>USA</td>\n",
              "      <td>amc</td>\n",
              "    </tr>\n",
              "    <tr>\n",
              "      <th>4</th>\n",
              "      <td>17.0</td>\n",
              "      <td>8</td>\n",
              "      <td>302.0</td>\n",
              "      <td>140.0</td>\n",
              "      <td>3449</td>\n",
              "      <td>10.5</td>\n",
              "      <td>70</td>\n",
              "      <td>USA</td>\n",
              "      <td>ford</td>\n",
              "    </tr>\n",
              "    <tr>\n",
              "      <th>...</th>\n",
              "      <td>...</td>\n",
              "      <td>...</td>\n",
              "      <td>...</td>\n",
              "      <td>...</td>\n",
              "      <td>...</td>\n",
              "      <td>...</td>\n",
              "      <td>...</td>\n",
              "      <td>...</td>\n",
              "      <td>...</td>\n",
              "    </tr>\n",
              "    <tr>\n",
              "      <th>401</th>\n",
              "      <td>27.0</td>\n",
              "      <td>4</td>\n",
              "      <td>140.0</td>\n",
              "      <td>86.0</td>\n",
              "      <td>2790</td>\n",
              "      <td>15.6</td>\n",
              "      <td>82</td>\n",
              "      <td>USA</td>\n",
              "      <td>ford</td>\n",
              "    </tr>\n",
              "    <tr>\n",
              "      <th>402</th>\n",
              "      <td>44.0</td>\n",
              "      <td>4</td>\n",
              "      <td>97.0</td>\n",
              "      <td>52.0</td>\n",
              "      <td>2130</td>\n",
              "      <td>24.6</td>\n",
              "      <td>82</td>\n",
              "      <td>Europe</td>\n",
              "      <td>volkswagen</td>\n",
              "    </tr>\n",
              "    <tr>\n",
              "      <th>403</th>\n",
              "      <td>32.0</td>\n",
              "      <td>4</td>\n",
              "      <td>135.0</td>\n",
              "      <td>84.0</td>\n",
              "      <td>2295</td>\n",
              "      <td>11.6</td>\n",
              "      <td>82</td>\n",
              "      <td>USA</td>\n",
              "      <td>dodge</td>\n",
              "    </tr>\n",
              "    <tr>\n",
              "      <th>404</th>\n",
              "      <td>28.0</td>\n",
              "      <td>4</td>\n",
              "      <td>120.0</td>\n",
              "      <td>79.0</td>\n",
              "      <td>2625</td>\n",
              "      <td>18.6</td>\n",
              "      <td>82</td>\n",
              "      <td>USA</td>\n",
              "      <td>ford</td>\n",
              "    </tr>\n",
              "    <tr>\n",
              "      <th>405</th>\n",
              "      <td>31.0</td>\n",
              "      <td>4</td>\n",
              "      <td>119.0</td>\n",
              "      <td>82.0</td>\n",
              "      <td>2720</td>\n",
              "      <td>19.4</td>\n",
              "      <td>82</td>\n",
              "      <td>USA</td>\n",
              "      <td>chevrolet</td>\n",
              "    </tr>\n",
              "  </tbody>\n",
              "</table>\n",
              "<p>398 rows × 9 columns</p>\n",
              "</div>"
            ],
            "text/plain": [
              "      mpg  cylinders  displayments  ...  model year  origin  car_company\n",
              "0    18.0          8         307.0  ...          70     USA    chevrolet\n",
              "1    15.0          8         350.0  ...          70     USA        buick\n",
              "2    18.0          8         318.0  ...          70     USA     plymouth\n",
              "3    16.0          8         304.0  ...          70     USA          amc\n",
              "4    17.0          8         302.0  ...          70     USA         ford\n",
              "..    ...        ...           ...  ...         ...     ...          ...\n",
              "401  27.0          4         140.0  ...          82     USA         ford\n",
              "402  44.0          4          97.0  ...          82  Europe   volkswagen\n",
              "403  32.0          4         135.0  ...          82     USA        dodge\n",
              "404  28.0          4         120.0  ...          82     USA         ford\n",
              "405  31.0          4         119.0  ...          82     USA    chevrolet\n",
              "\n",
              "[398 rows x 9 columns]"
            ]
          },
          "metadata": {},
          "execution_count": 239
        }
      ]
    },
    {
      "cell_type": "code",
      "metadata": {
        "colab": {
          "base_uri": "https://localhost:8080/"
        },
        "id": "Ia18Smy-Ss6c",
        "outputId": "1a44e665-b5b3-488d-d1f9-c96d6114fc91"
      },
      "source": [
        "df_prepro.info()"
      ],
      "execution_count": 240,
      "outputs": [
        {
          "output_type": "stream",
          "name": "stdout",
          "text": [
            "<class 'pandas.core.frame.DataFrame'>\n",
            "Int64Index: 398 entries, 0 to 405\n",
            "Data columns (total 9 columns):\n",
            " #   Column        Non-Null Count  Dtype  \n",
            "---  ------        --------------  -----  \n",
            " 0   mpg           398 non-null    float64\n",
            " 1   cylinders     398 non-null    int64  \n",
            " 2   displayments  398 non-null    float64\n",
            " 3   horsepower    398 non-null    float64\n",
            " 4   weight        398 non-null    int64  \n",
            " 5   acceleration  398 non-null    float64\n",
            " 6   model year    398 non-null    int64  \n",
            " 7   origin        398 non-null    object \n",
            " 8   car_company   398 non-null    object \n",
            "dtypes: float64(4), int64(3), object(2)\n",
            "memory usage: 31.1+ KB\n"
          ]
        }
      ]
    },
    {
      "cell_type": "code",
      "metadata": {
        "id": "Bxhz6jklmRM7"
      },
      "source": [
        "#X =  df_prepro.drop(columns='mpg')\n",
        "y =  df_prepro['mpg']\n",
        "X = df_prepro.iloc[:,[1,2,3,4,5,6,8]]\n"
      ],
      "execution_count": 291,
      "outputs": []
    },
    {
      "cell_type": "code",
      "metadata": {
        "id": "RIT9ZVGZlsNy"
      },
      "source": [
        "seed = 42  # random seed for reproducability\n",
        "\n",
        "# it handles both shuffling and splitting\n",
        "# x_train, x_test, y_train, y_test\n",
        "X_train, X_test, y_train, y_test = train_test_split(X, \n",
        "                                                    y, \n",
        "                                                    test_size=0.2, \n",
        "                                                    random_state=seed)"
      ],
      "execution_count": 292,
      "outputs": []
    },
    {
      "cell_type": "code",
      "metadata": {
        "colab": {
          "base_uri": "https://localhost:8080/",
          "height": 204
        },
        "id": "glzsusJhZPVw",
        "outputId": "b2064b8f-ebaf-4de1-ff10-2383ace92dc2"
      },
      "source": [
        "X_train.head()"
      ],
      "execution_count": 293,
      "outputs": [
        {
          "output_type": "execute_result",
          "data": {
            "text/html": [
              "<div>\n",
              "<style scoped>\n",
              "    .dataframe tbody tr th:only-of-type {\n",
              "        vertical-align: middle;\n",
              "    }\n",
              "\n",
              "    .dataframe tbody tr th {\n",
              "        vertical-align: top;\n",
              "    }\n",
              "\n",
              "    .dataframe thead th {\n",
              "        text-align: right;\n",
              "    }\n",
              "</style>\n",
              "<table border=\"1\" class=\"dataframe\">\n",
              "  <thead>\n",
              "    <tr style=\"text-align: right;\">\n",
              "      <th></th>\n",
              "      <th>cylinders</th>\n",
              "      <th>displayments</th>\n",
              "      <th>horsepower</th>\n",
              "      <th>weight</th>\n",
              "      <th>acceleration</th>\n",
              "      <th>model year</th>\n",
              "      <th>car_company</th>\n",
              "    </tr>\n",
              "  </thead>\n",
              "  <tbody>\n",
              "    <tr>\n",
              "      <th>3</th>\n",
              "      <td>8</td>\n",
              "      <td>304.0</td>\n",
              "      <td>150.0</td>\n",
              "      <td>3433</td>\n",
              "      <td>12.0</td>\n",
              "      <td>70</td>\n",
              "      <td>amc</td>\n",
              "    </tr>\n",
              "    <tr>\n",
              "      <th>24</th>\n",
              "      <td>4</td>\n",
              "      <td>97.0</td>\n",
              "      <td>88.0</td>\n",
              "      <td>2130</td>\n",
              "      <td>14.5</td>\n",
              "      <td>70</td>\n",
              "      <td>datsun</td>\n",
              "    </tr>\n",
              "    <tr>\n",
              "      <th>384</th>\n",
              "      <td>4</td>\n",
              "      <td>91.0</td>\n",
              "      <td>68.0</td>\n",
              "      <td>2025</td>\n",
              "      <td>18.2</td>\n",
              "      <td>82</td>\n",
              "      <td>mazda</td>\n",
              "    </tr>\n",
              "    <tr>\n",
              "      <th>255</th>\n",
              "      <td>4</td>\n",
              "      <td>91.0</td>\n",
              "      <td>60.0</td>\n",
              "      <td>1800</td>\n",
              "      <td>16.4</td>\n",
              "      <td>78</td>\n",
              "      <td>honda</td>\n",
              "    </tr>\n",
              "    <tr>\n",
              "      <th>184</th>\n",
              "      <td>4</td>\n",
              "      <td>115.0</td>\n",
              "      <td>95.0</td>\n",
              "      <td>2694</td>\n",
              "      <td>15.0</td>\n",
              "      <td>75</td>\n",
              "      <td>audi</td>\n",
              "    </tr>\n",
              "  </tbody>\n",
              "</table>\n",
              "</div>"
            ],
            "text/plain": [
              "     cylinders  displayments  horsepower  ...  acceleration  model year  car_company\n",
              "3            8         304.0       150.0  ...          12.0          70          amc\n",
              "24           4          97.0        88.0  ...          14.5          70       datsun\n",
              "384          4          91.0        68.0  ...          18.2          82        mazda\n",
              "255          4          91.0        60.0  ...          16.4          78        honda\n",
              "184          4         115.0        95.0  ...          15.0          75         audi\n",
              "\n",
              "[5 rows x 7 columns]"
            ]
          },
          "metadata": {},
          "execution_count": 293
        }
      ]
    },
    {
      "cell_type": "code",
      "metadata": {
        "id": "6CI5epnhnD3U"
      },
      "source": [
        "#OneHotEncoder  https://stackoverflow.com/questions/36631163/what-are-the-pros-and-cons-between-get-dummies-pandas-and-onehotencoder-sciki\n",
        "X_train = X_train.reset_index()\n",
        "encoder = OneHotEncoder( handle_unknown=\"ignore\")\n",
        "enc = pd.DataFrame(encoder.fit_transform(X_train[['car_company']]).toarray())\n",
        "X_train = X_train.join(enc)\n",
        "X_train.set_index('index', inplace=True)\n",
        "#drop 'car_company','origin'\n",
        "X_train = X_train.drop(columns=['car_company'])\n"
      ],
      "execution_count": 294,
      "outputs": []
    },
    {
      "cell_type": "code",
      "metadata": {
        "id": "nbJRvqU8lRCR"
      },
      "source": [
        "X_test = X_test.reset_index()\n",
        "enc = pd.DataFrame(encoder.transform(X_test[['car_company']]).toarray())\n",
        "X_test = X_test.join(enc)\n",
        "X_test.set_index('index', inplace=True)\n",
        "#drop 'car_company','origin'\n",
        "X_test = X_test.drop(columns=['car_company'])"
      ],
      "execution_count": 295,
      "outputs": []
    },
    {
      "cell_type": "code",
      "metadata": {
        "id": "RNaGQ0pRigjH"
      },
      "source": [
        "#StandardScaler  https://www.geeksforgeeks.org/normalization-vs-standardization/\n",
        "scaler = StandardScaler()\n",
        "X_train = scaler.fit_transform(X_train)\n",
        "\n",
        "X_test = scaler.transform(X_test)"
      ],
      "execution_count": 298,
      "outputs": []
    },
    {
      "cell_type": "code",
      "metadata": {
        "colab": {
          "base_uri": "https://localhost:8080/"
        },
        "id": "jzZE9ehce5eC",
        "outputId": "09c5ad5b-412d-4e04-9d65-0a8fd0c7af37"
      },
      "source": [
        "lassoReg = linear_model.Lasso()\n",
        "linear = LinearRegression()\n",
        "knr = KNeighborsRegressor()\n",
        "regr = DecisionTreeRegressor()\n",
        "svr = SVR()\n",
        "rfr = RandomForestRegressor()\n",
        "model = [lassoReg, linear, knr, regr, svr, rfr]\n",
        "for i in model:\n",
        "  i.fit(X_train, y_train)\n",
        "\n",
        "  pred_test = i.predict(X_test)\n",
        "  print(i)\n",
        "  print(f'Mean Squared Error: {mean_squared_error(y_test, pred_test)}')  \n",
        "  print(f'Root Mean Squared Error: {np.sqrt(mean_squared_error(y_test, pred_test))}')\n",
        "  print(f'Mean Absolute Error: {mean_absolute_error(y_test, pred_test)}')\n",
        "  print(f'Score: {i.score(X_test, y_test)}\\n\\n')"
      ],
      "execution_count": 299,
      "outputs": [
        {
          "output_type": "stream",
          "name": "stdout",
          "text": [
            "Lasso(alpha=1.0, copy_X=True, fit_intercept=True, max_iter=1000,\n",
            "      normalize=False, positive=False, precompute=False, random_state=None,\n",
            "      selection='cyclic', tol=0.0001, warm_start=False)\n",
            "Mean Squared Error: 9.010490390571439\n",
            "Root Mean Squared Error: 3.001747889242439\n",
            "Mean Absolute Error: 2.3025693885620244\n",
            "Score: 0.8324142390285681\n",
            "\n",
            "\n",
            "LinearRegression(copy_X=True, fit_intercept=True, n_jobs=None, normalize=False)\n",
            "Mean Squared Error: 4.0009093555254286e+24\n",
            "Root Mean Squared Error: 2000227325962.084\n",
            "Mean Absolute Error: 223632213567.64258\n",
            "Score: -7.441275778120303e+22\n",
            "\n",
            "\n",
            "KNeighborsRegressor(algorithm='auto', leaf_size=30, metric='minkowski',\n",
            "                    metric_params=None, n_jobs=None, n_neighbors=5, p=2,\n",
            "                    weights='uniform')\n",
            "Mean Squared Error: 11.03365\n",
            "Root Mean Squared Error: 3.321693845013414\n",
            "Mean Absolute Error: 2.4505\n",
            "Score: 0.7947855719953582\n",
            "\n",
            "\n",
            "DecisionTreeRegressor(ccp_alpha=0.0, criterion='mse', max_depth=None,\n",
            "                      max_features=None, max_leaf_nodes=None,\n",
            "                      min_impurity_decrease=0.0, min_impurity_split=None,\n",
            "                      min_samples_leaf=1, min_samples_split=2,\n",
            "                      min_weight_fraction_leaf=0.0, presort='deprecated',\n",
            "                      random_state=None, splitter='best')\n",
            "Mean Squared Error: 12.408250000000002\n",
            "Root Mean Squared Error: 3.5225345988364687\n",
            "Mean Absolute Error: 2.4349999999999996\n",
            "Score: 0.7692194399597053\n",
            "\n",
            "\n",
            "SVR(C=1.0, cache_size=200, coef0=0.0, degree=3, epsilon=0.1, gamma='scale',\n",
            "    kernel='rbf', max_iter=-1, shrinking=True, tol=0.001, verbose=False)\n",
            "Mean Squared Error: 13.609507083680374\n",
            "Root Mean Squared Error: 3.6891065427390917\n",
            "Mean Absolute Error: 2.5832108575662107\n",
            "Score: 0.7468773060952099\n",
            "\n",
            "\n",
            "RandomForestRegressor(bootstrap=True, ccp_alpha=0.0, criterion='mse',\n",
            "                      max_depth=None, max_features='auto', max_leaf_nodes=None,\n",
            "                      max_samples=None, min_impurity_decrease=0.0,\n",
            "                      min_impurity_split=None, min_samples_leaf=1,\n",
            "                      min_samples_split=2, min_weight_fraction_leaf=0.0,\n",
            "                      n_estimators=100, n_jobs=None, oob_score=False,\n",
            "                      random_state=None, verbose=0, warm_start=False)\n",
            "Mean Squared Error: 4.886125562499996\n",
            "Root Mean Squared Error: 2.210458224554356\n",
            "Mean Absolute Error: 1.6594375\n",
            "Score: 0.9091231403508997\n",
            "\n",
            "\n"
          ]
        }
      ]
    },
    {
      "cell_type": "markdown",
      "metadata": {
        "id": "wZvP2OVVTFaP"
      },
      "source": [
        "# Regression"
      ]
    },
    {
      "cell_type": "markdown",
      "metadata": {
        "id": "NSs9Sn1tTHlW"
      },
      "source": [
        "https://eclass.upatras.gr/modules/document/file.php/ECON1332/Lectures/Lecture%203/06Regression.pdf\n",
        "\n",
        "https://machinelearningmastery.com/regression-metrics-for-machine-learning/"
      ]
    },
    {
      "cell_type": "code",
      "metadata": {
        "id": "8KqtQYUSxn6J",
        "colab": {
          "base_uri": "https://localhost:8080/"
        },
        "outputId": "9a5d39a0-bb22-4e1a-fbc9-5ef26948394b"
      },
      "source": [
        "model = LinearRegression()\n",
        "model.fit(X_train, y_train)"
      ],
      "execution_count": 155,
      "outputs": [
        {
          "output_type": "execute_result",
          "data": {
            "text/plain": [
              "LinearRegression(copy_X=True, fit_intercept=True, n_jobs=-1, normalize=False)"
            ]
          },
          "metadata": {},
          "execution_count": 155
        }
      ]
    },
    {
      "cell_type": "code",
      "metadata": {
        "colab": {
          "base_uri": "https://localhost:8080/"
        },
        "id": "9iaxufIm_AYq",
        "outputId": "ff72cb3d-efb4-41f4-8e3d-acd2e0815cfe"
      },
      "source": [
        "model.get_params()"
      ],
      "execution_count": 156,
      "outputs": [
        {
          "output_type": "execute_result",
          "data": {
            "text/plain": [
              "{'copy_X': True, 'fit_intercept': True, 'n_jobs': -1, 'normalize': False}"
            ]
          },
          "metadata": {},
          "execution_count": 156
        }
      ]
    },
    {
      "cell_type": "code",
      "metadata": {
        "id": "LNBXsDHhbmYk"
      },
      "source": [
        "#OneHotEncoder\n",
        "X_test = X_test.reset_index()\n",
        "enc = pd.DataFrame(encoder.transform(X_test[['car_company','origin']]).toarray())\n",
        "X_test = X_test.join(enc)\n",
        "X_test.set_index('index', inplace=True)\n",
        "#drop 'car_company','origin'\n",
        "X_test = X_test.drop(columns=['origin','car_company'])\n",
        "#StandardScaler\n",
        "X_test = scaler.transform(X_test)\n",
        "#Predict\n",
        "pred_test = model.predict(X_test) "
      ],
      "execution_count": null,
      "outputs": []
    },
    {
      "cell_type": "code",
      "metadata": {
        "id": "V74ytM7wx9Lz",
        "colab": {
          "base_uri": "https://localhost:8080/"
        },
        "outputId": "177f1a13-381c-479d-e3b8-13725dc2d096"
      },
      "source": [
        "# intercept:\n",
        "print(model.intercept_)\n",
        "\n",
        "# slope or x-coefficient\n",
        "print(model.coef_)"
      ],
      "execution_count": 163,
      "outputs": [
        {
          "output_type": "stream",
          "name": "stdout",
          "text": [
            "23.44658511777497\n",
            "[ 1.208e+00 -8.120e-01 -5.270e+00  9.766e-02  2.755e+00  8.425e+12\n",
            "  4.550e+12  2.894e+12  7.735e+12  2.050e+12  1.107e+13  2.894e+12\n",
            "  8.640e+12  9.432e+12  4.077e+12  1.202e+13  2.050e+12  5.364e+12\n",
            "  5.364e+12  3.537e+12  6.060e+12  4.550e+12  3.537e+12  4.975e+12\n",
            "  8.847e+12  6.060e+12  3.537e+12  2.894e+12  4.077e+12  8.425e+12\n",
            "  2.050e+12  7.487e+12  4.077e+12]\n"
          ]
        }
      ]
    },
    {
      "cell_type": "code",
      "metadata": {
        "id": "rbDzjNRwyCum",
        "colab": {
          "base_uri": "https://localhost:8080/"
        },
        "outputId": "0b2f6b9b-fa63-4e59-8eec-20a3fc288bc2"
      },
      "source": [
        "print(f'Mean Squared Error: {mean_squared_error(y_test, pred_test)}')  \n",
        "print(f'Root Mean Squared Error: {np.sqrt(mean_squared_error(y_test, pred_test))}')\n",
        "print(f'Mean Absolute Error: {mean_absolute_error(y_test, pred_test)}')  "
      ],
      "execution_count": 164,
      "outputs": [
        {
          "output_type": "stream",
          "name": "stdout",
          "text": [
            "Mean Squared Error: 8.166920764483173\n",
            "Root Mean Squared Error: 2.8577824907580305\n",
            "Mean Absolute Error: 2.220932891033717\n"
          ]
        }
      ]
    },
    {
      "cell_type": "code",
      "metadata": {
        "id": "kP2hxEuIV3_R",
        "colab": {
          "base_uri": "https://localhost:8080/"
        },
        "outputId": "a4f866d0-a075-456c-94d5-eb34d355e902"
      },
      "source": [
        "model.score(X_train, y_train)"
      ],
      "execution_count": 165,
      "outputs": [
        {
          "output_type": "execute_result",
          "data": {
            "text/plain": [
              "0.8406898998886411"
            ]
          },
          "metadata": {},
          "execution_count": 165
        }
      ]
    },
    {
      "cell_type": "code",
      "metadata": {
        "id": "MmfROsCa8lBv",
        "colab": {
          "base_uri": "https://localhost:8080/"
        },
        "outputId": "f82f7b43-f1fb-494c-a2c3-ebc417c4e414"
      },
      "source": [
        "model.score(X_test, y_test)"
      ],
      "execution_count": 166,
      "outputs": [
        {
          "output_type": "execute_result",
          "data": {
            "text/plain": [
              "-1.7021065385008233e+23"
            ]
          },
          "metadata": {},
          "execution_count": 166
        }
      ]
    },
    {
      "cell_type": "code",
      "metadata": {
        "id": "l6Beb9xLQrZr",
        "colab": {
          "base_uri": "https://localhost:8080/"
        },
        "outputId": "c3d63380-1a16-4654-ca65-9d1bea7b62f7"
      },
      "source": [
        "r2_score(y_test,pred_test)   #https://www.analyticsvidhya.com/blog/2021/05/multiple-linear-regression-using-python-and-scikit-learn/\n",
        "# https://scikit-learn.org/stable/modules/generated/sklearn.metrics.r2_score.html"
      ],
      "execution_count": 167,
      "outputs": [
        {
          "output_type": "execute_result",
          "data": {
            "text/plain": [
              "0.8576977403726711"
            ]
          },
          "metadata": {},
          "execution_count": 167
        }
      ]
    },
    {
      "cell_type": "markdown",
      "metadata": {
        "id": "AlwdWqCUUOmA"
      },
      "source": [
        "# KNeighborsRegressor"
      ]
    },
    {
      "cell_type": "code",
      "metadata": {
        "id": "9kNM-oN5UOEY"
      },
      "source": [
        "knr = KNeighborsRegressor(n_neighbors=8)\n",
        "knr.fit(X_train, y_train)\n",
        "\n",
        "pred_test = knr.predict(X_test)"
      ],
      "execution_count": 124,
      "outputs": []
    },
    {
      "cell_type": "code",
      "metadata": {
        "id": "xvJmY-a5OG8i"
      },
      "source": [
        "from sklearn.model_selection import cross_val_score, KFold, GridSearchCV"
      ],
      "execution_count": 170,
      "outputs": []
    },
    {
      "cell_type": "code",
      "metadata": {
        "colab": {
          "base_uri": "https://localhost:8080/"
        },
        "id": "NTZe_Hnb_QUV",
        "outputId": "910095ed-2729-4f9b-e7b1-6d4f30372373"
      },
      "source": [
        "knr.get_params()"
      ],
      "execution_count": 125,
      "outputs": [
        {
          "output_type": "execute_result",
          "data": {
            "text/plain": [
              "{'algorithm': 'auto',\n",
              " 'leaf_size': 30,\n",
              " 'metric': 'minkowski',\n",
              " 'metric_params': None,\n",
              " 'n_jobs': None,\n",
              " 'n_neighbors': 8,\n",
              " 'p': 2,\n",
              " 'weights': 'uniform'}"
            ]
          },
          "metadata": {},
          "execution_count": 125
        }
      ]
    },
    {
      "cell_type": "code",
      "metadata": {
        "colab": {
          "base_uri": "https://localhost:8080/"
        },
        "id": "UJWIVk_DSalX",
        "outputId": "5ed1d87f-120d-4909-8b7e-4f11c3bb4d45"
      },
      "source": [
        "np.arange(1, 4, 1)"
      ],
      "execution_count": 182,
      "outputs": [
        {
          "output_type": "execute_result",
          "data": {
            "text/plain": [
              "array([1, 2, 3])"
            ]
          },
          "metadata": {},
          "execution_count": 182
        }
      ]
    },
    {
      "cell_type": "code",
      "metadata": {
        "colab": {
          "base_uri": "https://localhost:8080/"
        },
        "id": "UVzI5R4wPBy5",
        "outputId": "8f209fa4-b69b-41ee-832e-687aa2691a2d"
      },
      "source": [
        "param_grid = {'n_neighbors': np.arange(1, 40, 1),\n",
        "              'weights': ['uniform', 'distance'],\n",
        "              'leaf_size':np.arange(1, 40, 1),\n",
        "              'p':np.arange(1, 4, 1)}\n",
        "\n",
        "\n",
        "knn = KNeighborsRegressor()\n",
        "gscv = GridSearchCV(knn, param_grid, cv=KFold(n_splits=3,\n",
        "                                              shuffle=True, random_state=0))\n",
        "gscv.fit(X_train, y_train)"
      ],
      "execution_count": 300,
      "outputs": [
        {
          "output_type": "execute_result",
          "data": {
            "text/plain": [
              "GridSearchCV(cv=KFold(n_splits=3, random_state=0, shuffle=True),\n",
              "             error_score=nan,\n",
              "             estimator=KNeighborsRegressor(algorithm='auto', leaf_size=30,\n",
              "                                           metric='minkowski',\n",
              "                                           metric_params=None, n_jobs=None,\n",
              "                                           n_neighbors=5, p=2,\n",
              "                                           weights='uniform'),\n",
              "             iid='deprecated', n_jobs=None,\n",
              "             param_grid={'leaf_size': array([ 1,  2,  3,  4,  5,  6,  7,  8,  9, 10, 11, 12, 13, 14, 15, 16, 17,\n",
              "       18, 19, 20, 21, 22, 23, 24, 25, 26, 27, 28, 29, 30, 31, 32, 33, 34,\n",
              "       35, 36, 37, 38, 39]),\n",
              "                         'n_neighbors': array([ 1,  2,  3,  4,  5,  6,  7,  8,  9, 10, 11, 12, 13, 14, 15, 16, 17,\n",
              "       18, 19, 20, 21, 22, 23, 24, 25, 26, 27, 28, 29, 30, 31, 32, 33, 34,\n",
              "       35, 36, 37, 38, 39]),\n",
              "                         'p': array([1, 2, 3]),\n",
              "                         'weights': ['uniform', 'distance']},\n",
              "             pre_dispatch='2*n_jobs', refit=True, return_train_score=False,\n",
              "             scoring=None, verbose=0)"
            ]
          },
          "metadata": {},
          "execution_count": 300
        }
      ]
    },
    {
      "cell_type": "code",
      "metadata": {
        "colab": {
          "base_uri": "https://localhost:8080/"
        },
        "id": "6vbDKctlRiwx",
        "outputId": "4f1063c3-46f8-4152-9037-47afad3a81ec"
      },
      "source": [
        "gscv.best_score_"
      ],
      "execution_count": 301,
      "outputs": [
        {
          "output_type": "execute_result",
          "data": {
            "text/plain": [
              "0.7700368137879918"
            ]
          },
          "metadata": {},
          "execution_count": 301
        }
      ]
    },
    {
      "cell_type": "code",
      "metadata": {
        "colab": {
          "base_uri": "https://localhost:8080/"
        },
        "id": "oQQRPTyqSyu_",
        "outputId": "73cf7b4e-b425-409b-9cae-318b36e43850"
      },
      "source": [
        "gscv.cv_results_"
      ],
      "execution_count": 302,
      "outputs": [
        {
          "output_type": "execute_result",
          "data": {
            "text/plain": [
              "{'mean_fit_time': array([0.002, 0.002, 0.002, ..., 0.001, 0.001, 0.001]),\n",
              " 'mean_score_time': array([0.006, 0.006, 0.007, ..., 0.004, 0.026, 0.026]),\n",
              " 'mean_test_score': array([0.641, 0.641, 0.633, ..., 0.698, 0.439, 0.588]),\n",
              " 'param_leaf_size': masked_array(data=[1, 1, 1, ..., 39, 39, 39],\n",
              "              mask=[False, False, False, ..., False, False, False],\n",
              "        fill_value='?',\n",
              "             dtype=object),\n",
              " 'param_n_neighbors': masked_array(data=[1, 1, 1, ..., 39, 39, 39],\n",
              "              mask=[False, False, False, ..., False, False, False],\n",
              "        fill_value='?',\n",
              "             dtype=object),\n",
              " 'param_p': masked_array(data=[1, 1, 2, ..., 2, 3, 3],\n",
              "              mask=[False, False, False, ..., False, False, False],\n",
              "        fill_value='?',\n",
              "             dtype=object),\n",
              " 'param_weights': masked_array(data=['uniform', 'distance', 'uniform', ..., 'distance',\n",
              "                    'uniform', 'distance'],\n",
              "              mask=[False, False, False, ..., False, False, False],\n",
              "        fill_value='?',\n",
              "             dtype=object),\n",
              " 'params': [{'leaf_size': 1, 'n_neighbors': 1, 'p': 1, 'weights': 'uniform'},\n",
              "  {'leaf_size': 1, 'n_neighbors': 1, 'p': 1, 'weights': 'distance'},\n",
              "  {'leaf_size': 1, 'n_neighbors': 1, 'p': 2, 'weights': 'uniform'},\n",
              "  {'leaf_size': 1, 'n_neighbors': 1, 'p': 2, 'weights': 'distance'},\n",
              "  {'leaf_size': 1, 'n_neighbors': 1, 'p': 3, 'weights': 'uniform'},\n",
              "  {'leaf_size': 1, 'n_neighbors': 1, 'p': 3, 'weights': 'distance'},\n",
              "  {'leaf_size': 1, 'n_neighbors': 2, 'p': 1, 'weights': 'uniform'},\n",
              "  {'leaf_size': 1, 'n_neighbors': 2, 'p': 1, 'weights': 'distance'},\n",
              "  {'leaf_size': 1, 'n_neighbors': 2, 'p': 2, 'weights': 'uniform'},\n",
              "  {'leaf_size': 1, 'n_neighbors': 2, 'p': 2, 'weights': 'distance'},\n",
              "  {'leaf_size': 1, 'n_neighbors': 2, 'p': 3, 'weights': 'uniform'},\n",
              "  {'leaf_size': 1, 'n_neighbors': 2, 'p': 3, 'weights': 'distance'},\n",
              "  {'leaf_size': 1, 'n_neighbors': 3, 'p': 1, 'weights': 'uniform'},\n",
              "  {'leaf_size': 1, 'n_neighbors': 3, 'p': 1, 'weights': 'distance'},\n",
              "  {'leaf_size': 1, 'n_neighbors': 3, 'p': 2, 'weights': 'uniform'},\n",
              "  {'leaf_size': 1, 'n_neighbors': 3, 'p': 2, 'weights': 'distance'},\n",
              "  {'leaf_size': 1, 'n_neighbors': 3, 'p': 3, 'weights': 'uniform'},\n",
              "  {'leaf_size': 1, 'n_neighbors': 3, 'p': 3, 'weights': 'distance'},\n",
              "  {'leaf_size': 1, 'n_neighbors': 4, 'p': 1, 'weights': 'uniform'},\n",
              "  {'leaf_size': 1, 'n_neighbors': 4, 'p': 1, 'weights': 'distance'},\n",
              "  {'leaf_size': 1, 'n_neighbors': 4, 'p': 2, 'weights': 'uniform'},\n",
              "  {'leaf_size': 1, 'n_neighbors': 4, 'p': 2, 'weights': 'distance'},\n",
              "  {'leaf_size': 1, 'n_neighbors': 4, 'p': 3, 'weights': 'uniform'},\n",
              "  {'leaf_size': 1, 'n_neighbors': 4, 'p': 3, 'weights': 'distance'},\n",
              "  {'leaf_size': 1, 'n_neighbors': 5, 'p': 1, 'weights': 'uniform'},\n",
              "  {'leaf_size': 1, 'n_neighbors': 5, 'p': 1, 'weights': 'distance'},\n",
              "  {'leaf_size': 1, 'n_neighbors': 5, 'p': 2, 'weights': 'uniform'},\n",
              "  {'leaf_size': 1, 'n_neighbors': 5, 'p': 2, 'weights': 'distance'},\n",
              "  {'leaf_size': 1, 'n_neighbors': 5, 'p': 3, 'weights': 'uniform'},\n",
              "  {'leaf_size': 1, 'n_neighbors': 5, 'p': 3, 'weights': 'distance'},\n",
              "  {'leaf_size': 1, 'n_neighbors': 6, 'p': 1, 'weights': 'uniform'},\n",
              "  {'leaf_size': 1, 'n_neighbors': 6, 'p': 1, 'weights': 'distance'},\n",
              "  {'leaf_size': 1, 'n_neighbors': 6, 'p': 2, 'weights': 'uniform'},\n",
              "  {'leaf_size': 1, 'n_neighbors': 6, 'p': 2, 'weights': 'distance'},\n",
              "  {'leaf_size': 1, 'n_neighbors': 6, 'p': 3, 'weights': 'uniform'},\n",
              "  {'leaf_size': 1, 'n_neighbors': 6, 'p': 3, 'weights': 'distance'},\n",
              "  {'leaf_size': 1, 'n_neighbors': 7, 'p': 1, 'weights': 'uniform'},\n",
              "  {'leaf_size': 1, 'n_neighbors': 7, 'p': 1, 'weights': 'distance'},\n",
              "  {'leaf_size': 1, 'n_neighbors': 7, 'p': 2, 'weights': 'uniform'},\n",
              "  {'leaf_size': 1, 'n_neighbors': 7, 'p': 2, 'weights': 'distance'},\n",
              "  {'leaf_size': 1, 'n_neighbors': 7, 'p': 3, 'weights': 'uniform'},\n",
              "  {'leaf_size': 1, 'n_neighbors': 7, 'p': 3, 'weights': 'distance'},\n",
              "  {'leaf_size': 1, 'n_neighbors': 8, 'p': 1, 'weights': 'uniform'},\n",
              "  {'leaf_size': 1, 'n_neighbors': 8, 'p': 1, 'weights': 'distance'},\n",
              "  {'leaf_size': 1, 'n_neighbors': 8, 'p': 2, 'weights': 'uniform'},\n",
              "  {'leaf_size': 1, 'n_neighbors': 8, 'p': 2, 'weights': 'distance'},\n",
              "  {'leaf_size': 1, 'n_neighbors': 8, 'p': 3, 'weights': 'uniform'},\n",
              "  {'leaf_size': 1, 'n_neighbors': 8, 'p': 3, 'weights': 'distance'},\n",
              "  {'leaf_size': 1, 'n_neighbors': 9, 'p': 1, 'weights': 'uniform'},\n",
              "  {'leaf_size': 1, 'n_neighbors': 9, 'p': 1, 'weights': 'distance'},\n",
              "  {'leaf_size': 1, 'n_neighbors': 9, 'p': 2, 'weights': 'uniform'},\n",
              "  {'leaf_size': 1, 'n_neighbors': 9, 'p': 2, 'weights': 'distance'},\n",
              "  {'leaf_size': 1, 'n_neighbors': 9, 'p': 3, 'weights': 'uniform'},\n",
              "  {'leaf_size': 1, 'n_neighbors': 9, 'p': 3, 'weights': 'distance'},\n",
              "  {'leaf_size': 1, 'n_neighbors': 10, 'p': 1, 'weights': 'uniform'},\n",
              "  {'leaf_size': 1, 'n_neighbors': 10, 'p': 1, 'weights': 'distance'},\n",
              "  {'leaf_size': 1, 'n_neighbors': 10, 'p': 2, 'weights': 'uniform'},\n",
              "  {'leaf_size': 1, 'n_neighbors': 10, 'p': 2, 'weights': 'distance'},\n",
              "  {'leaf_size': 1, 'n_neighbors': 10, 'p': 3, 'weights': 'uniform'},\n",
              "  {'leaf_size': 1, 'n_neighbors': 10, 'p': 3, 'weights': 'distance'},\n",
              "  {'leaf_size': 1, 'n_neighbors': 11, 'p': 1, 'weights': 'uniform'},\n",
              "  {'leaf_size': 1, 'n_neighbors': 11, 'p': 1, 'weights': 'distance'},\n",
              "  {'leaf_size': 1, 'n_neighbors': 11, 'p': 2, 'weights': 'uniform'},\n",
              "  {'leaf_size': 1, 'n_neighbors': 11, 'p': 2, 'weights': 'distance'},\n",
              "  {'leaf_size': 1, 'n_neighbors': 11, 'p': 3, 'weights': 'uniform'},\n",
              "  {'leaf_size': 1, 'n_neighbors': 11, 'p': 3, 'weights': 'distance'},\n",
              "  {'leaf_size': 1, 'n_neighbors': 12, 'p': 1, 'weights': 'uniform'},\n",
              "  {'leaf_size': 1, 'n_neighbors': 12, 'p': 1, 'weights': 'distance'},\n",
              "  {'leaf_size': 1, 'n_neighbors': 12, 'p': 2, 'weights': 'uniform'},\n",
              "  {'leaf_size': 1, 'n_neighbors': 12, 'p': 2, 'weights': 'distance'},\n",
              "  {'leaf_size': 1, 'n_neighbors': 12, 'p': 3, 'weights': 'uniform'},\n",
              "  {'leaf_size': 1, 'n_neighbors': 12, 'p': 3, 'weights': 'distance'},\n",
              "  {'leaf_size': 1, 'n_neighbors': 13, 'p': 1, 'weights': 'uniform'},\n",
              "  {'leaf_size': 1, 'n_neighbors': 13, 'p': 1, 'weights': 'distance'},\n",
              "  {'leaf_size': 1, 'n_neighbors': 13, 'p': 2, 'weights': 'uniform'},\n",
              "  {'leaf_size': 1, 'n_neighbors': 13, 'p': 2, 'weights': 'distance'},\n",
              "  {'leaf_size': 1, 'n_neighbors': 13, 'p': 3, 'weights': 'uniform'},\n",
              "  {'leaf_size': 1, 'n_neighbors': 13, 'p': 3, 'weights': 'distance'},\n",
              "  {'leaf_size': 1, 'n_neighbors': 14, 'p': 1, 'weights': 'uniform'},\n",
              "  {'leaf_size': 1, 'n_neighbors': 14, 'p': 1, 'weights': 'distance'},\n",
              "  {'leaf_size': 1, 'n_neighbors': 14, 'p': 2, 'weights': 'uniform'},\n",
              "  {'leaf_size': 1, 'n_neighbors': 14, 'p': 2, 'weights': 'distance'},\n",
              "  {'leaf_size': 1, 'n_neighbors': 14, 'p': 3, 'weights': 'uniform'},\n",
              "  {'leaf_size': 1, 'n_neighbors': 14, 'p': 3, 'weights': 'distance'},\n",
              "  {'leaf_size': 1, 'n_neighbors': 15, 'p': 1, 'weights': 'uniform'},\n",
              "  {'leaf_size': 1, 'n_neighbors': 15, 'p': 1, 'weights': 'distance'},\n",
              "  {'leaf_size': 1, 'n_neighbors': 15, 'p': 2, 'weights': 'uniform'},\n",
              "  {'leaf_size': 1, 'n_neighbors': 15, 'p': 2, 'weights': 'distance'},\n",
              "  {'leaf_size': 1, 'n_neighbors': 15, 'p': 3, 'weights': 'uniform'},\n",
              "  {'leaf_size': 1, 'n_neighbors': 15, 'p': 3, 'weights': 'distance'},\n",
              "  {'leaf_size': 1, 'n_neighbors': 16, 'p': 1, 'weights': 'uniform'},\n",
              "  {'leaf_size': 1, 'n_neighbors': 16, 'p': 1, 'weights': 'distance'},\n",
              "  {'leaf_size': 1, 'n_neighbors': 16, 'p': 2, 'weights': 'uniform'},\n",
              "  {'leaf_size': 1, 'n_neighbors': 16, 'p': 2, 'weights': 'distance'},\n",
              "  {'leaf_size': 1, 'n_neighbors': 16, 'p': 3, 'weights': 'uniform'},\n",
              "  {'leaf_size': 1, 'n_neighbors': 16, 'p': 3, 'weights': 'distance'},\n",
              "  {'leaf_size': 1, 'n_neighbors': 17, 'p': 1, 'weights': 'uniform'},\n",
              "  {'leaf_size': 1, 'n_neighbors': 17, 'p': 1, 'weights': 'distance'},\n",
              "  {'leaf_size': 1, 'n_neighbors': 17, 'p': 2, 'weights': 'uniform'},\n",
              "  {'leaf_size': 1, 'n_neighbors': 17, 'p': 2, 'weights': 'distance'},\n",
              "  {'leaf_size': 1, 'n_neighbors': 17, 'p': 3, 'weights': 'uniform'},\n",
              "  {'leaf_size': 1, 'n_neighbors': 17, 'p': 3, 'weights': 'distance'},\n",
              "  {'leaf_size': 1, 'n_neighbors': 18, 'p': 1, 'weights': 'uniform'},\n",
              "  {'leaf_size': 1, 'n_neighbors': 18, 'p': 1, 'weights': 'distance'},\n",
              "  {'leaf_size': 1, 'n_neighbors': 18, 'p': 2, 'weights': 'uniform'},\n",
              "  {'leaf_size': 1, 'n_neighbors': 18, 'p': 2, 'weights': 'distance'},\n",
              "  {'leaf_size': 1, 'n_neighbors': 18, 'p': 3, 'weights': 'uniform'},\n",
              "  {'leaf_size': 1, 'n_neighbors': 18, 'p': 3, 'weights': 'distance'},\n",
              "  {'leaf_size': 1, 'n_neighbors': 19, 'p': 1, 'weights': 'uniform'},\n",
              "  {'leaf_size': 1, 'n_neighbors': 19, 'p': 1, 'weights': 'distance'},\n",
              "  {'leaf_size': 1, 'n_neighbors': 19, 'p': 2, 'weights': 'uniform'},\n",
              "  {'leaf_size': 1, 'n_neighbors': 19, 'p': 2, 'weights': 'distance'},\n",
              "  {'leaf_size': 1, 'n_neighbors': 19, 'p': 3, 'weights': 'uniform'},\n",
              "  {'leaf_size': 1, 'n_neighbors': 19, 'p': 3, 'weights': 'distance'},\n",
              "  {'leaf_size': 1, 'n_neighbors': 20, 'p': 1, 'weights': 'uniform'},\n",
              "  {'leaf_size': 1, 'n_neighbors': 20, 'p': 1, 'weights': 'distance'},\n",
              "  {'leaf_size': 1, 'n_neighbors': 20, 'p': 2, 'weights': 'uniform'},\n",
              "  {'leaf_size': 1, 'n_neighbors': 20, 'p': 2, 'weights': 'distance'},\n",
              "  {'leaf_size': 1, 'n_neighbors': 20, 'p': 3, 'weights': 'uniform'},\n",
              "  {'leaf_size': 1, 'n_neighbors': 20, 'p': 3, 'weights': 'distance'},\n",
              "  {'leaf_size': 1, 'n_neighbors': 21, 'p': 1, 'weights': 'uniform'},\n",
              "  {'leaf_size': 1, 'n_neighbors': 21, 'p': 1, 'weights': 'distance'},\n",
              "  {'leaf_size': 1, 'n_neighbors': 21, 'p': 2, 'weights': 'uniform'},\n",
              "  {'leaf_size': 1, 'n_neighbors': 21, 'p': 2, 'weights': 'distance'},\n",
              "  {'leaf_size': 1, 'n_neighbors': 21, 'p': 3, 'weights': 'uniform'},\n",
              "  {'leaf_size': 1, 'n_neighbors': 21, 'p': 3, 'weights': 'distance'},\n",
              "  {'leaf_size': 1, 'n_neighbors': 22, 'p': 1, 'weights': 'uniform'},\n",
              "  {'leaf_size': 1, 'n_neighbors': 22, 'p': 1, 'weights': 'distance'},\n",
              "  {'leaf_size': 1, 'n_neighbors': 22, 'p': 2, 'weights': 'uniform'},\n",
              "  {'leaf_size': 1, 'n_neighbors': 22, 'p': 2, 'weights': 'distance'},\n",
              "  {'leaf_size': 1, 'n_neighbors': 22, 'p': 3, 'weights': 'uniform'},\n",
              "  {'leaf_size': 1, 'n_neighbors': 22, 'p': 3, 'weights': 'distance'},\n",
              "  {'leaf_size': 1, 'n_neighbors': 23, 'p': 1, 'weights': 'uniform'},\n",
              "  {'leaf_size': 1, 'n_neighbors': 23, 'p': 1, 'weights': 'distance'},\n",
              "  {'leaf_size': 1, 'n_neighbors': 23, 'p': 2, 'weights': 'uniform'},\n",
              "  {'leaf_size': 1, 'n_neighbors': 23, 'p': 2, 'weights': 'distance'},\n",
              "  {'leaf_size': 1, 'n_neighbors': 23, 'p': 3, 'weights': 'uniform'},\n",
              "  {'leaf_size': 1, 'n_neighbors': 23, 'p': 3, 'weights': 'distance'},\n",
              "  {'leaf_size': 1, 'n_neighbors': 24, 'p': 1, 'weights': 'uniform'},\n",
              "  {'leaf_size': 1, 'n_neighbors': 24, 'p': 1, 'weights': 'distance'},\n",
              "  {'leaf_size': 1, 'n_neighbors': 24, 'p': 2, 'weights': 'uniform'},\n",
              "  {'leaf_size': 1, 'n_neighbors': 24, 'p': 2, 'weights': 'distance'},\n",
              "  {'leaf_size': 1, 'n_neighbors': 24, 'p': 3, 'weights': 'uniform'},\n",
              "  {'leaf_size': 1, 'n_neighbors': 24, 'p': 3, 'weights': 'distance'},\n",
              "  {'leaf_size': 1, 'n_neighbors': 25, 'p': 1, 'weights': 'uniform'},\n",
              "  {'leaf_size': 1, 'n_neighbors': 25, 'p': 1, 'weights': 'distance'},\n",
              "  {'leaf_size': 1, 'n_neighbors': 25, 'p': 2, 'weights': 'uniform'},\n",
              "  {'leaf_size': 1, 'n_neighbors': 25, 'p': 2, 'weights': 'distance'},\n",
              "  {'leaf_size': 1, 'n_neighbors': 25, 'p': 3, 'weights': 'uniform'},\n",
              "  {'leaf_size': 1, 'n_neighbors': 25, 'p': 3, 'weights': 'distance'},\n",
              "  {'leaf_size': 1, 'n_neighbors': 26, 'p': 1, 'weights': 'uniform'},\n",
              "  {'leaf_size': 1, 'n_neighbors': 26, 'p': 1, 'weights': 'distance'},\n",
              "  {'leaf_size': 1, 'n_neighbors': 26, 'p': 2, 'weights': 'uniform'},\n",
              "  {'leaf_size': 1, 'n_neighbors': 26, 'p': 2, 'weights': 'distance'},\n",
              "  {'leaf_size': 1, 'n_neighbors': 26, 'p': 3, 'weights': 'uniform'},\n",
              "  {'leaf_size': 1, 'n_neighbors': 26, 'p': 3, 'weights': 'distance'},\n",
              "  {'leaf_size': 1, 'n_neighbors': 27, 'p': 1, 'weights': 'uniform'},\n",
              "  {'leaf_size': 1, 'n_neighbors': 27, 'p': 1, 'weights': 'distance'},\n",
              "  {'leaf_size': 1, 'n_neighbors': 27, 'p': 2, 'weights': 'uniform'},\n",
              "  {'leaf_size': 1, 'n_neighbors': 27, 'p': 2, 'weights': 'distance'},\n",
              "  {'leaf_size': 1, 'n_neighbors': 27, 'p': 3, 'weights': 'uniform'},\n",
              "  {'leaf_size': 1, 'n_neighbors': 27, 'p': 3, 'weights': 'distance'},\n",
              "  {'leaf_size': 1, 'n_neighbors': 28, 'p': 1, 'weights': 'uniform'},\n",
              "  {'leaf_size': 1, 'n_neighbors': 28, 'p': 1, 'weights': 'distance'},\n",
              "  {'leaf_size': 1, 'n_neighbors': 28, 'p': 2, 'weights': 'uniform'},\n",
              "  {'leaf_size': 1, 'n_neighbors': 28, 'p': 2, 'weights': 'distance'},\n",
              "  {'leaf_size': 1, 'n_neighbors': 28, 'p': 3, 'weights': 'uniform'},\n",
              "  {'leaf_size': 1, 'n_neighbors': 28, 'p': 3, 'weights': 'distance'},\n",
              "  {'leaf_size': 1, 'n_neighbors': 29, 'p': 1, 'weights': 'uniform'},\n",
              "  {'leaf_size': 1, 'n_neighbors': 29, 'p': 1, 'weights': 'distance'},\n",
              "  {'leaf_size': 1, 'n_neighbors': 29, 'p': 2, 'weights': 'uniform'},\n",
              "  {'leaf_size': 1, 'n_neighbors': 29, 'p': 2, 'weights': 'distance'},\n",
              "  {'leaf_size': 1, 'n_neighbors': 29, 'p': 3, 'weights': 'uniform'},\n",
              "  {'leaf_size': 1, 'n_neighbors': 29, 'p': 3, 'weights': 'distance'},\n",
              "  {'leaf_size': 1, 'n_neighbors': 30, 'p': 1, 'weights': 'uniform'},\n",
              "  {'leaf_size': 1, 'n_neighbors': 30, 'p': 1, 'weights': 'distance'},\n",
              "  {'leaf_size': 1, 'n_neighbors': 30, 'p': 2, 'weights': 'uniform'},\n",
              "  {'leaf_size': 1, 'n_neighbors': 30, 'p': 2, 'weights': 'distance'},\n",
              "  {'leaf_size': 1, 'n_neighbors': 30, 'p': 3, 'weights': 'uniform'},\n",
              "  {'leaf_size': 1, 'n_neighbors': 30, 'p': 3, 'weights': 'distance'},\n",
              "  {'leaf_size': 1, 'n_neighbors': 31, 'p': 1, 'weights': 'uniform'},\n",
              "  {'leaf_size': 1, 'n_neighbors': 31, 'p': 1, 'weights': 'distance'},\n",
              "  {'leaf_size': 1, 'n_neighbors': 31, 'p': 2, 'weights': 'uniform'},\n",
              "  {'leaf_size': 1, 'n_neighbors': 31, 'p': 2, 'weights': 'distance'},\n",
              "  {'leaf_size': 1, 'n_neighbors': 31, 'p': 3, 'weights': 'uniform'},\n",
              "  {'leaf_size': 1, 'n_neighbors': 31, 'p': 3, 'weights': 'distance'},\n",
              "  {'leaf_size': 1, 'n_neighbors': 32, 'p': 1, 'weights': 'uniform'},\n",
              "  {'leaf_size': 1, 'n_neighbors': 32, 'p': 1, 'weights': 'distance'},\n",
              "  {'leaf_size': 1, 'n_neighbors': 32, 'p': 2, 'weights': 'uniform'},\n",
              "  {'leaf_size': 1, 'n_neighbors': 32, 'p': 2, 'weights': 'distance'},\n",
              "  {'leaf_size': 1, 'n_neighbors': 32, 'p': 3, 'weights': 'uniform'},\n",
              "  {'leaf_size': 1, 'n_neighbors': 32, 'p': 3, 'weights': 'distance'},\n",
              "  {'leaf_size': 1, 'n_neighbors': 33, 'p': 1, 'weights': 'uniform'},\n",
              "  {'leaf_size': 1, 'n_neighbors': 33, 'p': 1, 'weights': 'distance'},\n",
              "  {'leaf_size': 1, 'n_neighbors': 33, 'p': 2, 'weights': 'uniform'},\n",
              "  {'leaf_size': 1, 'n_neighbors': 33, 'p': 2, 'weights': 'distance'},\n",
              "  {'leaf_size': 1, 'n_neighbors': 33, 'p': 3, 'weights': 'uniform'},\n",
              "  {'leaf_size': 1, 'n_neighbors': 33, 'p': 3, 'weights': 'distance'},\n",
              "  {'leaf_size': 1, 'n_neighbors': 34, 'p': 1, 'weights': 'uniform'},\n",
              "  {'leaf_size': 1, 'n_neighbors': 34, 'p': 1, 'weights': 'distance'},\n",
              "  {'leaf_size': 1, 'n_neighbors': 34, 'p': 2, 'weights': 'uniform'},\n",
              "  {'leaf_size': 1, 'n_neighbors': 34, 'p': 2, 'weights': 'distance'},\n",
              "  {'leaf_size': 1, 'n_neighbors': 34, 'p': 3, 'weights': 'uniform'},\n",
              "  {'leaf_size': 1, 'n_neighbors': 34, 'p': 3, 'weights': 'distance'},\n",
              "  {'leaf_size': 1, 'n_neighbors': 35, 'p': 1, 'weights': 'uniform'},\n",
              "  {'leaf_size': 1, 'n_neighbors': 35, 'p': 1, 'weights': 'distance'},\n",
              "  {'leaf_size': 1, 'n_neighbors': 35, 'p': 2, 'weights': 'uniform'},\n",
              "  {'leaf_size': 1, 'n_neighbors': 35, 'p': 2, 'weights': 'distance'},\n",
              "  {'leaf_size': 1, 'n_neighbors': 35, 'p': 3, 'weights': 'uniform'},\n",
              "  {'leaf_size': 1, 'n_neighbors': 35, 'p': 3, 'weights': 'distance'},\n",
              "  {'leaf_size': 1, 'n_neighbors': 36, 'p': 1, 'weights': 'uniform'},\n",
              "  {'leaf_size': 1, 'n_neighbors': 36, 'p': 1, 'weights': 'distance'},\n",
              "  {'leaf_size': 1, 'n_neighbors': 36, 'p': 2, 'weights': 'uniform'},\n",
              "  {'leaf_size': 1, 'n_neighbors': 36, 'p': 2, 'weights': 'distance'},\n",
              "  {'leaf_size': 1, 'n_neighbors': 36, 'p': 3, 'weights': 'uniform'},\n",
              "  {'leaf_size': 1, 'n_neighbors': 36, 'p': 3, 'weights': 'distance'},\n",
              "  {'leaf_size': 1, 'n_neighbors': 37, 'p': 1, 'weights': 'uniform'},\n",
              "  {'leaf_size': 1, 'n_neighbors': 37, 'p': 1, 'weights': 'distance'},\n",
              "  {'leaf_size': 1, 'n_neighbors': 37, 'p': 2, 'weights': 'uniform'},\n",
              "  {'leaf_size': 1, 'n_neighbors': 37, 'p': 2, 'weights': 'distance'},\n",
              "  {'leaf_size': 1, 'n_neighbors': 37, 'p': 3, 'weights': 'uniform'},\n",
              "  {'leaf_size': 1, 'n_neighbors': 37, 'p': 3, 'weights': 'distance'},\n",
              "  {'leaf_size': 1, 'n_neighbors': 38, 'p': 1, 'weights': 'uniform'},\n",
              "  {'leaf_size': 1, 'n_neighbors': 38, 'p': 1, 'weights': 'distance'},\n",
              "  {'leaf_size': 1, 'n_neighbors': 38, 'p': 2, 'weights': 'uniform'},\n",
              "  {'leaf_size': 1, 'n_neighbors': 38, 'p': 2, 'weights': 'distance'},\n",
              "  {'leaf_size': 1, 'n_neighbors': 38, 'p': 3, 'weights': 'uniform'},\n",
              "  {'leaf_size': 1, 'n_neighbors': 38, 'p': 3, 'weights': 'distance'},\n",
              "  {'leaf_size': 1, 'n_neighbors': 39, 'p': 1, 'weights': 'uniform'},\n",
              "  {'leaf_size': 1, 'n_neighbors': 39, 'p': 1, 'weights': 'distance'},\n",
              "  {'leaf_size': 1, 'n_neighbors': 39, 'p': 2, 'weights': 'uniform'},\n",
              "  {'leaf_size': 1, 'n_neighbors': 39, 'p': 2, 'weights': 'distance'},\n",
              "  {'leaf_size': 1, 'n_neighbors': 39, 'p': 3, 'weights': 'uniform'},\n",
              "  {'leaf_size': 1, 'n_neighbors': 39, 'p': 3, 'weights': 'distance'},\n",
              "  {'leaf_size': 2, 'n_neighbors': 1, 'p': 1, 'weights': 'uniform'},\n",
              "  {'leaf_size': 2, 'n_neighbors': 1, 'p': 1, 'weights': 'distance'},\n",
              "  {'leaf_size': 2, 'n_neighbors': 1, 'p': 2, 'weights': 'uniform'},\n",
              "  {'leaf_size': 2, 'n_neighbors': 1, 'p': 2, 'weights': 'distance'},\n",
              "  {'leaf_size': 2, 'n_neighbors': 1, 'p': 3, 'weights': 'uniform'},\n",
              "  {'leaf_size': 2, 'n_neighbors': 1, 'p': 3, 'weights': 'distance'},\n",
              "  {'leaf_size': 2, 'n_neighbors': 2, 'p': 1, 'weights': 'uniform'},\n",
              "  {'leaf_size': 2, 'n_neighbors': 2, 'p': 1, 'weights': 'distance'},\n",
              "  {'leaf_size': 2, 'n_neighbors': 2, 'p': 2, 'weights': 'uniform'},\n",
              "  {'leaf_size': 2, 'n_neighbors': 2, 'p': 2, 'weights': 'distance'},\n",
              "  {'leaf_size': 2, 'n_neighbors': 2, 'p': 3, 'weights': 'uniform'},\n",
              "  {'leaf_size': 2, 'n_neighbors': 2, 'p': 3, 'weights': 'distance'},\n",
              "  {'leaf_size': 2, 'n_neighbors': 3, 'p': 1, 'weights': 'uniform'},\n",
              "  {'leaf_size': 2, 'n_neighbors': 3, 'p': 1, 'weights': 'distance'},\n",
              "  {'leaf_size': 2, 'n_neighbors': 3, 'p': 2, 'weights': 'uniform'},\n",
              "  {'leaf_size': 2, 'n_neighbors': 3, 'p': 2, 'weights': 'distance'},\n",
              "  {'leaf_size': 2, 'n_neighbors': 3, 'p': 3, 'weights': 'uniform'},\n",
              "  {'leaf_size': 2, 'n_neighbors': 3, 'p': 3, 'weights': 'distance'},\n",
              "  {'leaf_size': 2, 'n_neighbors': 4, 'p': 1, 'weights': 'uniform'},\n",
              "  {'leaf_size': 2, 'n_neighbors': 4, 'p': 1, 'weights': 'distance'},\n",
              "  {'leaf_size': 2, 'n_neighbors': 4, 'p': 2, 'weights': 'uniform'},\n",
              "  {'leaf_size': 2, 'n_neighbors': 4, 'p': 2, 'weights': 'distance'},\n",
              "  {'leaf_size': 2, 'n_neighbors': 4, 'p': 3, 'weights': 'uniform'},\n",
              "  {'leaf_size': 2, 'n_neighbors': 4, 'p': 3, 'weights': 'distance'},\n",
              "  {'leaf_size': 2, 'n_neighbors': 5, 'p': 1, 'weights': 'uniform'},\n",
              "  {'leaf_size': 2, 'n_neighbors': 5, 'p': 1, 'weights': 'distance'},\n",
              "  {'leaf_size': 2, 'n_neighbors': 5, 'p': 2, 'weights': 'uniform'},\n",
              "  {'leaf_size': 2, 'n_neighbors': 5, 'p': 2, 'weights': 'distance'},\n",
              "  {'leaf_size': 2, 'n_neighbors': 5, 'p': 3, 'weights': 'uniform'},\n",
              "  {'leaf_size': 2, 'n_neighbors': 5, 'p': 3, 'weights': 'distance'},\n",
              "  {'leaf_size': 2, 'n_neighbors': 6, 'p': 1, 'weights': 'uniform'},\n",
              "  {'leaf_size': 2, 'n_neighbors': 6, 'p': 1, 'weights': 'distance'},\n",
              "  {'leaf_size': 2, 'n_neighbors': 6, 'p': 2, 'weights': 'uniform'},\n",
              "  {'leaf_size': 2, 'n_neighbors': 6, 'p': 2, 'weights': 'distance'},\n",
              "  {'leaf_size': 2, 'n_neighbors': 6, 'p': 3, 'weights': 'uniform'},\n",
              "  {'leaf_size': 2, 'n_neighbors': 6, 'p': 3, 'weights': 'distance'},\n",
              "  {'leaf_size': 2, 'n_neighbors': 7, 'p': 1, 'weights': 'uniform'},\n",
              "  {'leaf_size': 2, 'n_neighbors': 7, 'p': 1, 'weights': 'distance'},\n",
              "  {'leaf_size': 2, 'n_neighbors': 7, 'p': 2, 'weights': 'uniform'},\n",
              "  {'leaf_size': 2, 'n_neighbors': 7, 'p': 2, 'weights': 'distance'},\n",
              "  {'leaf_size': 2, 'n_neighbors': 7, 'p': 3, 'weights': 'uniform'},\n",
              "  {'leaf_size': 2, 'n_neighbors': 7, 'p': 3, 'weights': 'distance'},\n",
              "  {'leaf_size': 2, 'n_neighbors': 8, 'p': 1, 'weights': 'uniform'},\n",
              "  {'leaf_size': 2, 'n_neighbors': 8, 'p': 1, 'weights': 'distance'},\n",
              "  {'leaf_size': 2, 'n_neighbors': 8, 'p': 2, 'weights': 'uniform'},\n",
              "  {'leaf_size': 2, 'n_neighbors': 8, 'p': 2, 'weights': 'distance'},\n",
              "  {'leaf_size': 2, 'n_neighbors': 8, 'p': 3, 'weights': 'uniform'},\n",
              "  {'leaf_size': 2, 'n_neighbors': 8, 'p': 3, 'weights': 'distance'},\n",
              "  {'leaf_size': 2, 'n_neighbors': 9, 'p': 1, 'weights': 'uniform'},\n",
              "  {'leaf_size': 2, 'n_neighbors': 9, 'p': 1, 'weights': 'distance'},\n",
              "  {'leaf_size': 2, 'n_neighbors': 9, 'p': 2, 'weights': 'uniform'},\n",
              "  {'leaf_size': 2, 'n_neighbors': 9, 'p': 2, 'weights': 'distance'},\n",
              "  {'leaf_size': 2, 'n_neighbors': 9, 'p': 3, 'weights': 'uniform'},\n",
              "  {'leaf_size': 2, 'n_neighbors': 9, 'p': 3, 'weights': 'distance'},\n",
              "  {'leaf_size': 2, 'n_neighbors': 10, 'p': 1, 'weights': 'uniform'},\n",
              "  {'leaf_size': 2, 'n_neighbors': 10, 'p': 1, 'weights': 'distance'},\n",
              "  {'leaf_size': 2, 'n_neighbors': 10, 'p': 2, 'weights': 'uniform'},\n",
              "  {'leaf_size': 2, 'n_neighbors': 10, 'p': 2, 'weights': 'distance'},\n",
              "  {'leaf_size': 2, 'n_neighbors': 10, 'p': 3, 'weights': 'uniform'},\n",
              "  {'leaf_size': 2, 'n_neighbors': 10, 'p': 3, 'weights': 'distance'},\n",
              "  {'leaf_size': 2, 'n_neighbors': 11, 'p': 1, 'weights': 'uniform'},\n",
              "  {'leaf_size': 2, 'n_neighbors': 11, 'p': 1, 'weights': 'distance'},\n",
              "  {'leaf_size': 2, 'n_neighbors': 11, 'p': 2, 'weights': 'uniform'},\n",
              "  {'leaf_size': 2, 'n_neighbors': 11, 'p': 2, 'weights': 'distance'},\n",
              "  {'leaf_size': 2, 'n_neighbors': 11, 'p': 3, 'weights': 'uniform'},\n",
              "  {'leaf_size': 2, 'n_neighbors': 11, 'p': 3, 'weights': 'distance'},\n",
              "  {'leaf_size': 2, 'n_neighbors': 12, 'p': 1, 'weights': 'uniform'},\n",
              "  {'leaf_size': 2, 'n_neighbors': 12, 'p': 1, 'weights': 'distance'},\n",
              "  {'leaf_size': 2, 'n_neighbors': 12, 'p': 2, 'weights': 'uniform'},\n",
              "  {'leaf_size': 2, 'n_neighbors': 12, 'p': 2, 'weights': 'distance'},\n",
              "  {'leaf_size': 2, 'n_neighbors': 12, 'p': 3, 'weights': 'uniform'},\n",
              "  {'leaf_size': 2, 'n_neighbors': 12, 'p': 3, 'weights': 'distance'},\n",
              "  {'leaf_size': 2, 'n_neighbors': 13, 'p': 1, 'weights': 'uniform'},\n",
              "  {'leaf_size': 2, 'n_neighbors': 13, 'p': 1, 'weights': 'distance'},\n",
              "  {'leaf_size': 2, 'n_neighbors': 13, 'p': 2, 'weights': 'uniform'},\n",
              "  {'leaf_size': 2, 'n_neighbors': 13, 'p': 2, 'weights': 'distance'},\n",
              "  {'leaf_size': 2, 'n_neighbors': 13, 'p': 3, 'weights': 'uniform'},\n",
              "  {'leaf_size': 2, 'n_neighbors': 13, 'p': 3, 'weights': 'distance'},\n",
              "  {'leaf_size': 2, 'n_neighbors': 14, 'p': 1, 'weights': 'uniform'},\n",
              "  {'leaf_size': 2, 'n_neighbors': 14, 'p': 1, 'weights': 'distance'},\n",
              "  {'leaf_size': 2, 'n_neighbors': 14, 'p': 2, 'weights': 'uniform'},\n",
              "  {'leaf_size': 2, 'n_neighbors': 14, 'p': 2, 'weights': 'distance'},\n",
              "  {'leaf_size': 2, 'n_neighbors': 14, 'p': 3, 'weights': 'uniform'},\n",
              "  {'leaf_size': 2, 'n_neighbors': 14, 'p': 3, 'weights': 'distance'},\n",
              "  {'leaf_size': 2, 'n_neighbors': 15, 'p': 1, 'weights': 'uniform'},\n",
              "  {'leaf_size': 2, 'n_neighbors': 15, 'p': 1, 'weights': 'distance'},\n",
              "  {'leaf_size': 2, 'n_neighbors': 15, 'p': 2, 'weights': 'uniform'},\n",
              "  {'leaf_size': 2, 'n_neighbors': 15, 'p': 2, 'weights': 'distance'},\n",
              "  {'leaf_size': 2, 'n_neighbors': 15, 'p': 3, 'weights': 'uniform'},\n",
              "  {'leaf_size': 2, 'n_neighbors': 15, 'p': 3, 'weights': 'distance'},\n",
              "  {'leaf_size': 2, 'n_neighbors': 16, 'p': 1, 'weights': 'uniform'},\n",
              "  {'leaf_size': 2, 'n_neighbors': 16, 'p': 1, 'weights': 'distance'},\n",
              "  {'leaf_size': 2, 'n_neighbors': 16, 'p': 2, 'weights': 'uniform'},\n",
              "  {'leaf_size': 2, 'n_neighbors': 16, 'p': 2, 'weights': 'distance'},\n",
              "  {'leaf_size': 2, 'n_neighbors': 16, 'p': 3, 'weights': 'uniform'},\n",
              "  {'leaf_size': 2, 'n_neighbors': 16, 'p': 3, 'weights': 'distance'},\n",
              "  {'leaf_size': 2, 'n_neighbors': 17, 'p': 1, 'weights': 'uniform'},\n",
              "  {'leaf_size': 2, 'n_neighbors': 17, 'p': 1, 'weights': 'distance'},\n",
              "  {'leaf_size': 2, 'n_neighbors': 17, 'p': 2, 'weights': 'uniform'},\n",
              "  {'leaf_size': 2, 'n_neighbors': 17, 'p': 2, 'weights': 'distance'},\n",
              "  {'leaf_size': 2, 'n_neighbors': 17, 'p': 3, 'weights': 'uniform'},\n",
              "  {'leaf_size': 2, 'n_neighbors': 17, 'p': 3, 'weights': 'distance'},\n",
              "  {'leaf_size': 2, 'n_neighbors': 18, 'p': 1, 'weights': 'uniform'},\n",
              "  {'leaf_size': 2, 'n_neighbors': 18, 'p': 1, 'weights': 'distance'},\n",
              "  {'leaf_size': 2, 'n_neighbors': 18, 'p': 2, 'weights': 'uniform'},\n",
              "  {'leaf_size': 2, 'n_neighbors': 18, 'p': 2, 'weights': 'distance'},\n",
              "  {'leaf_size': 2, 'n_neighbors': 18, 'p': 3, 'weights': 'uniform'},\n",
              "  {'leaf_size': 2, 'n_neighbors': 18, 'p': 3, 'weights': 'distance'},\n",
              "  {'leaf_size': 2, 'n_neighbors': 19, 'p': 1, 'weights': 'uniform'},\n",
              "  {'leaf_size': 2, 'n_neighbors': 19, 'p': 1, 'weights': 'distance'},\n",
              "  {'leaf_size': 2, 'n_neighbors': 19, 'p': 2, 'weights': 'uniform'},\n",
              "  {'leaf_size': 2, 'n_neighbors': 19, 'p': 2, 'weights': 'distance'},\n",
              "  {'leaf_size': 2, 'n_neighbors': 19, 'p': 3, 'weights': 'uniform'},\n",
              "  {'leaf_size': 2, 'n_neighbors': 19, 'p': 3, 'weights': 'distance'},\n",
              "  {'leaf_size': 2, 'n_neighbors': 20, 'p': 1, 'weights': 'uniform'},\n",
              "  {'leaf_size': 2, 'n_neighbors': 20, 'p': 1, 'weights': 'distance'},\n",
              "  {'leaf_size': 2, 'n_neighbors': 20, 'p': 2, 'weights': 'uniform'},\n",
              "  {'leaf_size': 2, 'n_neighbors': 20, 'p': 2, 'weights': 'distance'},\n",
              "  {'leaf_size': 2, 'n_neighbors': 20, 'p': 3, 'weights': 'uniform'},\n",
              "  {'leaf_size': 2, 'n_neighbors': 20, 'p': 3, 'weights': 'distance'},\n",
              "  {'leaf_size': 2, 'n_neighbors': 21, 'p': 1, 'weights': 'uniform'},\n",
              "  {'leaf_size': 2, 'n_neighbors': 21, 'p': 1, 'weights': 'distance'},\n",
              "  {'leaf_size': 2, 'n_neighbors': 21, 'p': 2, 'weights': 'uniform'},\n",
              "  {'leaf_size': 2, 'n_neighbors': 21, 'p': 2, 'weights': 'distance'},\n",
              "  {'leaf_size': 2, 'n_neighbors': 21, 'p': 3, 'weights': 'uniform'},\n",
              "  {'leaf_size': 2, 'n_neighbors': 21, 'p': 3, 'weights': 'distance'},\n",
              "  {'leaf_size': 2, 'n_neighbors': 22, 'p': 1, 'weights': 'uniform'},\n",
              "  {'leaf_size': 2, 'n_neighbors': 22, 'p': 1, 'weights': 'distance'},\n",
              "  {'leaf_size': 2, 'n_neighbors': 22, 'p': 2, 'weights': 'uniform'},\n",
              "  {'leaf_size': 2, 'n_neighbors': 22, 'p': 2, 'weights': 'distance'},\n",
              "  {'leaf_size': 2, 'n_neighbors': 22, 'p': 3, 'weights': 'uniform'},\n",
              "  {'leaf_size': 2, 'n_neighbors': 22, 'p': 3, 'weights': 'distance'},\n",
              "  {'leaf_size': 2, 'n_neighbors': 23, 'p': 1, 'weights': 'uniform'},\n",
              "  {'leaf_size': 2, 'n_neighbors': 23, 'p': 1, 'weights': 'distance'},\n",
              "  {'leaf_size': 2, 'n_neighbors': 23, 'p': 2, 'weights': 'uniform'},\n",
              "  {'leaf_size': 2, 'n_neighbors': 23, 'p': 2, 'weights': 'distance'},\n",
              "  {'leaf_size': 2, 'n_neighbors': 23, 'p': 3, 'weights': 'uniform'},\n",
              "  {'leaf_size': 2, 'n_neighbors': 23, 'p': 3, 'weights': 'distance'},\n",
              "  {'leaf_size': 2, 'n_neighbors': 24, 'p': 1, 'weights': 'uniform'},\n",
              "  {'leaf_size': 2, 'n_neighbors': 24, 'p': 1, 'weights': 'distance'},\n",
              "  {'leaf_size': 2, 'n_neighbors': 24, 'p': 2, 'weights': 'uniform'},\n",
              "  {'leaf_size': 2, 'n_neighbors': 24, 'p': 2, 'weights': 'distance'},\n",
              "  {'leaf_size': 2, 'n_neighbors': 24, 'p': 3, 'weights': 'uniform'},\n",
              "  {'leaf_size': 2, 'n_neighbors': 24, 'p': 3, 'weights': 'distance'},\n",
              "  {'leaf_size': 2, 'n_neighbors': 25, 'p': 1, 'weights': 'uniform'},\n",
              "  {'leaf_size': 2, 'n_neighbors': 25, 'p': 1, 'weights': 'distance'},\n",
              "  {'leaf_size': 2, 'n_neighbors': 25, 'p': 2, 'weights': 'uniform'},\n",
              "  {'leaf_size': 2, 'n_neighbors': 25, 'p': 2, 'weights': 'distance'},\n",
              "  {'leaf_size': 2, 'n_neighbors': 25, 'p': 3, 'weights': 'uniform'},\n",
              "  {'leaf_size': 2, 'n_neighbors': 25, 'p': 3, 'weights': 'distance'},\n",
              "  {'leaf_size': 2, 'n_neighbors': 26, 'p': 1, 'weights': 'uniform'},\n",
              "  {'leaf_size': 2, 'n_neighbors': 26, 'p': 1, 'weights': 'distance'},\n",
              "  {'leaf_size': 2, 'n_neighbors': 26, 'p': 2, 'weights': 'uniform'},\n",
              "  {'leaf_size': 2, 'n_neighbors': 26, 'p': 2, 'weights': 'distance'},\n",
              "  {'leaf_size': 2, 'n_neighbors': 26, 'p': 3, 'weights': 'uniform'},\n",
              "  {'leaf_size': 2, 'n_neighbors': 26, 'p': 3, 'weights': 'distance'},\n",
              "  {'leaf_size': 2, 'n_neighbors': 27, 'p': 1, 'weights': 'uniform'},\n",
              "  {'leaf_size': 2, 'n_neighbors': 27, 'p': 1, 'weights': 'distance'},\n",
              "  {'leaf_size': 2, 'n_neighbors': 27, 'p': 2, 'weights': 'uniform'},\n",
              "  {'leaf_size': 2, 'n_neighbors': 27, 'p': 2, 'weights': 'distance'},\n",
              "  {'leaf_size': 2, 'n_neighbors': 27, 'p': 3, 'weights': 'uniform'},\n",
              "  {'leaf_size': 2, 'n_neighbors': 27, 'p': 3, 'weights': 'distance'},\n",
              "  {'leaf_size': 2, 'n_neighbors': 28, 'p': 1, 'weights': 'uniform'},\n",
              "  {'leaf_size': 2, 'n_neighbors': 28, 'p': 1, 'weights': 'distance'},\n",
              "  {'leaf_size': 2, 'n_neighbors': 28, 'p': 2, 'weights': 'uniform'},\n",
              "  {'leaf_size': 2, 'n_neighbors': 28, 'p': 2, 'weights': 'distance'},\n",
              "  {'leaf_size': 2, 'n_neighbors': 28, 'p': 3, 'weights': 'uniform'},\n",
              "  {'leaf_size': 2, 'n_neighbors': 28, 'p': 3, 'weights': 'distance'},\n",
              "  {'leaf_size': 2, 'n_neighbors': 29, 'p': 1, 'weights': 'uniform'},\n",
              "  {'leaf_size': 2, 'n_neighbors': 29, 'p': 1, 'weights': 'distance'},\n",
              "  {'leaf_size': 2, 'n_neighbors': 29, 'p': 2, 'weights': 'uniform'},\n",
              "  {'leaf_size': 2, 'n_neighbors': 29, 'p': 2, 'weights': 'distance'},\n",
              "  {'leaf_size': 2, 'n_neighbors': 29, 'p': 3, 'weights': 'uniform'},\n",
              "  {'leaf_size': 2, 'n_neighbors': 29, 'p': 3, 'weights': 'distance'},\n",
              "  {'leaf_size': 2, 'n_neighbors': 30, 'p': 1, 'weights': 'uniform'},\n",
              "  {'leaf_size': 2, 'n_neighbors': 30, 'p': 1, 'weights': 'distance'},\n",
              "  {'leaf_size': 2, 'n_neighbors': 30, 'p': 2, 'weights': 'uniform'},\n",
              "  {'leaf_size': 2, 'n_neighbors': 30, 'p': 2, 'weights': 'distance'},\n",
              "  {'leaf_size': 2, 'n_neighbors': 30, 'p': 3, 'weights': 'uniform'},\n",
              "  {'leaf_size': 2, 'n_neighbors': 30, 'p': 3, 'weights': 'distance'},\n",
              "  {'leaf_size': 2, 'n_neighbors': 31, 'p': 1, 'weights': 'uniform'},\n",
              "  {'leaf_size': 2, 'n_neighbors': 31, 'p': 1, 'weights': 'distance'},\n",
              "  {'leaf_size': 2, 'n_neighbors': 31, 'p': 2, 'weights': 'uniform'},\n",
              "  {'leaf_size': 2, 'n_neighbors': 31, 'p': 2, 'weights': 'distance'},\n",
              "  {'leaf_size': 2, 'n_neighbors': 31, 'p': 3, 'weights': 'uniform'},\n",
              "  {'leaf_size': 2, 'n_neighbors': 31, 'p': 3, 'weights': 'distance'},\n",
              "  {'leaf_size': 2, 'n_neighbors': 32, 'p': 1, 'weights': 'uniform'},\n",
              "  {'leaf_size': 2, 'n_neighbors': 32, 'p': 1, 'weights': 'distance'},\n",
              "  {'leaf_size': 2, 'n_neighbors': 32, 'p': 2, 'weights': 'uniform'},\n",
              "  {'leaf_size': 2, 'n_neighbors': 32, 'p': 2, 'weights': 'distance'},\n",
              "  {'leaf_size': 2, 'n_neighbors': 32, 'p': 3, 'weights': 'uniform'},\n",
              "  {'leaf_size': 2, 'n_neighbors': 32, 'p': 3, 'weights': 'distance'},\n",
              "  {'leaf_size': 2, 'n_neighbors': 33, 'p': 1, 'weights': 'uniform'},\n",
              "  {'leaf_size': 2, 'n_neighbors': 33, 'p': 1, 'weights': 'distance'},\n",
              "  {'leaf_size': 2, 'n_neighbors': 33, 'p': 2, 'weights': 'uniform'},\n",
              "  {'leaf_size': 2, 'n_neighbors': 33, 'p': 2, 'weights': 'distance'},\n",
              "  {'leaf_size': 2, 'n_neighbors': 33, 'p': 3, 'weights': 'uniform'},\n",
              "  {'leaf_size': 2, 'n_neighbors': 33, 'p': 3, 'weights': 'distance'},\n",
              "  {'leaf_size': 2, 'n_neighbors': 34, 'p': 1, 'weights': 'uniform'},\n",
              "  {'leaf_size': 2, 'n_neighbors': 34, 'p': 1, 'weights': 'distance'},\n",
              "  {'leaf_size': 2, 'n_neighbors': 34, 'p': 2, 'weights': 'uniform'},\n",
              "  {'leaf_size': 2, 'n_neighbors': 34, 'p': 2, 'weights': 'distance'},\n",
              "  {'leaf_size': 2, 'n_neighbors': 34, 'p': 3, 'weights': 'uniform'},\n",
              "  {'leaf_size': 2, 'n_neighbors': 34, 'p': 3, 'weights': 'distance'},\n",
              "  {'leaf_size': 2, 'n_neighbors': 35, 'p': 1, 'weights': 'uniform'},\n",
              "  {'leaf_size': 2, 'n_neighbors': 35, 'p': 1, 'weights': 'distance'},\n",
              "  {'leaf_size': 2, 'n_neighbors': 35, 'p': 2, 'weights': 'uniform'},\n",
              "  {'leaf_size': 2, 'n_neighbors': 35, 'p': 2, 'weights': 'distance'},\n",
              "  {'leaf_size': 2, 'n_neighbors': 35, 'p': 3, 'weights': 'uniform'},\n",
              "  {'leaf_size': 2, 'n_neighbors': 35, 'p': 3, 'weights': 'distance'},\n",
              "  {'leaf_size': 2, 'n_neighbors': 36, 'p': 1, 'weights': 'uniform'},\n",
              "  {'leaf_size': 2, 'n_neighbors': 36, 'p': 1, 'weights': 'distance'},\n",
              "  {'leaf_size': 2, 'n_neighbors': 36, 'p': 2, 'weights': 'uniform'},\n",
              "  {'leaf_size': 2, 'n_neighbors': 36, 'p': 2, 'weights': 'distance'},\n",
              "  {'leaf_size': 2, 'n_neighbors': 36, 'p': 3, 'weights': 'uniform'},\n",
              "  {'leaf_size': 2, 'n_neighbors': 36, 'p': 3, 'weights': 'distance'},\n",
              "  {'leaf_size': 2, 'n_neighbors': 37, 'p': 1, 'weights': 'uniform'},\n",
              "  {'leaf_size': 2, 'n_neighbors': 37, 'p': 1, 'weights': 'distance'},\n",
              "  {'leaf_size': 2, 'n_neighbors': 37, 'p': 2, 'weights': 'uniform'},\n",
              "  {'leaf_size': 2, 'n_neighbors': 37, 'p': 2, 'weights': 'distance'},\n",
              "  {'leaf_size': 2, 'n_neighbors': 37, 'p': 3, 'weights': 'uniform'},\n",
              "  {'leaf_size': 2, 'n_neighbors': 37, 'p': 3, 'weights': 'distance'},\n",
              "  {'leaf_size': 2, 'n_neighbors': 38, 'p': 1, 'weights': 'uniform'},\n",
              "  {'leaf_size': 2, 'n_neighbors': 38, 'p': 1, 'weights': 'distance'},\n",
              "  {'leaf_size': 2, 'n_neighbors': 38, 'p': 2, 'weights': 'uniform'},\n",
              "  {'leaf_size': 2, 'n_neighbors': 38, 'p': 2, 'weights': 'distance'},\n",
              "  {'leaf_size': 2, 'n_neighbors': 38, 'p': 3, 'weights': 'uniform'},\n",
              "  {'leaf_size': 2, 'n_neighbors': 38, 'p': 3, 'weights': 'distance'},\n",
              "  {'leaf_size': 2, 'n_neighbors': 39, 'p': 1, 'weights': 'uniform'},\n",
              "  {'leaf_size': 2, 'n_neighbors': 39, 'p': 1, 'weights': 'distance'},\n",
              "  {'leaf_size': 2, 'n_neighbors': 39, 'p': 2, 'weights': 'uniform'},\n",
              "  {'leaf_size': 2, 'n_neighbors': 39, 'p': 2, 'weights': 'distance'},\n",
              "  {'leaf_size': 2, 'n_neighbors': 39, 'p': 3, 'weights': 'uniform'},\n",
              "  {'leaf_size': 2, 'n_neighbors': 39, 'p': 3, 'weights': 'distance'},\n",
              "  {'leaf_size': 3, 'n_neighbors': 1, 'p': 1, 'weights': 'uniform'},\n",
              "  {'leaf_size': 3, 'n_neighbors': 1, 'p': 1, 'weights': 'distance'},\n",
              "  {'leaf_size': 3, 'n_neighbors': 1, 'p': 2, 'weights': 'uniform'},\n",
              "  {'leaf_size': 3, 'n_neighbors': 1, 'p': 2, 'weights': 'distance'},\n",
              "  {'leaf_size': 3, 'n_neighbors': 1, 'p': 3, 'weights': 'uniform'},\n",
              "  {'leaf_size': 3, 'n_neighbors': 1, 'p': 3, 'weights': 'distance'},\n",
              "  {'leaf_size': 3, 'n_neighbors': 2, 'p': 1, 'weights': 'uniform'},\n",
              "  {'leaf_size': 3, 'n_neighbors': 2, 'p': 1, 'weights': 'distance'},\n",
              "  {'leaf_size': 3, 'n_neighbors': 2, 'p': 2, 'weights': 'uniform'},\n",
              "  {'leaf_size': 3, 'n_neighbors': 2, 'p': 2, 'weights': 'distance'},\n",
              "  {'leaf_size': 3, 'n_neighbors': 2, 'p': 3, 'weights': 'uniform'},\n",
              "  {'leaf_size': 3, 'n_neighbors': 2, 'p': 3, 'weights': 'distance'},\n",
              "  {'leaf_size': 3, 'n_neighbors': 3, 'p': 1, 'weights': 'uniform'},\n",
              "  {'leaf_size': 3, 'n_neighbors': 3, 'p': 1, 'weights': 'distance'},\n",
              "  {'leaf_size': 3, 'n_neighbors': 3, 'p': 2, 'weights': 'uniform'},\n",
              "  {'leaf_size': 3, 'n_neighbors': 3, 'p': 2, 'weights': 'distance'},\n",
              "  {'leaf_size': 3, 'n_neighbors': 3, 'p': 3, 'weights': 'uniform'},\n",
              "  {'leaf_size': 3, 'n_neighbors': 3, 'p': 3, 'weights': 'distance'},\n",
              "  {'leaf_size': 3, 'n_neighbors': 4, 'p': 1, 'weights': 'uniform'},\n",
              "  {'leaf_size': 3, 'n_neighbors': 4, 'p': 1, 'weights': 'distance'},\n",
              "  {'leaf_size': 3, 'n_neighbors': 4, 'p': 2, 'weights': 'uniform'},\n",
              "  {'leaf_size': 3, 'n_neighbors': 4, 'p': 2, 'weights': 'distance'},\n",
              "  {'leaf_size': 3, 'n_neighbors': 4, 'p': 3, 'weights': 'uniform'},\n",
              "  {'leaf_size': 3, 'n_neighbors': 4, 'p': 3, 'weights': 'distance'},\n",
              "  {'leaf_size': 3, 'n_neighbors': 5, 'p': 1, 'weights': 'uniform'},\n",
              "  {'leaf_size': 3, 'n_neighbors': 5, 'p': 1, 'weights': 'distance'},\n",
              "  {'leaf_size': 3, 'n_neighbors': 5, 'p': 2, 'weights': 'uniform'},\n",
              "  {'leaf_size': 3, 'n_neighbors': 5, 'p': 2, 'weights': 'distance'},\n",
              "  {'leaf_size': 3, 'n_neighbors': 5, 'p': 3, 'weights': 'uniform'},\n",
              "  {'leaf_size': 3, 'n_neighbors': 5, 'p': 3, 'weights': 'distance'},\n",
              "  {'leaf_size': 3, 'n_neighbors': 6, 'p': 1, 'weights': 'uniform'},\n",
              "  {'leaf_size': 3, 'n_neighbors': 6, 'p': 1, 'weights': 'distance'},\n",
              "  {'leaf_size': 3, 'n_neighbors': 6, 'p': 2, 'weights': 'uniform'},\n",
              "  {'leaf_size': 3, 'n_neighbors': 6, 'p': 2, 'weights': 'distance'},\n",
              "  {'leaf_size': 3, 'n_neighbors': 6, 'p': 3, 'weights': 'uniform'},\n",
              "  {'leaf_size': 3, 'n_neighbors': 6, 'p': 3, 'weights': 'distance'},\n",
              "  {'leaf_size': 3, 'n_neighbors': 7, 'p': 1, 'weights': 'uniform'},\n",
              "  {'leaf_size': 3, 'n_neighbors': 7, 'p': 1, 'weights': 'distance'},\n",
              "  {'leaf_size': 3, 'n_neighbors': 7, 'p': 2, 'weights': 'uniform'},\n",
              "  {'leaf_size': 3, 'n_neighbors': 7, 'p': 2, 'weights': 'distance'},\n",
              "  {'leaf_size': 3, 'n_neighbors': 7, 'p': 3, 'weights': 'uniform'},\n",
              "  {'leaf_size': 3, 'n_neighbors': 7, 'p': 3, 'weights': 'distance'},\n",
              "  {'leaf_size': 3, 'n_neighbors': 8, 'p': 1, 'weights': 'uniform'},\n",
              "  {'leaf_size': 3, 'n_neighbors': 8, 'p': 1, 'weights': 'distance'},\n",
              "  {'leaf_size': 3, 'n_neighbors': 8, 'p': 2, 'weights': 'uniform'},\n",
              "  {'leaf_size': 3, 'n_neighbors': 8, 'p': 2, 'weights': 'distance'},\n",
              "  {'leaf_size': 3, 'n_neighbors': 8, 'p': 3, 'weights': 'uniform'},\n",
              "  {'leaf_size': 3, 'n_neighbors': 8, 'p': 3, 'weights': 'distance'},\n",
              "  {'leaf_size': 3, 'n_neighbors': 9, 'p': 1, 'weights': 'uniform'},\n",
              "  {'leaf_size': 3, 'n_neighbors': 9, 'p': 1, 'weights': 'distance'},\n",
              "  {'leaf_size': 3, 'n_neighbors': 9, 'p': 2, 'weights': 'uniform'},\n",
              "  {'leaf_size': 3, 'n_neighbors': 9, 'p': 2, 'weights': 'distance'},\n",
              "  {'leaf_size': 3, 'n_neighbors': 9, 'p': 3, 'weights': 'uniform'},\n",
              "  {'leaf_size': 3, 'n_neighbors': 9, 'p': 3, 'weights': 'distance'},\n",
              "  {'leaf_size': 3, 'n_neighbors': 10, 'p': 1, 'weights': 'uniform'},\n",
              "  {'leaf_size': 3, 'n_neighbors': 10, 'p': 1, 'weights': 'distance'},\n",
              "  {'leaf_size': 3, 'n_neighbors': 10, 'p': 2, 'weights': 'uniform'},\n",
              "  {'leaf_size': 3, 'n_neighbors': 10, 'p': 2, 'weights': 'distance'},\n",
              "  {'leaf_size': 3, 'n_neighbors': 10, 'p': 3, 'weights': 'uniform'},\n",
              "  {'leaf_size': 3, 'n_neighbors': 10, 'p': 3, 'weights': 'distance'},\n",
              "  {'leaf_size': 3, 'n_neighbors': 11, 'p': 1, 'weights': 'uniform'},\n",
              "  {'leaf_size': 3, 'n_neighbors': 11, 'p': 1, 'weights': 'distance'},\n",
              "  {'leaf_size': 3, 'n_neighbors': 11, 'p': 2, 'weights': 'uniform'},\n",
              "  {'leaf_size': 3, 'n_neighbors': 11, 'p': 2, 'weights': 'distance'},\n",
              "  {'leaf_size': 3, 'n_neighbors': 11, 'p': 3, 'weights': 'uniform'},\n",
              "  {'leaf_size': 3, 'n_neighbors': 11, 'p': 3, 'weights': 'distance'},\n",
              "  {'leaf_size': 3, 'n_neighbors': 12, 'p': 1, 'weights': 'uniform'},\n",
              "  {'leaf_size': 3, 'n_neighbors': 12, 'p': 1, 'weights': 'distance'},\n",
              "  {'leaf_size': 3, 'n_neighbors': 12, 'p': 2, 'weights': 'uniform'},\n",
              "  {'leaf_size': 3, 'n_neighbors': 12, 'p': 2, 'weights': 'distance'},\n",
              "  {'leaf_size': 3, 'n_neighbors': 12, 'p': 3, 'weights': 'uniform'},\n",
              "  {'leaf_size': 3, 'n_neighbors': 12, 'p': 3, 'weights': 'distance'},\n",
              "  {'leaf_size': 3, 'n_neighbors': 13, 'p': 1, 'weights': 'uniform'},\n",
              "  {'leaf_size': 3, 'n_neighbors': 13, 'p': 1, 'weights': 'distance'},\n",
              "  {'leaf_size': 3, 'n_neighbors': 13, 'p': 2, 'weights': 'uniform'},\n",
              "  {'leaf_size': 3, 'n_neighbors': 13, 'p': 2, 'weights': 'distance'},\n",
              "  {'leaf_size': 3, 'n_neighbors': 13, 'p': 3, 'weights': 'uniform'},\n",
              "  {'leaf_size': 3, 'n_neighbors': 13, 'p': 3, 'weights': 'distance'},\n",
              "  {'leaf_size': 3, 'n_neighbors': 14, 'p': 1, 'weights': 'uniform'},\n",
              "  {'leaf_size': 3, 'n_neighbors': 14, 'p': 1, 'weights': 'distance'},\n",
              "  {'leaf_size': 3, 'n_neighbors': 14, 'p': 2, 'weights': 'uniform'},\n",
              "  {'leaf_size': 3, 'n_neighbors': 14, 'p': 2, 'weights': 'distance'},\n",
              "  {'leaf_size': 3, 'n_neighbors': 14, 'p': 3, 'weights': 'uniform'},\n",
              "  {'leaf_size': 3, 'n_neighbors': 14, 'p': 3, 'weights': 'distance'},\n",
              "  {'leaf_size': 3, 'n_neighbors': 15, 'p': 1, 'weights': 'uniform'},\n",
              "  {'leaf_size': 3, 'n_neighbors': 15, 'p': 1, 'weights': 'distance'},\n",
              "  {'leaf_size': 3, 'n_neighbors': 15, 'p': 2, 'weights': 'uniform'},\n",
              "  {'leaf_size': 3, 'n_neighbors': 15, 'p': 2, 'weights': 'distance'},\n",
              "  {'leaf_size': 3, 'n_neighbors': 15, 'p': 3, 'weights': 'uniform'},\n",
              "  {'leaf_size': 3, 'n_neighbors': 15, 'p': 3, 'weights': 'distance'},\n",
              "  {'leaf_size': 3, 'n_neighbors': 16, 'p': 1, 'weights': 'uniform'},\n",
              "  {'leaf_size': 3, 'n_neighbors': 16, 'p': 1, 'weights': 'distance'},\n",
              "  {'leaf_size': 3, 'n_neighbors': 16, 'p': 2, 'weights': 'uniform'},\n",
              "  {'leaf_size': 3, 'n_neighbors': 16, 'p': 2, 'weights': 'distance'},\n",
              "  {'leaf_size': 3, 'n_neighbors': 16, 'p': 3, 'weights': 'uniform'},\n",
              "  {'leaf_size': 3, 'n_neighbors': 16, 'p': 3, 'weights': 'distance'},\n",
              "  {'leaf_size': 3, 'n_neighbors': 17, 'p': 1, 'weights': 'uniform'},\n",
              "  {'leaf_size': 3, 'n_neighbors': 17, 'p': 1, 'weights': 'distance'},\n",
              "  {'leaf_size': 3, 'n_neighbors': 17, 'p': 2, 'weights': 'uniform'},\n",
              "  {'leaf_size': 3, 'n_neighbors': 17, 'p': 2, 'weights': 'distance'},\n",
              "  {'leaf_size': 3, 'n_neighbors': 17, 'p': 3, 'weights': 'uniform'},\n",
              "  {'leaf_size': 3, 'n_neighbors': 17, 'p': 3, 'weights': 'distance'},\n",
              "  {'leaf_size': 3, 'n_neighbors': 18, 'p': 1, 'weights': 'uniform'},\n",
              "  {'leaf_size': 3, 'n_neighbors': 18, 'p': 1, 'weights': 'distance'},\n",
              "  {'leaf_size': 3, 'n_neighbors': 18, 'p': 2, 'weights': 'uniform'},\n",
              "  {'leaf_size': 3, 'n_neighbors': 18, 'p': 2, 'weights': 'distance'},\n",
              "  {'leaf_size': 3, 'n_neighbors': 18, 'p': 3, 'weights': 'uniform'},\n",
              "  {'leaf_size': 3, 'n_neighbors': 18, 'p': 3, 'weights': 'distance'},\n",
              "  {'leaf_size': 3, 'n_neighbors': 19, 'p': 1, 'weights': 'uniform'},\n",
              "  {'leaf_size': 3, 'n_neighbors': 19, 'p': 1, 'weights': 'distance'},\n",
              "  {'leaf_size': 3, 'n_neighbors': 19, 'p': 2, 'weights': 'uniform'},\n",
              "  {'leaf_size': 3, 'n_neighbors': 19, 'p': 2, 'weights': 'distance'},\n",
              "  {'leaf_size': 3, 'n_neighbors': 19, 'p': 3, 'weights': 'uniform'},\n",
              "  {'leaf_size': 3, 'n_neighbors': 19, 'p': 3, 'weights': 'distance'},\n",
              "  {'leaf_size': 3, 'n_neighbors': 20, 'p': 1, 'weights': 'uniform'},\n",
              "  {'leaf_size': 3, 'n_neighbors': 20, 'p': 1, 'weights': 'distance'},\n",
              "  {'leaf_size': 3, 'n_neighbors': 20, 'p': 2, 'weights': 'uniform'},\n",
              "  {'leaf_size': 3, 'n_neighbors': 20, 'p': 2, 'weights': 'distance'},\n",
              "  {'leaf_size': 3, 'n_neighbors': 20, 'p': 3, 'weights': 'uniform'},\n",
              "  {'leaf_size': 3, 'n_neighbors': 20, 'p': 3, 'weights': 'distance'},\n",
              "  {'leaf_size': 3, 'n_neighbors': 21, 'p': 1, 'weights': 'uniform'},\n",
              "  {'leaf_size': 3, 'n_neighbors': 21, 'p': 1, 'weights': 'distance'},\n",
              "  {'leaf_size': 3, 'n_neighbors': 21, 'p': 2, 'weights': 'uniform'},\n",
              "  {'leaf_size': 3, 'n_neighbors': 21, 'p': 2, 'weights': 'distance'},\n",
              "  {'leaf_size': 3, 'n_neighbors': 21, 'p': 3, 'weights': 'uniform'},\n",
              "  {'leaf_size': 3, 'n_neighbors': 21, 'p': 3, 'weights': 'distance'},\n",
              "  {'leaf_size': 3, 'n_neighbors': 22, 'p': 1, 'weights': 'uniform'},\n",
              "  {'leaf_size': 3, 'n_neighbors': 22, 'p': 1, 'weights': 'distance'},\n",
              "  {'leaf_size': 3, 'n_neighbors': 22, 'p': 2, 'weights': 'uniform'},\n",
              "  {'leaf_size': 3, 'n_neighbors': 22, 'p': 2, 'weights': 'distance'},\n",
              "  {'leaf_size': 3, 'n_neighbors': 22, 'p': 3, 'weights': 'uniform'},\n",
              "  {'leaf_size': 3, 'n_neighbors': 22, 'p': 3, 'weights': 'distance'},\n",
              "  {'leaf_size': 3, 'n_neighbors': 23, 'p': 1, 'weights': 'uniform'},\n",
              "  {'leaf_size': 3, 'n_neighbors': 23, 'p': 1, 'weights': 'distance'},\n",
              "  {'leaf_size': 3, 'n_neighbors': 23, 'p': 2, 'weights': 'uniform'},\n",
              "  {'leaf_size': 3, 'n_neighbors': 23, 'p': 2, 'weights': 'distance'},\n",
              "  {'leaf_size': 3, 'n_neighbors': 23, 'p': 3, 'weights': 'uniform'},\n",
              "  {'leaf_size': 3, 'n_neighbors': 23, 'p': 3, 'weights': 'distance'},\n",
              "  {'leaf_size': 3, 'n_neighbors': 24, 'p': 1, 'weights': 'uniform'},\n",
              "  {'leaf_size': 3, 'n_neighbors': 24, 'p': 1, 'weights': 'distance'},\n",
              "  {'leaf_size': 3, 'n_neighbors': 24, 'p': 2, 'weights': 'uniform'},\n",
              "  {'leaf_size': 3, 'n_neighbors': 24, 'p': 2, 'weights': 'distance'},\n",
              "  {'leaf_size': 3, 'n_neighbors': 24, 'p': 3, 'weights': 'uniform'},\n",
              "  {'leaf_size': 3, 'n_neighbors': 24, 'p': 3, 'weights': 'distance'},\n",
              "  {'leaf_size': 3, 'n_neighbors': 25, 'p': 1, 'weights': 'uniform'},\n",
              "  {'leaf_size': 3, 'n_neighbors': 25, 'p': 1, 'weights': 'distance'},\n",
              "  {'leaf_size': 3, 'n_neighbors': 25, 'p': 2, 'weights': 'uniform'},\n",
              "  {'leaf_size': 3, 'n_neighbors': 25, 'p': 2, 'weights': 'distance'},\n",
              "  {'leaf_size': 3, 'n_neighbors': 25, 'p': 3, 'weights': 'uniform'},\n",
              "  {'leaf_size': 3, 'n_neighbors': 25, 'p': 3, 'weights': 'distance'},\n",
              "  {'leaf_size': 3, 'n_neighbors': 26, 'p': 1, 'weights': 'uniform'},\n",
              "  {'leaf_size': 3, 'n_neighbors': 26, 'p': 1, 'weights': 'distance'},\n",
              "  {'leaf_size': 3, 'n_neighbors': 26, 'p': 2, 'weights': 'uniform'},\n",
              "  {'leaf_size': 3, 'n_neighbors': 26, 'p': 2, 'weights': 'distance'},\n",
              "  {'leaf_size': 3, 'n_neighbors': 26, 'p': 3, 'weights': 'uniform'},\n",
              "  {'leaf_size': 3, 'n_neighbors': 26, 'p': 3, 'weights': 'distance'},\n",
              "  {'leaf_size': 3, 'n_neighbors': 27, 'p': 1, 'weights': 'uniform'},\n",
              "  {'leaf_size': 3, 'n_neighbors': 27, 'p': 1, 'weights': 'distance'},\n",
              "  {'leaf_size': 3, 'n_neighbors': 27, 'p': 2, 'weights': 'uniform'},\n",
              "  {'leaf_size': 3, 'n_neighbors': 27, 'p': 2, 'weights': 'distance'},\n",
              "  {'leaf_size': 3, 'n_neighbors': 27, 'p': 3, 'weights': 'uniform'},\n",
              "  {'leaf_size': 3, 'n_neighbors': 27, 'p': 3, 'weights': 'distance'},\n",
              "  {'leaf_size': 3, 'n_neighbors': 28, 'p': 1, 'weights': 'uniform'},\n",
              "  {'leaf_size': 3, 'n_neighbors': 28, 'p': 1, 'weights': 'distance'},\n",
              "  {'leaf_size': 3, 'n_neighbors': 28, 'p': 2, 'weights': 'uniform'},\n",
              "  {'leaf_size': 3, 'n_neighbors': 28, 'p': 2, 'weights': 'distance'},\n",
              "  {'leaf_size': 3, 'n_neighbors': 28, 'p': 3, 'weights': 'uniform'},\n",
              "  {'leaf_size': 3, 'n_neighbors': 28, 'p': 3, 'weights': 'distance'},\n",
              "  {'leaf_size': 3, 'n_neighbors': 29, 'p': 1, 'weights': 'uniform'},\n",
              "  {'leaf_size': 3, 'n_neighbors': 29, 'p': 1, 'weights': 'distance'},\n",
              "  {'leaf_size': 3, 'n_neighbors': 29, 'p': 2, 'weights': 'uniform'},\n",
              "  {'leaf_size': 3, 'n_neighbors': 29, 'p': 2, 'weights': 'distance'},\n",
              "  {'leaf_size': 3, 'n_neighbors': 29, 'p': 3, 'weights': 'uniform'},\n",
              "  {'leaf_size': 3, 'n_neighbors': 29, 'p': 3, 'weights': 'distance'},\n",
              "  {'leaf_size': 3, 'n_neighbors': 30, 'p': 1, 'weights': 'uniform'},\n",
              "  {'leaf_size': 3, 'n_neighbors': 30, 'p': 1, 'weights': 'distance'},\n",
              "  {'leaf_size': 3, 'n_neighbors': 30, 'p': 2, 'weights': 'uniform'},\n",
              "  {'leaf_size': 3, 'n_neighbors': 30, 'p': 2, 'weights': 'distance'},\n",
              "  {'leaf_size': 3, 'n_neighbors': 30, 'p': 3, 'weights': 'uniform'},\n",
              "  {'leaf_size': 3, 'n_neighbors': 30, 'p': 3, 'weights': 'distance'},\n",
              "  {'leaf_size': 3, 'n_neighbors': 31, 'p': 1, 'weights': 'uniform'},\n",
              "  {'leaf_size': 3, 'n_neighbors': 31, 'p': 1, 'weights': 'distance'},\n",
              "  {'leaf_size': 3, 'n_neighbors': 31, 'p': 2, 'weights': 'uniform'},\n",
              "  {'leaf_size': 3, 'n_neighbors': 31, 'p': 2, 'weights': 'distance'},\n",
              "  {'leaf_size': 3, 'n_neighbors': 31, 'p': 3, 'weights': 'uniform'},\n",
              "  {'leaf_size': 3, 'n_neighbors': 31, 'p': 3, 'weights': 'distance'},\n",
              "  {'leaf_size': 3, 'n_neighbors': 32, 'p': 1, 'weights': 'uniform'},\n",
              "  {'leaf_size': 3, 'n_neighbors': 32, 'p': 1, 'weights': 'distance'},\n",
              "  {'leaf_size': 3, 'n_neighbors': 32, 'p': 2, 'weights': 'uniform'},\n",
              "  {'leaf_size': 3, 'n_neighbors': 32, 'p': 2, 'weights': 'distance'},\n",
              "  {'leaf_size': 3, 'n_neighbors': 32, 'p': 3, 'weights': 'uniform'},\n",
              "  {'leaf_size': 3, 'n_neighbors': 32, 'p': 3, 'weights': 'distance'},\n",
              "  {'leaf_size': 3, 'n_neighbors': 33, 'p': 1, 'weights': 'uniform'},\n",
              "  {'leaf_size': 3, 'n_neighbors': 33, 'p': 1, 'weights': 'distance'},\n",
              "  {'leaf_size': 3, 'n_neighbors': 33, 'p': 2, 'weights': 'uniform'},\n",
              "  {'leaf_size': 3, 'n_neighbors': 33, 'p': 2, 'weights': 'distance'},\n",
              "  {'leaf_size': 3, 'n_neighbors': 33, 'p': 3, 'weights': 'uniform'},\n",
              "  {'leaf_size': 3, 'n_neighbors': 33, 'p': 3, 'weights': 'distance'},\n",
              "  {'leaf_size': 3, 'n_neighbors': 34, 'p': 1, 'weights': 'uniform'},\n",
              "  {'leaf_size': 3, 'n_neighbors': 34, 'p': 1, 'weights': 'distance'},\n",
              "  {'leaf_size': 3, 'n_neighbors': 34, 'p': 2, 'weights': 'uniform'},\n",
              "  {'leaf_size': 3, 'n_neighbors': 34, 'p': 2, 'weights': 'distance'},\n",
              "  {'leaf_size': 3, 'n_neighbors': 34, 'p': 3, 'weights': 'uniform'},\n",
              "  {'leaf_size': 3, 'n_neighbors': 34, 'p': 3, 'weights': 'distance'},\n",
              "  {'leaf_size': 3, 'n_neighbors': 35, 'p': 1, 'weights': 'uniform'},\n",
              "  {'leaf_size': 3, 'n_neighbors': 35, 'p': 1, 'weights': 'distance'},\n",
              "  {'leaf_size': 3, 'n_neighbors': 35, 'p': 2, 'weights': 'uniform'},\n",
              "  {'leaf_size': 3, 'n_neighbors': 35, 'p': 2, 'weights': 'distance'},\n",
              "  {'leaf_size': 3, 'n_neighbors': 35, 'p': 3, 'weights': 'uniform'},\n",
              "  {'leaf_size': 3, 'n_neighbors': 35, 'p': 3, 'weights': 'distance'},\n",
              "  {'leaf_size': 3, 'n_neighbors': 36, 'p': 1, 'weights': 'uniform'},\n",
              "  {'leaf_size': 3, 'n_neighbors': 36, 'p': 1, 'weights': 'distance'},\n",
              "  {'leaf_size': 3, 'n_neighbors': 36, 'p': 2, 'weights': 'uniform'},\n",
              "  {'leaf_size': 3, 'n_neighbors': 36, 'p': 2, 'weights': 'distance'},\n",
              "  {'leaf_size': 3, 'n_neighbors': 36, 'p': 3, 'weights': 'uniform'},\n",
              "  {'leaf_size': 3, 'n_neighbors': 36, 'p': 3, 'weights': 'distance'},\n",
              "  {'leaf_size': 3, 'n_neighbors': 37, 'p': 1, 'weights': 'uniform'},\n",
              "  {'leaf_size': 3, 'n_neighbors': 37, 'p': 1, 'weights': 'distance'},\n",
              "  {'leaf_size': 3, 'n_neighbors': 37, 'p': 2, 'weights': 'uniform'},\n",
              "  {'leaf_size': 3, 'n_neighbors': 37, 'p': 2, 'weights': 'distance'},\n",
              "  {'leaf_size': 3, 'n_neighbors': 37, 'p': 3, 'weights': 'uniform'},\n",
              "  {'leaf_size': 3, 'n_neighbors': 37, 'p': 3, 'weights': 'distance'},\n",
              "  {'leaf_size': 3, 'n_neighbors': 38, 'p': 1, 'weights': 'uniform'},\n",
              "  {'leaf_size': 3, 'n_neighbors': 38, 'p': 1, 'weights': 'distance'},\n",
              "  {'leaf_size': 3, 'n_neighbors': 38, 'p': 2, 'weights': 'uniform'},\n",
              "  {'leaf_size': 3, 'n_neighbors': 38, 'p': 2, 'weights': 'distance'},\n",
              "  {'leaf_size': 3, 'n_neighbors': 38, 'p': 3, 'weights': 'uniform'},\n",
              "  {'leaf_size': 3, 'n_neighbors': 38, 'p': 3, 'weights': 'distance'},\n",
              "  {'leaf_size': 3, 'n_neighbors': 39, 'p': 1, 'weights': 'uniform'},\n",
              "  {'leaf_size': 3, 'n_neighbors': 39, 'p': 1, 'weights': 'distance'},\n",
              "  {'leaf_size': 3, 'n_neighbors': 39, 'p': 2, 'weights': 'uniform'},\n",
              "  {'leaf_size': 3, 'n_neighbors': 39, 'p': 2, 'weights': 'distance'},\n",
              "  {'leaf_size': 3, 'n_neighbors': 39, 'p': 3, 'weights': 'uniform'},\n",
              "  {'leaf_size': 3, 'n_neighbors': 39, 'p': 3, 'weights': 'distance'},\n",
              "  {'leaf_size': 4, 'n_neighbors': 1, 'p': 1, 'weights': 'uniform'},\n",
              "  {'leaf_size': 4, 'n_neighbors': 1, 'p': 1, 'weights': 'distance'},\n",
              "  {'leaf_size': 4, 'n_neighbors': 1, 'p': 2, 'weights': 'uniform'},\n",
              "  {'leaf_size': 4, 'n_neighbors': 1, 'p': 2, 'weights': 'distance'},\n",
              "  {'leaf_size': 4, 'n_neighbors': 1, 'p': 3, 'weights': 'uniform'},\n",
              "  {'leaf_size': 4, 'n_neighbors': 1, 'p': 3, 'weights': 'distance'},\n",
              "  {'leaf_size': 4, 'n_neighbors': 2, 'p': 1, 'weights': 'uniform'},\n",
              "  {'leaf_size': 4, 'n_neighbors': 2, 'p': 1, 'weights': 'distance'},\n",
              "  {'leaf_size': 4, 'n_neighbors': 2, 'p': 2, 'weights': 'uniform'},\n",
              "  {'leaf_size': 4, 'n_neighbors': 2, 'p': 2, 'weights': 'distance'},\n",
              "  {'leaf_size': 4, 'n_neighbors': 2, 'p': 3, 'weights': 'uniform'},\n",
              "  {'leaf_size': 4, 'n_neighbors': 2, 'p': 3, 'weights': 'distance'},\n",
              "  {'leaf_size': 4, 'n_neighbors': 3, 'p': 1, 'weights': 'uniform'},\n",
              "  {'leaf_size': 4, 'n_neighbors': 3, 'p': 1, 'weights': 'distance'},\n",
              "  {'leaf_size': 4, 'n_neighbors': 3, 'p': 2, 'weights': 'uniform'},\n",
              "  {'leaf_size': 4, 'n_neighbors': 3, 'p': 2, 'weights': 'distance'},\n",
              "  {'leaf_size': 4, 'n_neighbors': 3, 'p': 3, 'weights': 'uniform'},\n",
              "  {'leaf_size': 4, 'n_neighbors': 3, 'p': 3, 'weights': 'distance'},\n",
              "  {'leaf_size': 4, 'n_neighbors': 4, 'p': 1, 'weights': 'uniform'},\n",
              "  {'leaf_size': 4, 'n_neighbors': 4, 'p': 1, 'weights': 'distance'},\n",
              "  {'leaf_size': 4, 'n_neighbors': 4, 'p': 2, 'weights': 'uniform'},\n",
              "  {'leaf_size': 4, 'n_neighbors': 4, 'p': 2, 'weights': 'distance'},\n",
              "  {'leaf_size': 4, 'n_neighbors': 4, 'p': 3, 'weights': 'uniform'},\n",
              "  {'leaf_size': 4, 'n_neighbors': 4, 'p': 3, 'weights': 'distance'},\n",
              "  {'leaf_size': 4, 'n_neighbors': 5, 'p': 1, 'weights': 'uniform'},\n",
              "  {'leaf_size': 4, 'n_neighbors': 5, 'p': 1, 'weights': 'distance'},\n",
              "  {'leaf_size': 4, 'n_neighbors': 5, 'p': 2, 'weights': 'uniform'},\n",
              "  {'leaf_size': 4, 'n_neighbors': 5, 'p': 2, 'weights': 'distance'},\n",
              "  {'leaf_size': 4, 'n_neighbors': 5, 'p': 3, 'weights': 'uniform'},\n",
              "  {'leaf_size': 4, 'n_neighbors': 5, 'p': 3, 'weights': 'distance'},\n",
              "  {'leaf_size': 4, 'n_neighbors': 6, 'p': 1, 'weights': 'uniform'},\n",
              "  {'leaf_size': 4, 'n_neighbors': 6, 'p': 1, 'weights': 'distance'},\n",
              "  {'leaf_size': 4, 'n_neighbors': 6, 'p': 2, 'weights': 'uniform'},\n",
              "  {'leaf_size': 4, 'n_neighbors': 6, 'p': 2, 'weights': 'distance'},\n",
              "  {'leaf_size': 4, 'n_neighbors': 6, 'p': 3, 'weights': 'uniform'},\n",
              "  {'leaf_size': 4, 'n_neighbors': 6, 'p': 3, 'weights': 'distance'},\n",
              "  {'leaf_size': 4, 'n_neighbors': 7, 'p': 1, 'weights': 'uniform'},\n",
              "  {'leaf_size': 4, 'n_neighbors': 7, 'p': 1, 'weights': 'distance'},\n",
              "  {'leaf_size': 4, 'n_neighbors': 7, 'p': 2, 'weights': 'uniform'},\n",
              "  {'leaf_size': 4, 'n_neighbors': 7, 'p': 2, 'weights': 'distance'},\n",
              "  {'leaf_size': 4, 'n_neighbors': 7, 'p': 3, 'weights': 'uniform'},\n",
              "  {'leaf_size': 4, 'n_neighbors': 7, 'p': 3, 'weights': 'distance'},\n",
              "  {'leaf_size': 4, 'n_neighbors': 8, 'p': 1, 'weights': 'uniform'},\n",
              "  {'leaf_size': 4, 'n_neighbors': 8, 'p': 1, 'weights': 'distance'},\n",
              "  {'leaf_size': 4, 'n_neighbors': 8, 'p': 2, 'weights': 'uniform'},\n",
              "  {'leaf_size': 4, 'n_neighbors': 8, 'p': 2, 'weights': 'distance'},\n",
              "  {'leaf_size': 4, 'n_neighbors': 8, 'p': 3, 'weights': 'uniform'},\n",
              "  {'leaf_size': 4, 'n_neighbors': 8, 'p': 3, 'weights': 'distance'},\n",
              "  {'leaf_size': 4, 'n_neighbors': 9, 'p': 1, 'weights': 'uniform'},\n",
              "  {'leaf_size': 4, 'n_neighbors': 9, 'p': 1, 'weights': 'distance'},\n",
              "  {'leaf_size': 4, 'n_neighbors': 9, 'p': 2, 'weights': 'uniform'},\n",
              "  {'leaf_size': 4, 'n_neighbors': 9, 'p': 2, 'weights': 'distance'},\n",
              "  {'leaf_size': 4, 'n_neighbors': 9, 'p': 3, 'weights': 'uniform'},\n",
              "  {'leaf_size': 4, 'n_neighbors': 9, 'p': 3, 'weights': 'distance'},\n",
              "  {'leaf_size': 4, 'n_neighbors': 10, 'p': 1, 'weights': 'uniform'},\n",
              "  {'leaf_size': 4, 'n_neighbors': 10, 'p': 1, 'weights': 'distance'},\n",
              "  {'leaf_size': 4, 'n_neighbors': 10, 'p': 2, 'weights': 'uniform'},\n",
              "  {'leaf_size': 4, 'n_neighbors': 10, 'p': 2, 'weights': 'distance'},\n",
              "  {'leaf_size': 4, 'n_neighbors': 10, 'p': 3, 'weights': 'uniform'},\n",
              "  {'leaf_size': 4, 'n_neighbors': 10, 'p': 3, 'weights': 'distance'},\n",
              "  {'leaf_size': 4, 'n_neighbors': 11, 'p': 1, 'weights': 'uniform'},\n",
              "  {'leaf_size': 4, 'n_neighbors': 11, 'p': 1, 'weights': 'distance'},\n",
              "  {'leaf_size': 4, 'n_neighbors': 11, 'p': 2, 'weights': 'uniform'},\n",
              "  {'leaf_size': 4, 'n_neighbors': 11, 'p': 2, 'weights': 'distance'},\n",
              "  {'leaf_size': 4, 'n_neighbors': 11, 'p': 3, 'weights': 'uniform'},\n",
              "  {'leaf_size': 4, 'n_neighbors': 11, 'p': 3, 'weights': 'distance'},\n",
              "  {'leaf_size': 4, 'n_neighbors': 12, 'p': 1, 'weights': 'uniform'},\n",
              "  {'leaf_size': 4, 'n_neighbors': 12, 'p': 1, 'weights': 'distance'},\n",
              "  {'leaf_size': 4, 'n_neighbors': 12, 'p': 2, 'weights': 'uniform'},\n",
              "  {'leaf_size': 4, 'n_neighbors': 12, 'p': 2, 'weights': 'distance'},\n",
              "  {'leaf_size': 4, 'n_neighbors': 12, 'p': 3, 'weights': 'uniform'},\n",
              "  {'leaf_size': 4, 'n_neighbors': 12, 'p': 3, 'weights': 'distance'},\n",
              "  {'leaf_size': 4, 'n_neighbors': 13, 'p': 1, 'weights': 'uniform'},\n",
              "  {'leaf_size': 4, 'n_neighbors': 13, 'p': 1, 'weights': 'distance'},\n",
              "  {'leaf_size': 4, 'n_neighbors': 13, 'p': 2, 'weights': 'uniform'},\n",
              "  {'leaf_size': 4, 'n_neighbors': 13, 'p': 2, 'weights': 'distance'},\n",
              "  {'leaf_size': 4, 'n_neighbors': 13, 'p': 3, 'weights': 'uniform'},\n",
              "  {'leaf_size': 4, 'n_neighbors': 13, 'p': 3, 'weights': 'distance'},\n",
              "  {'leaf_size': 4, 'n_neighbors': 14, 'p': 1, 'weights': 'uniform'},\n",
              "  {'leaf_size': 4, 'n_neighbors': 14, 'p': 1, 'weights': 'distance'},\n",
              "  {'leaf_size': 4, 'n_neighbors': 14, 'p': 2, 'weights': 'uniform'},\n",
              "  {'leaf_size': 4, 'n_neighbors': 14, 'p': 2, 'weights': 'distance'},\n",
              "  {'leaf_size': 4, 'n_neighbors': 14, 'p': 3, 'weights': 'uniform'},\n",
              "  {'leaf_size': 4, 'n_neighbors': 14, 'p': 3, 'weights': 'distance'},\n",
              "  {'leaf_size': 4, 'n_neighbors': 15, 'p': 1, 'weights': 'uniform'},\n",
              "  {'leaf_size': 4, 'n_neighbors': 15, 'p': 1, 'weights': 'distance'},\n",
              "  {'leaf_size': 4, 'n_neighbors': 15, 'p': 2, 'weights': 'uniform'},\n",
              "  {'leaf_size': 4, 'n_neighbors': 15, 'p': 2, 'weights': 'distance'},\n",
              "  {'leaf_size': 4, 'n_neighbors': 15, 'p': 3, 'weights': 'uniform'},\n",
              "  {'leaf_size': 4, 'n_neighbors': 15, 'p': 3, 'weights': 'distance'},\n",
              "  {'leaf_size': 4, 'n_neighbors': 16, 'p': 1, 'weights': 'uniform'},\n",
              "  {'leaf_size': 4, 'n_neighbors': 16, 'p': 1, 'weights': 'distance'},\n",
              "  {'leaf_size': 4, 'n_neighbors': 16, 'p': 2, 'weights': 'uniform'},\n",
              "  {'leaf_size': 4, 'n_neighbors': 16, 'p': 2, 'weights': 'distance'},\n",
              "  {'leaf_size': 4, 'n_neighbors': 16, 'p': 3, 'weights': 'uniform'},\n",
              "  {'leaf_size': 4, 'n_neighbors': 16, 'p': 3, 'weights': 'distance'},\n",
              "  {'leaf_size': 4, 'n_neighbors': 17, 'p': 1, 'weights': 'uniform'},\n",
              "  {'leaf_size': 4, 'n_neighbors': 17, 'p': 1, 'weights': 'distance'},\n",
              "  {'leaf_size': 4, 'n_neighbors': 17, 'p': 2, 'weights': 'uniform'},\n",
              "  {'leaf_size': 4, 'n_neighbors': 17, 'p': 2, 'weights': 'distance'},\n",
              "  {'leaf_size': 4, 'n_neighbors': 17, 'p': 3, 'weights': 'uniform'},\n",
              "  {'leaf_size': 4, 'n_neighbors': 17, 'p': 3, 'weights': 'distance'},\n",
              "  {'leaf_size': 4, 'n_neighbors': 18, 'p': 1, 'weights': 'uniform'},\n",
              "  {'leaf_size': 4, 'n_neighbors': 18, 'p': 1, 'weights': 'distance'},\n",
              "  {'leaf_size': 4, 'n_neighbors': 18, 'p': 2, 'weights': 'uniform'},\n",
              "  {'leaf_size': 4, 'n_neighbors': 18, 'p': 2, 'weights': 'distance'},\n",
              "  {'leaf_size': 4, 'n_neighbors': 18, 'p': 3, 'weights': 'uniform'},\n",
              "  {'leaf_size': 4, 'n_neighbors': 18, 'p': 3, 'weights': 'distance'},\n",
              "  {'leaf_size': 4, 'n_neighbors': 19, 'p': 1, 'weights': 'uniform'},\n",
              "  {'leaf_size': 4, 'n_neighbors': 19, 'p': 1, 'weights': 'distance'},\n",
              "  {'leaf_size': 4, 'n_neighbors': 19, 'p': 2, 'weights': 'uniform'},\n",
              "  {'leaf_size': 4, 'n_neighbors': 19, 'p': 2, 'weights': 'distance'},\n",
              "  {'leaf_size': 4, 'n_neighbors': 19, 'p': 3, 'weights': 'uniform'},\n",
              "  {'leaf_size': 4, 'n_neighbors': 19, 'p': 3, 'weights': 'distance'},\n",
              "  {'leaf_size': 4, 'n_neighbors': 20, 'p': 1, 'weights': 'uniform'},\n",
              "  {'leaf_size': 4, 'n_neighbors': 20, 'p': 1, 'weights': 'distance'},\n",
              "  {'leaf_size': 4, 'n_neighbors': 20, 'p': 2, 'weights': 'uniform'},\n",
              "  {'leaf_size': 4, 'n_neighbors': 20, 'p': 2, 'weights': 'distance'},\n",
              "  {'leaf_size': 4, 'n_neighbors': 20, 'p': 3, 'weights': 'uniform'},\n",
              "  {'leaf_size': 4, 'n_neighbors': 20, 'p': 3, 'weights': 'distance'},\n",
              "  {'leaf_size': 4, 'n_neighbors': 21, 'p': 1, 'weights': 'uniform'},\n",
              "  {'leaf_size': 4, 'n_neighbors': 21, 'p': 1, 'weights': 'distance'},\n",
              "  {'leaf_size': 4, 'n_neighbors': 21, 'p': 2, 'weights': 'uniform'},\n",
              "  {'leaf_size': 4, 'n_neighbors': 21, 'p': 2, 'weights': 'distance'},\n",
              "  {'leaf_size': 4, 'n_neighbors': 21, 'p': 3, 'weights': 'uniform'},\n",
              "  {'leaf_size': 4, 'n_neighbors': 21, 'p': 3, 'weights': 'distance'},\n",
              "  {'leaf_size': 4, 'n_neighbors': 22, 'p': 1, 'weights': 'uniform'},\n",
              "  {'leaf_size': 4, 'n_neighbors': 22, 'p': 1, 'weights': 'distance'},\n",
              "  {'leaf_size': 4, 'n_neighbors': 22, 'p': 2, 'weights': 'uniform'},\n",
              "  {'leaf_size': 4, 'n_neighbors': 22, 'p': 2, 'weights': 'distance'},\n",
              "  {'leaf_size': 4, 'n_neighbors': 22, 'p': 3, 'weights': 'uniform'},\n",
              "  {'leaf_size': 4, 'n_neighbors': 22, 'p': 3, 'weights': 'distance'},\n",
              "  {'leaf_size': 4, 'n_neighbors': 23, 'p': 1, 'weights': 'uniform'},\n",
              "  {'leaf_size': 4, 'n_neighbors': 23, 'p': 1, 'weights': 'distance'},\n",
              "  {'leaf_size': 4, 'n_neighbors': 23, 'p': 2, 'weights': 'uniform'},\n",
              "  {'leaf_size': 4, 'n_neighbors': 23, 'p': 2, 'weights': 'distance'},\n",
              "  {'leaf_size': 4, 'n_neighbors': 23, 'p': 3, 'weights': 'uniform'},\n",
              "  {'leaf_size': 4, 'n_neighbors': 23, 'p': 3, 'weights': 'distance'},\n",
              "  {'leaf_size': 4, 'n_neighbors': 24, 'p': 1, 'weights': 'uniform'},\n",
              "  {'leaf_size': 4, 'n_neighbors': 24, 'p': 1, 'weights': 'distance'},\n",
              "  {'leaf_size': 4, 'n_neighbors': 24, 'p': 2, 'weights': 'uniform'},\n",
              "  {'leaf_size': 4, 'n_neighbors': 24, 'p': 2, 'weights': 'distance'},\n",
              "  {'leaf_size': 4, 'n_neighbors': 24, 'p': 3, 'weights': 'uniform'},\n",
              "  {'leaf_size': 4, 'n_neighbors': 24, 'p': 3, 'weights': 'distance'},\n",
              "  {'leaf_size': 4, 'n_neighbors': 25, 'p': 1, 'weights': 'uniform'},\n",
              "  {'leaf_size': 4, 'n_neighbors': 25, 'p': 1, 'weights': 'distance'},\n",
              "  {'leaf_size': 4, 'n_neighbors': 25, 'p': 2, 'weights': 'uniform'},\n",
              "  {'leaf_size': 4, 'n_neighbors': 25, 'p': 2, 'weights': 'distance'},\n",
              "  {'leaf_size': 4, 'n_neighbors': 25, 'p': 3, 'weights': 'uniform'},\n",
              "  {'leaf_size': 4, 'n_neighbors': 25, 'p': 3, 'weights': 'distance'},\n",
              "  {'leaf_size': 4, 'n_neighbors': 26, 'p': 1, 'weights': 'uniform'},\n",
              "  {'leaf_size': 4, 'n_neighbors': 26, 'p': 1, 'weights': 'distance'},\n",
              "  {'leaf_size': 4, 'n_neighbors': 26, 'p': 2, 'weights': 'uniform'},\n",
              "  {'leaf_size': 4, 'n_neighbors': 26, 'p': 2, 'weights': 'distance'},\n",
              "  {'leaf_size': 4, 'n_neighbors': 26, 'p': 3, 'weights': 'uniform'},\n",
              "  {'leaf_size': 4, 'n_neighbors': 26, 'p': 3, 'weights': 'distance'},\n",
              "  {'leaf_size': 4, 'n_neighbors': 27, 'p': 1, 'weights': 'uniform'},\n",
              "  {'leaf_size': 4, 'n_neighbors': 27, 'p': 1, 'weights': 'distance'},\n",
              "  {'leaf_size': 4, 'n_neighbors': 27, 'p': 2, 'weights': 'uniform'},\n",
              "  {'leaf_size': 4, 'n_neighbors': 27, 'p': 2, 'weights': 'distance'},\n",
              "  {'leaf_size': 4, 'n_neighbors': 27, 'p': 3, 'weights': 'uniform'},\n",
              "  {'leaf_size': 4, 'n_neighbors': 27, 'p': 3, 'weights': 'distance'},\n",
              "  {'leaf_size': 4, 'n_neighbors': 28, 'p': 1, 'weights': 'uniform'},\n",
              "  {'leaf_size': 4, 'n_neighbors': 28, 'p': 1, 'weights': 'distance'},\n",
              "  {'leaf_size': 4, 'n_neighbors': 28, 'p': 2, 'weights': 'uniform'},\n",
              "  {'leaf_size': 4, 'n_neighbors': 28, 'p': 2, 'weights': 'distance'},\n",
              "  {'leaf_size': 4, 'n_neighbors': 28, 'p': 3, 'weights': 'uniform'},\n",
              "  {'leaf_size': 4, 'n_neighbors': 28, 'p': 3, 'weights': 'distance'},\n",
              "  {'leaf_size': 4, 'n_neighbors': 29, 'p': 1, 'weights': 'uniform'},\n",
              "  {'leaf_size': 4, 'n_neighbors': 29, 'p': 1, 'weights': 'distance'},\n",
              "  {'leaf_size': 4, 'n_neighbors': 29, 'p': 2, 'weights': 'uniform'},\n",
              "  {'leaf_size': 4, 'n_neighbors': 29, 'p': 2, 'weights': 'distance'},\n",
              "  {'leaf_size': 4, 'n_neighbors': 29, 'p': 3, 'weights': 'uniform'},\n",
              "  {'leaf_size': 4, 'n_neighbors': 29, 'p': 3, 'weights': 'distance'},\n",
              "  {'leaf_size': 4, 'n_neighbors': 30, 'p': 1, 'weights': 'uniform'},\n",
              "  {'leaf_size': 4, 'n_neighbors': 30, 'p': 1, 'weights': 'distance'},\n",
              "  {'leaf_size': 4, 'n_neighbors': 30, 'p': 2, 'weights': 'uniform'},\n",
              "  {'leaf_size': 4, 'n_neighbors': 30, 'p': 2, 'weights': 'distance'},\n",
              "  {'leaf_size': 4, 'n_neighbors': 30, 'p': 3, 'weights': 'uniform'},\n",
              "  {'leaf_size': 4, 'n_neighbors': 30, 'p': 3, 'weights': 'distance'},\n",
              "  {'leaf_size': 4, 'n_neighbors': 31, 'p': 1, 'weights': 'uniform'},\n",
              "  {'leaf_size': 4, 'n_neighbors': 31, 'p': 1, 'weights': 'distance'},\n",
              "  {'leaf_size': 4, 'n_neighbors': 31, 'p': 2, 'weights': 'uniform'},\n",
              "  {'leaf_size': 4, 'n_neighbors': 31, 'p': 2, 'weights': 'distance'},\n",
              "  {'leaf_size': 4, 'n_neighbors': 31, 'p': 3, 'weights': 'uniform'},\n",
              "  {'leaf_size': 4, 'n_neighbors': 31, 'p': 3, 'weights': 'distance'},\n",
              "  {'leaf_size': 4, 'n_neighbors': 32, 'p': 1, 'weights': 'uniform'},\n",
              "  {'leaf_size': 4, 'n_neighbors': 32, 'p': 1, 'weights': 'distance'},\n",
              "  {'leaf_size': 4, 'n_neighbors': 32, 'p': 2, 'weights': 'uniform'},\n",
              "  {'leaf_size': 4, 'n_neighbors': 32, 'p': 2, 'weights': 'distance'},\n",
              "  {'leaf_size': 4, 'n_neighbors': 32, 'p': 3, 'weights': 'uniform'},\n",
              "  {'leaf_size': 4, 'n_neighbors': 32, 'p': 3, 'weights': 'distance'},\n",
              "  {'leaf_size': 4, 'n_neighbors': 33, 'p': 1, 'weights': 'uniform'},\n",
              "  {'leaf_size': 4, 'n_neighbors': 33, 'p': 1, 'weights': 'distance'},\n",
              "  {'leaf_size': 4, 'n_neighbors': 33, 'p': 2, 'weights': 'uniform'},\n",
              "  {'leaf_size': 4, 'n_neighbors': 33, 'p': 2, 'weights': 'distance'},\n",
              "  {'leaf_size': 4, 'n_neighbors': 33, 'p': 3, 'weights': 'uniform'},\n",
              "  {'leaf_size': 4, 'n_neighbors': 33, 'p': 3, 'weights': 'distance'},\n",
              "  {'leaf_size': 4, 'n_neighbors': 34, 'p': 1, 'weights': 'uniform'},\n",
              "  {'leaf_size': 4, 'n_neighbors': 34, 'p': 1, 'weights': 'distance'},\n",
              "  {'leaf_size': 4, 'n_neighbors': 34, 'p': 2, 'weights': 'uniform'},\n",
              "  {'leaf_size': 4, 'n_neighbors': 34, 'p': 2, 'weights': 'distance'},\n",
              "  {'leaf_size': 4, 'n_neighbors': 34, 'p': 3, 'weights': 'uniform'},\n",
              "  {'leaf_size': 4, 'n_neighbors': 34, 'p': 3, 'weights': 'distance'},\n",
              "  {'leaf_size': 4, 'n_neighbors': 35, 'p': 1, 'weights': 'uniform'},\n",
              "  {'leaf_size': 4, 'n_neighbors': 35, 'p': 1, 'weights': 'distance'},\n",
              "  {'leaf_size': 4, 'n_neighbors': 35, 'p': 2, 'weights': 'uniform'},\n",
              "  {'leaf_size': 4, 'n_neighbors': 35, 'p': 2, 'weights': 'distance'},\n",
              "  {'leaf_size': 4, 'n_neighbors': 35, 'p': 3, 'weights': 'uniform'},\n",
              "  {'leaf_size': 4, 'n_neighbors': 35, 'p': 3, 'weights': 'distance'},\n",
              "  {'leaf_size': 4, 'n_neighbors': 36, 'p': 1, 'weights': 'uniform'},\n",
              "  {'leaf_size': 4, 'n_neighbors': 36, 'p': 1, 'weights': 'distance'},\n",
              "  {'leaf_size': 4, 'n_neighbors': 36, 'p': 2, 'weights': 'uniform'},\n",
              "  {'leaf_size': 4, 'n_neighbors': 36, 'p': 2, 'weights': 'distance'},\n",
              "  {'leaf_size': 4, 'n_neighbors': 36, 'p': 3, 'weights': 'uniform'},\n",
              "  {'leaf_size': 4, 'n_neighbors': 36, 'p': 3, 'weights': 'distance'},\n",
              "  {'leaf_size': 4, 'n_neighbors': 37, 'p': 1, 'weights': 'uniform'},\n",
              "  {'leaf_size': 4, 'n_neighbors': 37, 'p': 1, 'weights': 'distance'},\n",
              "  {'leaf_size': 4, 'n_neighbors': 37, 'p': 2, 'weights': 'uniform'},\n",
              "  {'leaf_size': 4, 'n_neighbors': 37, 'p': 2, 'weights': 'distance'},\n",
              "  {'leaf_size': 4, 'n_neighbors': 37, 'p': 3, 'weights': 'uniform'},\n",
              "  {'leaf_size': 4, 'n_neighbors': 37, 'p': 3, 'weights': 'distance'},\n",
              "  {'leaf_size': 4, 'n_neighbors': 38, 'p': 1, 'weights': 'uniform'},\n",
              "  {'leaf_size': 4, 'n_neighbors': 38, 'p': 1, 'weights': 'distance'},\n",
              "  {'leaf_size': 4, 'n_neighbors': 38, 'p': 2, 'weights': 'uniform'},\n",
              "  {'leaf_size': 4, 'n_neighbors': 38, 'p': 2, 'weights': 'distance'},\n",
              "  {'leaf_size': 4, 'n_neighbors': 38, 'p': 3, 'weights': 'uniform'},\n",
              "  {'leaf_size': 4, 'n_neighbors': 38, 'p': 3, 'weights': 'distance'},\n",
              "  {'leaf_size': 4, 'n_neighbors': 39, 'p': 1, 'weights': 'uniform'},\n",
              "  {'leaf_size': 4, 'n_neighbors': 39, 'p': 1, 'weights': 'distance'},\n",
              "  {'leaf_size': 4, 'n_neighbors': 39, 'p': 2, 'weights': 'uniform'},\n",
              "  {'leaf_size': 4, 'n_neighbors': 39, 'p': 2, 'weights': 'distance'},\n",
              "  {'leaf_size': 4, 'n_neighbors': 39, 'p': 3, 'weights': 'uniform'},\n",
              "  {'leaf_size': 4, 'n_neighbors': 39, 'p': 3, 'weights': 'distance'},\n",
              "  {'leaf_size': 5, 'n_neighbors': 1, 'p': 1, 'weights': 'uniform'},\n",
              "  {'leaf_size': 5, 'n_neighbors': 1, 'p': 1, 'weights': 'distance'},\n",
              "  {'leaf_size': 5, 'n_neighbors': 1, 'p': 2, 'weights': 'uniform'},\n",
              "  {'leaf_size': 5, 'n_neighbors': 1, 'p': 2, 'weights': 'distance'},\n",
              "  {'leaf_size': 5, 'n_neighbors': 1, 'p': 3, 'weights': 'uniform'},\n",
              "  {'leaf_size': 5, 'n_neighbors': 1, 'p': 3, 'weights': 'distance'},\n",
              "  {'leaf_size': 5, 'n_neighbors': 2, 'p': 1, 'weights': 'uniform'},\n",
              "  {'leaf_size': 5, 'n_neighbors': 2, 'p': 1, 'weights': 'distance'},\n",
              "  {'leaf_size': 5, 'n_neighbors': 2, 'p': 2, 'weights': 'uniform'},\n",
              "  {'leaf_size': 5, 'n_neighbors': 2, 'p': 2, 'weights': 'distance'},\n",
              "  {'leaf_size': 5, 'n_neighbors': 2, 'p': 3, 'weights': 'uniform'},\n",
              "  {'leaf_size': 5, 'n_neighbors': 2, 'p': 3, 'weights': 'distance'},\n",
              "  {'leaf_size': 5, 'n_neighbors': 3, 'p': 1, 'weights': 'uniform'},\n",
              "  {'leaf_size': 5, 'n_neighbors': 3, 'p': 1, 'weights': 'distance'},\n",
              "  {'leaf_size': 5, 'n_neighbors': 3, 'p': 2, 'weights': 'uniform'},\n",
              "  {'leaf_size': 5, 'n_neighbors': 3, 'p': 2, 'weights': 'distance'},\n",
              "  {'leaf_size': 5, 'n_neighbors': 3, 'p': 3, 'weights': 'uniform'},\n",
              "  {'leaf_size': 5, 'n_neighbors': 3, 'p': 3, 'weights': 'distance'},\n",
              "  {'leaf_size': 5, 'n_neighbors': 4, 'p': 1, 'weights': 'uniform'},\n",
              "  {'leaf_size': 5, 'n_neighbors': 4, 'p': 1, 'weights': 'distance'},\n",
              "  {'leaf_size': 5, 'n_neighbors': 4, 'p': 2, 'weights': 'uniform'},\n",
              "  {'leaf_size': 5, 'n_neighbors': 4, 'p': 2, 'weights': 'distance'},\n",
              "  {'leaf_size': 5, 'n_neighbors': 4, 'p': 3, 'weights': 'uniform'},\n",
              "  {'leaf_size': 5, 'n_neighbors': 4, 'p': 3, 'weights': 'distance'},\n",
              "  {'leaf_size': 5, 'n_neighbors': 5, 'p': 1, 'weights': 'uniform'},\n",
              "  {'leaf_size': 5, 'n_neighbors': 5, 'p': 1, 'weights': 'distance'},\n",
              "  {'leaf_size': 5, 'n_neighbors': 5, 'p': 2, 'weights': 'uniform'},\n",
              "  {'leaf_size': 5, 'n_neighbors': 5, 'p': 2, 'weights': 'distance'},\n",
              "  {'leaf_size': 5, 'n_neighbors': 5, 'p': 3, 'weights': 'uniform'},\n",
              "  {'leaf_size': 5, 'n_neighbors': 5, 'p': 3, 'weights': 'distance'},\n",
              "  {'leaf_size': 5, 'n_neighbors': 6, 'p': 1, 'weights': 'uniform'},\n",
              "  {'leaf_size': 5, 'n_neighbors': 6, 'p': 1, 'weights': 'distance'},\n",
              "  {'leaf_size': 5, 'n_neighbors': 6, 'p': 2, 'weights': 'uniform'},\n",
              "  {'leaf_size': 5, 'n_neighbors': 6, 'p': 2, 'weights': 'distance'},\n",
              "  {'leaf_size': 5, 'n_neighbors': 6, 'p': 3, 'weights': 'uniform'},\n",
              "  {'leaf_size': 5, 'n_neighbors': 6, 'p': 3, 'weights': 'distance'},\n",
              "  {'leaf_size': 5, 'n_neighbors': 7, 'p': 1, 'weights': 'uniform'},\n",
              "  {'leaf_size': 5, 'n_neighbors': 7, 'p': 1, 'weights': 'distance'},\n",
              "  {'leaf_size': 5, 'n_neighbors': 7, 'p': 2, 'weights': 'uniform'},\n",
              "  {'leaf_size': 5, 'n_neighbors': 7, 'p': 2, 'weights': 'distance'},\n",
              "  {'leaf_size': 5, 'n_neighbors': 7, 'p': 3, 'weights': 'uniform'},\n",
              "  {'leaf_size': 5, 'n_neighbors': 7, 'p': 3, 'weights': 'distance'},\n",
              "  {'leaf_size': 5, 'n_neighbors': 8, 'p': 1, 'weights': 'uniform'},\n",
              "  {'leaf_size': 5, 'n_neighbors': 8, 'p': 1, 'weights': 'distance'},\n",
              "  {'leaf_size': 5, 'n_neighbors': 8, 'p': 2, 'weights': 'uniform'},\n",
              "  {'leaf_size': 5, 'n_neighbors': 8, 'p': 2, 'weights': 'distance'},\n",
              "  {'leaf_size': 5, 'n_neighbors': 8, 'p': 3, 'weights': 'uniform'},\n",
              "  {'leaf_size': 5, 'n_neighbors': 8, 'p': 3, 'weights': 'distance'},\n",
              "  {'leaf_size': 5, 'n_neighbors': 9, 'p': 1, 'weights': 'uniform'},\n",
              "  {'leaf_size': 5, 'n_neighbors': 9, 'p': 1, 'weights': 'distance'},\n",
              "  {'leaf_size': 5, 'n_neighbors': 9, 'p': 2, 'weights': 'uniform'},\n",
              "  {'leaf_size': 5, 'n_neighbors': 9, 'p': 2, 'weights': 'distance'},\n",
              "  {'leaf_size': 5, 'n_neighbors': 9, 'p': 3, 'weights': 'uniform'},\n",
              "  {'leaf_size': 5, 'n_neighbors': 9, 'p': 3, 'weights': 'distance'},\n",
              "  {'leaf_size': 5, 'n_neighbors': 10, 'p': 1, 'weights': 'uniform'},\n",
              "  {'leaf_size': 5, 'n_neighbors': 10, 'p': 1, 'weights': 'distance'},\n",
              "  {'leaf_size': 5, 'n_neighbors': 10, 'p': 2, 'weights': 'uniform'},\n",
              "  {'leaf_size': 5, 'n_neighbors': 10, 'p': 2, 'weights': 'distance'},\n",
              "  {'leaf_size': 5, 'n_neighbors': 10, 'p': 3, 'weights': 'uniform'},\n",
              "  {'leaf_size': 5, 'n_neighbors': 10, 'p': 3, 'weights': 'distance'},\n",
              "  {'leaf_size': 5, 'n_neighbors': 11, 'p': 1, 'weights': 'uniform'},\n",
              "  {'leaf_size': 5, 'n_neighbors': 11, 'p': 1, 'weights': 'distance'},\n",
              "  {'leaf_size': 5, 'n_neighbors': 11, 'p': 2, 'weights': 'uniform'},\n",
              "  {'leaf_size': 5, 'n_neighbors': 11, 'p': 2, 'weights': 'distance'},\n",
              "  ...],\n",
              " 'rank_test_score': array([4993, 4993, 5695, ..., 2458, 9088, 7294], dtype=int32),\n",
              " 'split0_test_score': array([0.689, 0.689, 0.67 , ..., 0.641, 0.359, 0.539]),\n",
              " 'split1_test_score': array([0.722, 0.722, 0.723, ..., 0.736, 0.469, 0.608]),\n",
              " 'split2_test_score': array([0.514, 0.514, 0.506, ..., 0.716, 0.488, 0.617]),\n",
              " 'std_fit_time': array([0., 0., 0., ..., 0., 0., 0.]),\n",
              " 'std_score_time': array([0.   , 0.   , 0.002, ..., 0.   , 0.   , 0.   ]),\n",
              " 'std_test_score': array([0.091, 0.091, 0.092, ..., 0.041, 0.057, 0.035])}"
            ]
          },
          "metadata": {},
          "execution_count": 302
        }
      ]
    },
    {
      "cell_type": "code",
      "metadata": {
        "colab": {
          "base_uri": "https://localhost:8080/"
        },
        "id": "C_ERQbbaXzfe",
        "outputId": "8c7b4fd3-901f-4ed5-9494-db09c128cf61"
      },
      "source": [
        "gscv.score(X_test, y_test)"
      ],
      "execution_count": 303,
      "outputs": [
        {
          "output_type": "execute_result",
          "data": {
            "text/plain": [
              "0.8301788209546724"
            ]
          },
          "metadata": {},
          "execution_count": 303
        }
      ]
    },
    {
      "cell_type": "code",
      "metadata": {
        "colab": {
          "base_uri": "https://localhost:8080/"
        },
        "id": "Alyudv2qXJc8",
        "outputId": "601031e9-e134-49b5-f425-4a4f52d507a1"
      },
      "source": [
        "print(f'Mean Squared Error: {mean_squared_error(y_test, pred_test)}')  \n",
        "print(f'Root Mean Squared Error: {np.sqrt(mean_squared_error(y_test, pred_test))}')\n",
        "print(f'Mean Absolute Error: {mean_absolute_error(y_test, pred_test)}')  "
      ],
      "execution_count": 126,
      "outputs": [
        {
          "output_type": "stream",
          "name": "stdout",
          "text": [
            "Mean Squared Error: 18.234024739583333\n",
            "Root Mean Squared Error: 4.2701317004962895\n",
            "Mean Absolute Error: 3.204895833333333\n"
          ]
        }
      ]
    },
    {
      "cell_type": "code",
      "metadata": {
        "colab": {
          "base_uri": "https://localhost:8080/"
        },
        "id": "rcNutsFSV0xm",
        "outputId": "e12485b9-ece5-4aa5-cd76-5147f7c40908"
      },
      "source": [
        "knr.score(X_train, y_train)"
      ],
      "execution_count": 127,
      "outputs": [
        {
          "output_type": "execute_result",
          "data": {
            "text/plain": [
              "0.7313906317824017"
            ]
          },
          "metadata": {},
          "execution_count": 127
        }
      ]
    },
    {
      "cell_type": "code",
      "metadata": {
        "colab": {
          "base_uri": "https://localhost:8080/"
        },
        "id": "YMZ4rm6VUo6P",
        "outputId": "3c807e6e-b2e7-45d0-db00-681e32f03f4b"
      },
      "source": [
        "knr.score(X_test, y_test)"
      ],
      "execution_count": 128,
      "outputs": [
        {
          "output_type": "execute_result",
          "data": {
            "text/plain": [
              "0.6822862621824974"
            ]
          },
          "metadata": {},
          "execution_count": 128
        }
      ]
    },
    {
      "cell_type": "code",
      "metadata": {
        "colab": {
          "base_uri": "https://localhost:8080/"
        },
        "id": "LfIInqYjWCan",
        "outputId": "6e215840-53bd-45f7-a7b4-df131f43c330"
      },
      "source": [
        "# fit/predict with different number of neighbors\n",
        "\n",
        "for k in range(1, 20):\n",
        "    knr = KNeighborsRegressor(n_neighbors=k)\n",
        "    knr.fit(X_train, y_train)  \n",
        "    print(f'{k} --> {knr.score(X_test, y_test)}')"
      ],
      "execution_count": 66,
      "outputs": [
        {
          "output_type": "stream",
          "name": "stdout",
          "text": [
            "1 --> 0.7275205689980193\n",
            "2 --> 0.7726085194169087\n",
            "3 --> 0.7762622465925444\n",
            "4 --> 0.7886345758640584\n",
            "5 --> 0.8096854787796897\n",
            "6 --> 0.8085727106819608\n",
            "7 --> 0.8074380752035664\n",
            "8 --> 0.7989724015827251\n",
            "9 --> 0.7832976480834327\n",
            "10 --> 0.7745030793486318\n",
            "11 --> 0.7703225620238873\n",
            "12 --> 0.755076786650761\n",
            "13 --> 0.7516478650371115\n",
            "14 --> 0.7389264886948361\n",
            "15 --> 0.7377425270633291\n",
            "16 --> 0.7180251908544026\n",
            "17 --> 0.7209350565467688\n",
            "18 --> 0.7192291492345355\n",
            "19 --> 0.7103562330229598\n"
          ]
        }
      ]
    },
    {
      "cell_type": "code",
      "metadata": {
        "id": "WDR_HQp4XwR_"
      },
      "source": [
        "knr_accuracies=[]\n",
        "\n",
        "for k in range(1, 150):\n",
        "    knr = KNeighborsRegressor(n_neighbors=k)\n",
        "    knr.fit(X_train, y_train)  \n",
        "    knr_accuracies.append(knr.score(X_test, y_test))"
      ],
      "execution_count": 129,
      "outputs": []
    },
    {
      "cell_type": "code",
      "metadata": {
        "colab": {
          "base_uri": "https://localhost:8080/",
          "height": 369
        },
        "id": "K-JZpBLLWCdT",
        "outputId": "ed33b733-0c7e-437c-9e4c-2acbe1763593"
      },
      "source": [
        "fig = plt.figure(figsize=(7, 5))\n",
        "\n",
        "ax = plt.subplot(111)\n",
        "ax.plot(range(1, 150, 1), knr_accuracies)\n",
        "\n",
        "# aesthetic parameters\n",
        "ax.set_xticks(range(1, 20))\n",
        "ax.set_xlabel('$k$')\n",
        "ax.set_ylabel('accuracy')\n",
        "\n",
        "ax.spines['right'].set_visible(False)\n",
        "ax.spines['top'].set_visible(False)\n",
        "\n",
        "ax.yaxis.set_ticks_position('left')\n",
        "ax.xaxis.set_ticks_position('bottom')\n",
        "\n",
        "ax.set_title('kNN accuracy on different values of k')\n",
        "\n",
        "print(f'Best accuracy {max(knr_accuracies) * 100:.2f}% for k={list(range(1, 150))[np.argmax(knr_accuracies)]}')"
      ],
      "execution_count": 130,
      "outputs": [
        {
          "output_type": "stream",
          "name": "stdout",
          "text": [
            "Best accuracy 73.74% for k=4\n"
          ]
        },
        {
          "output_type": "display_data",
          "data": {
            "image/png": "[encoded data removed]",
            "text/plain": [
              "<Figure size 504x360 with 1 Axes>"
            ]
          },
          "metadata": {
            "needs_background": "light"
          }
        }
      ]
    },
    {
      "cell_type": "code",
      "metadata": {
        "id": "1AXhZA7vWCfn"
      },
      "source": [
        ""
      ],
      "execution_count": 68,
      "outputs": []
    },
    {
      "cell_type": "markdown",
      "metadata": {
        "id": "u1A-222kzQQZ"
      },
      "source": [
        "# DecisionTreeRegressor"
      ]
    },
    {
      "cell_type": "code",
      "metadata": {
        "id": "mbBILUdbotHQ"
      },
      "source": [
        "from sklearn.tree import DecisionTreeRegressor"
      ],
      "execution_count": 69,
      "outputs": []
    },
    {
      "cell_type": "code",
      "metadata": {
        "id": "LiEshe2KyC1g"
      },
      "source": [
        "regr = DecisionTreeRegressor(max_depth=140)"
      ],
      "execution_count": 131,
      "outputs": []
    },
    {
      "cell_type": "code",
      "metadata": {
        "colab": {
          "base_uri": "https://localhost:8080/"
        },
        "id": "alPhxG5C_TmK",
        "outputId": "9ddf78fd-0d6e-4a3c-f94d-07c42fa39d69"
      },
      "source": [
        "regr.get_params()"
      ],
      "execution_count": 132,
      "outputs": [
        {
          "output_type": "execute_result",
          "data": {
            "text/plain": [
              "{'ccp_alpha': 0.0,\n",
              " 'criterion': 'mse',\n",
              " 'max_depth': 140,\n",
              " 'max_features': None,\n",
              " 'max_leaf_nodes': None,\n",
              " 'min_impurity_decrease': 0.0,\n",
              " 'min_impurity_split': None,\n",
              " 'min_samples_leaf': 1,\n",
              " 'min_samples_split': 2,\n",
              " 'min_weight_fraction_leaf': 0.0,\n",
              " 'presort': 'deprecated',\n",
              " 'random_state': None,\n",
              " 'splitter': 'best'}"
            ]
          },
          "metadata": {},
          "execution_count": 132
        }
      ]
    },
    {
      "cell_type": "code",
      "metadata": {
        "colab": {
          "base_uri": "https://localhost:8080/"
        },
        "id": "ukMSe4jvyC3b",
        "outputId": "aa908e76-c59d-49c1-9bc2-cb5019c8e8e0"
      },
      "source": [
        "regr.fit(X_train, y_train)"
      ],
      "execution_count": 133,
      "outputs": [
        {
          "output_type": "execute_result",
          "data": {
            "text/plain": [
              "DecisionTreeRegressor(ccp_alpha=0.0, criterion='mse', max_depth=140,\n",
              "                      max_features=None, max_leaf_nodes=None,\n",
              "                      min_impurity_decrease=0.0, min_impurity_split=None,\n",
              "                      min_samples_leaf=1, min_samples_split=2,\n",
              "                      min_weight_fraction_leaf=0.0, presort='deprecated',\n",
              "                      random_state=None, splitter='best')"
            ]
          },
          "metadata": {},
          "execution_count": 133
        }
      ]
    },
    {
      "cell_type": "code",
      "metadata": {
        "id": "NiZGg0zIo5Av"
      },
      "source": [
        "pred_test = regr.predict(X_test)"
      ],
      "execution_count": 134,
      "outputs": []
    },
    {
      "cell_type": "code",
      "metadata": {
        "colab": {
          "base_uri": "https://localhost:8080/"
        },
        "id": "5uKc_Kd9o-wi",
        "outputId": "eeeb0f7a-1982-4fe5-f3ab-aa4b7e3aba54"
      },
      "source": [
        "print(f'Mean Squared Error: {mean_squared_error(y_test, pred_test)}')  \n",
        "print(f'Root Mean Squared Error: {np.sqrt(mean_squared_error(y_test, pred_test))}')\n",
        "print(f'Mean Absolute Error: {mean_absolute_error(y_test, pred_test)}')  "
      ],
      "execution_count": 135,
      "outputs": [
        {
          "output_type": "stream",
          "name": "stdout",
          "text": [
            "Mean Squared Error: 13.373416666666666\n",
            "Root Mean Squared Error: 3.656968234298278\n",
            "Mean Absolute Error: 2.5208333333333335\n"
          ]
        }
      ]
    },
    {
      "cell_type": "code",
      "metadata": {
        "colab": {
          "base_uri": "https://localhost:8080/"
        },
        "id": "Q82K1DYppT7J",
        "outputId": "2c1c842e-6437-4528-8cfe-b322e4a412ca"
      },
      "source": [
        "regr.score(X_train, y_train)"
      ],
      "execution_count": 136,
      "outputs": [
        {
          "output_type": "execute_result",
          "data": {
            "text/plain": [
              "1.0"
            ]
          },
          "metadata": {},
          "execution_count": 136
        }
      ]
    },
    {
      "cell_type": "code",
      "metadata": {
        "colab": {
          "base_uri": "https://localhost:8080/"
        },
        "id": "9c1BWWO9pUg-",
        "outputId": "0b7d0e21-6ef4-4060-a2bf-db5f35eb3df1"
      },
      "source": [
        "regr.score(X_test, y_test)"
      ],
      "execution_count": 137,
      "outputs": [
        {
          "output_type": "execute_result",
          "data": {
            "text/plain": [
              "0.7669785877095039"
            ]
          },
          "metadata": {},
          "execution_count": 137
        }
      ]
    },
    {
      "cell_type": "code",
      "metadata": {
        "id": "Ffivk8b_qLvj"
      },
      "source": [
        "for k in range(1, 100):\n",
        "    regr = DecisionTreeRegressor(max_depth=k)\n",
        "    regr.fit(X_train, y_train)    \n",
        "    print(f'{k} --> {regr.score(X_test, y_test)}')"
      ],
      "execution_count": null,
      "outputs": []
    },
    {
      "cell_type": "code",
      "metadata": {
        "id": "8hwOSZ8Vu_wq"
      },
      "source": [
        "regr_accuracies=[]\n",
        "\n",
        "for k in range(1, 100):\n",
        "    regr = DecisionTreeRegressor(max_depth=k)\n",
        "    regr.fit(X_train, y_train)  \n",
        "    regr_accuracies.append(regr.score(X_test, y_test))"
      ],
      "execution_count": 139,
      "outputs": []
    },
    {
      "cell_type": "code",
      "metadata": {
        "id": "pkq9J9C7u_zn",
        "colab": {
          "base_uri": "https://localhost:8080/",
          "height": 369
        },
        "outputId": "78d1c289-a44b-4698-cc88-d31fd32af37b"
      },
      "source": [
        "fig = plt.figure(figsize=(7, 5))\n",
        "\n",
        "ax = plt.subplot(111)\n",
        "ax.plot(range(1, 100, 1), regr_accuracies)\n",
        "\n",
        "# aesthetic parameters\n",
        "ax.set_xticks(range(1, 20))\n",
        "ax.set_xlabel('$k$')\n",
        "ax.set_ylabel('accuracy')\n",
        "\n",
        "ax.spines['right'].set_visible(False)\n",
        "ax.spines['top'].set_visible(False)\n",
        "\n",
        "ax.yaxis.set_ticks_position('left')\n",
        "ax.xaxis.set_ticks_position('bottom')\n",
        "\n",
        "ax.set_title('regr accuracy on different values of k')\n",
        "\n",
        "print(f'Best accuracy {max(regr_accuracies) * 100:.2f}% for k={list(range(1, 150))[np.argmax(regr_accuracies)]}')"
      ],
      "execution_count": 140,
      "outputs": [
        {
          "output_type": "stream",
          "name": "stdout",
          "text": [
            "Best accuracy 81.81% for k=91\n"
          ]
        },
        {
          "output_type": "display_data",
          "data": {
            "image/png": "[encoded data removed]",
            "text/plain": [
              "<Figure size 504x360 with 1 Axes>"
            ]
          },
          "metadata": {
            "needs_background": "light"
          }
        }
      ]
    },
    {
      "cell_type": "markdown",
      "metadata": {
        "id": "K_kuTO2SsQGP"
      },
      "source": [
        "# SVR "
      ]
    },
    {
      "cell_type": "code",
      "metadata": {
        "id": "0R7lbNEfu_2X"
      },
      "source": [
        "from sklearn.svm import SVR"
      ],
      "execution_count": 79,
      "outputs": []
    },
    {
      "cell_type": "code",
      "metadata": {
        "id": "bs8KTdiSu_5V",
        "colab": {
          "base_uri": "https://localhost:8080/"
        },
        "outputId": "ed9909c0-f1f5-4e72-ff1e-8bbe61d5da57"
      },
      "source": [
        "svr = SVR()\n",
        "\n",
        "svr.fit(X_train, y_train)"
      ],
      "execution_count": 141,
      "outputs": [
        {
          "output_type": "execute_result",
          "data": {
            "text/plain": [
              "SVR(C=1.0, cache_size=200, coef0=0.0, degree=3, epsilon=0.1, gamma='scale',\n",
              "    kernel='rbf', max_iter=-1, shrinking=True, tol=0.001, verbose=False)"
            ]
          },
          "metadata": {},
          "execution_count": 141
        }
      ]
    },
    {
      "cell_type": "code",
      "metadata": {
        "colab": {
          "base_uri": "https://localhost:8080/"
        },
        "id": "Xyg5r8ky_YqN",
        "outputId": "0d4cd46e-132b-4b4d-c3a7-439ac71f1551"
      },
      "source": [
        "svr.get_params()"
      ],
      "execution_count": 101,
      "outputs": [
        {
          "output_type": "execute_result",
          "data": {
            "text/plain": [
              "{'C': 1.0,\n",
              " 'cache_size': 200,\n",
              " 'coef0': 0.0,\n",
              " 'degree': 3,\n",
              " 'epsilon': 0.1,\n",
              " 'gamma': 'scale',\n",
              " 'kernel': 'rbf',\n",
              " 'max_iter': -1,\n",
              " 'shrinking': True,\n",
              " 'tol': 0.001,\n",
              " 'verbose': False}"
            ]
          },
          "metadata": {},
          "execution_count": 101
        }
      ]
    },
    {
      "cell_type": "code",
      "metadata": {
        "id": "uIa2ySFau_94",
        "colab": {
          "base_uri": "https://localhost:8080/"
        },
        "outputId": "7ca98eec-6ccd-4187-9742-a92c66275a0c"
      },
      "source": [
        "pred_test = svr.predict(X_test)\n",
        "\n",
        "svr.score(X_test, y_test)"
      ],
      "execution_count": 142,
      "outputs": [
        {
          "output_type": "execute_result",
          "data": {
            "text/plain": [
              "0.6788033172132472"
            ]
          },
          "metadata": {},
          "execution_count": 142
        }
      ]
    },
    {
      "cell_type": "code",
      "metadata": {
        "colab": {
          "base_uri": "https://localhost:8080/"
        },
        "id": "x7oN5Qe6HJb0",
        "outputId": "bf7af108-5c6c-4f86-b227-0b3973942e89"
      },
      "source": [
        "svr.score(X_train, y_train)"
      ],
      "execution_count": 143,
      "outputs": [
        {
          "output_type": "execute_result",
          "data": {
            "text/plain": [
              "0.7067620169890333"
            ]
          },
          "metadata": {},
          "execution_count": 143
        }
      ]
    },
    {
      "cell_type": "code",
      "metadata": {
        "colab": {
          "base_uri": "https://localhost:8080/"
        },
        "id": "6SScxmYXHHAU",
        "outputId": "b0007301-bad6-4c77-c106-45b9b949059a"
      },
      "source": [
        "print(f'Mean Squared Error: {mean_squared_error(y_test, pred_test)}')  \n",
        "print(f'Root Mean Squared Error: {np.sqrt(mean_squared_error(y_test, pred_test))}')\n",
        "print(f'Mean Absolute Error: {mean_absolute_error(y_test, pred_test)}')  "
      ],
      "execution_count": 144,
      "outputs": [
        {
          "output_type": "stream",
          "name": "stdout",
          "text": [
            "Mean Squared Error: 18.433915701718547\n",
            "Root Mean Squared Error: 4.293473617214684\n",
            "Mean Absolute Error: 3.1298482487742225\n"
          ]
        }
      ]
    },
    {
      "cell_type": "markdown",
      "metadata": {
        "id": "BQo0rhcNAaus"
      },
      "source": [
        "# RandomForestRegressor"
      ]
    },
    {
      "cell_type": "code",
      "metadata": {
        "id": "fxTZUEMoAdIA"
      },
      "source": [
        "from sklearn.ensemble import RandomForestRegressor"
      ],
      "execution_count": 85,
      "outputs": []
    },
    {
      "cell_type": "code",
      "metadata": {
        "id": "zE3iawjlAdKd"
      },
      "source": [
        "rfr = RandomForestRegressor(max_depth=3)\n",
        "rfr.fit(X_train, y_train)\n",
        "pred_test = rfr.predict(X_test)"
      ],
      "execution_count": 145,
      "outputs": []
    },
    {
      "cell_type": "code",
      "metadata": {
        "colab": {
          "base_uri": "https://localhost:8080/"
        },
        "id": "BEWl6ECW_bNC",
        "outputId": "d9144a24-32e7-43cc-f1b7-171dd9981795"
      },
      "source": [
        "rfr.get_params()"
      ],
      "execution_count": 146,
      "outputs": [
        {
          "output_type": "execute_result",
          "data": {
            "text/plain": [
              "{'bootstrap': True,\n",
              " 'ccp_alpha': 0.0,\n",
              " 'criterion': 'mse',\n",
              " 'max_depth': 3,\n",
              " 'max_features': 'auto',\n",
              " 'max_leaf_nodes': None,\n",
              " 'max_samples': None,\n",
              " 'min_impurity_decrease': 0.0,\n",
              " 'min_impurity_split': None,\n",
              " 'min_samples_leaf': 1,\n",
              " 'min_samples_split': 2,\n",
              " 'min_weight_fraction_leaf': 0.0,\n",
              " 'n_estimators': 100,\n",
              " 'n_jobs': None,\n",
              " 'oob_score': False,\n",
              " 'random_state': None,\n",
              " 'verbose': 0,\n",
              " 'warm_start': False}"
            ]
          },
          "metadata": {},
          "execution_count": 146
        }
      ]
    },
    {
      "cell_type": "code",
      "metadata": {
        "colab": {
          "base_uri": "https://localhost:8080/"
        },
        "id": "n9RTbPM-HCNo",
        "outputId": "cf0c71a0-2640-4d99-c02d-d789e8453c81"
      },
      "source": [
        "rfr.score(X_train, y_train)"
      ],
      "execution_count": 147,
      "outputs": [
        {
          "output_type": "execute_result",
          "data": {
            "text/plain": [
              "0.8821093736352582"
            ]
          },
          "metadata": {},
          "execution_count": 147
        }
      ]
    },
    {
      "cell_type": "code",
      "metadata": {
        "colab": {
          "base_uri": "https://localhost:8080/"
        },
        "id": "peqMPry-AdND",
        "outputId": "83ed7875-7ba0-4797-8a06-f428d24c8896"
      },
      "source": [
        "rfr.score(X_test, y_test)"
      ],
      "execution_count": 148,
      "outputs": [
        {
          "output_type": "execute_result",
          "data": {
            "text/plain": [
              "0.8576977403726711"
            ]
          },
          "metadata": {},
          "execution_count": 148
        }
      ]
    },
    {
      "cell_type": "code",
      "metadata": {
        "colab": {
          "base_uri": "https://localhost:8080/"
        },
        "id": "h-y6sOOuHAFY",
        "outputId": "c9861620-4deb-4e46-c873-eb0e136b7d59"
      },
      "source": [
        "print(f'Mean Squared Error: {mean_squared_error(y_test, pred_test)}')  \n",
        "print(f'Root Mean Squared Error: {np.sqrt(mean_squared_error(y_test, pred_test))}')\n",
        "print(f'Mean Absolute Error: {mean_absolute_error(y_test, pred_test)}')  "
      ],
      "execution_count": 149,
      "outputs": [
        {
          "output_type": "stream",
          "name": "stdout",
          "text": [
            "Mean Squared Error: 8.166920764483173\n",
            "Root Mean Squared Error: 2.8577824907580305\n",
            "Mean Absolute Error: 2.220932891033717\n"
          ]
        }
      ]
    },
    {
      "cell_type": "markdown",
      "metadata": {
        "id": "KCPC8QGJGTFz"
      },
      "source": [
        "# Lasso Regression"
      ]
    },
    {
      "cell_type": "code",
      "metadata": {
        "colab": {
          "base_uri": "https://localhost:8080/"
        },
        "id": "3SIiZZoUAdPF",
        "outputId": "43cd58a5-be0d-458d-a9af-4f69d138542c"
      },
      "source": [
        "from sklearn import linear_model\n",
        "lassoReg = linear_model.Lasso(alpha=0.1)\n",
        "lassoReg.fit(X_train, y_train)"
      ],
      "execution_count": 111,
      "outputs": [
        {
          "output_type": "execute_result",
          "data": {
            "text/plain": [
              "Lasso(alpha=0.1, copy_X=True, fit_intercept=True, max_iter=1000,\n",
              "      normalize=False, positive=False, precompute=False, random_state=None,\n",
              "      selection='cyclic', tol=0.0001, warm_start=False)"
            ]
          },
          "metadata": {},
          "execution_count": 111
        }
      ]
    },
    {
      "cell_type": "code",
      "metadata": {
        "colab": {
          "base_uri": "https://localhost:8080/"
        },
        "id": "oagTh6tW_gzN",
        "outputId": "4b755eaa-03cc-42c0-b8e3-63e252a15e40"
      },
      "source": [
        "lassoReg.get_params()"
      ],
      "execution_count": 105,
      "outputs": [
        {
          "output_type": "execute_result",
          "data": {
            "text/plain": [
              "{'alpha': 0.1,\n",
              " 'copy_X': True,\n",
              " 'fit_intercept': True,\n",
              " 'max_iter': 1000,\n",
              " 'normalize': False,\n",
              " 'positive': False,\n",
              " 'precompute': False,\n",
              " 'random_state': None,\n",
              " 'selection': 'cyclic',\n",
              " 'tol': 0.0001,\n",
              " 'warm_start': False}"
            ]
          },
          "metadata": {},
          "execution_count": 105
        }
      ]
    },
    {
      "cell_type": "code",
      "metadata": {
        "id": "0iWbhOJLGfX9"
      },
      "source": [
        "pred_test = lassoReg.predict(X_test)"
      ],
      "execution_count": 112,
      "outputs": []
    },
    {
      "cell_type": "code",
      "metadata": {
        "colab": {
          "base_uri": "https://localhost:8080/"
        },
        "id": "SH9QNapSGr3r",
        "outputId": "fe7f504f-1559-4a94-a05b-1d4992a5d11b"
      },
      "source": [
        "print(f'Mean Squared Error: {mean_squared_error(y_test, pred_test)}')  \n",
        "print(f'Root Mean Squared Error: {np.sqrt(mean_squared_error(y_test, pred_test))}')\n",
        "print(f'Mean Absolute Error: {mean_absolute_error(y_test, pred_test)}')  "
      ],
      "execution_count": 113,
      "outputs": [
        {
          "output_type": "stream",
          "name": "stdout",
          "text": [
            "Mean Squared Error: 10.650408364318714\n",
            "Root Mean Squared Error: 3.26349634047883\n",
            "Mean Absolute Error: 2.66692172441454\n"
          ]
        }
      ]
    },
    {
      "cell_type": "code",
      "metadata": {
        "colab": {
          "base_uri": "https://localhost:8080/"
        },
        "id": "Kx-K3vGhGz6G",
        "outputId": "19dfc3d2-9b42-4bfb-ed20-bf509172f63a"
      },
      "source": [
        "lassoReg.score(X_train, y_train)"
      ],
      "execution_count": 114,
      "outputs": [
        {
          "output_type": "execute_result",
          "data": {
            "text/plain": [
              "0.8355057204688828"
            ]
          },
          "metadata": {},
          "execution_count": 114
        }
      ]
    },
    {
      "cell_type": "code",
      "metadata": {
        "colab": {
          "base_uri": "https://localhost:8080/"
        },
        "id": "kulIgf-3Gz8Y",
        "outputId": "945196d1-4b89-4644-844f-8c8f771ab9f5"
      },
      "source": [
        "lassoReg.score(X_test, y_test)"
      ],
      "execution_count": 115,
      "outputs": [
        {
          "output_type": "execute_result",
          "data": {
            "text/plain": [
              "0.8144248952692923"
            ]
          },
          "metadata": {},
          "execution_count": 115
        }
      ]
    },
    {
      "cell_type": "markdown",
      "metadata": {
        "id": "07DFRsFNYb-b"
      },
      "source": [
        "# Pipe"
      ]
    },
    {
      "cell_type": "code",
      "metadata": {
        "colab": {
          "base_uri": "https://localhost:8080/"
        },
        "id": "zHizTtgyYbPy",
        "outputId": "b7ce35fb-9f94-4581-adb0-38a1677aa96f"
      },
      "source": [
        "lassoReg = linear_model.Lasso(alpha=0.1)\n",
        "linear = LinearRegression()\n",
        "knr = KNeighborsRegressor(n_neighbors=8)\n",
        "regr = DecisionTreeRegressor(max_depth=140)\n",
        "svr = SVR()\n",
        "rfr = RandomForestRegressor(max_depth=3)\n",
        "scaler = StandardScaler()\n",
        "model = [lassoReg, linear, knr, regr, svr, rfr]\n",
        "for i in model:\n",
        "  i.fit(X_train, y_train)\n",
        "\n",
        "  pred_test = i.predict(X_test)\n",
        "  print(i)\n",
        "  print(f'Mean Squared Error: {mean_squared_error(y_test, pred_test)}')  \n",
        "  print(f'Root Mean Squared Error: {np.sqrt(mean_squared_error(y_test, pred_test))}')\n",
        "  print(f'Mean Absolute Error: {mean_absolute_error(y_test, pred_test)}')\n",
        "  print(f'Score: {i.score(X_test, y_test)}\\n\\n')"
      ],
      "execution_count": 200,
      "outputs": [
        {
          "output_type": "stream",
          "name": "stdout",
          "text": [
            "Lasso(alpha=0.1, copy_X=True, fit_intercept=True, max_iter=1000,\n",
            "      normalize=False, positive=False, precompute=False, random_state=None,\n",
            "      selection='cyclic', tol=0.0001, warm_start=False)\n",
            "Mean Squared Error: 10.650408364318714\n",
            "Root Mean Squared Error: 3.26349634047883\n",
            "Mean Absolute Error: 2.66692172441454\n",
            "Score: 0.8144248952692923\n",
            "\n",
            "\n",
            "LinearRegression(copy_X=True, fit_intercept=True, n_jobs=None, normalize=False)\n",
            "Mean Squared Error: 9.768621572875781e+24\n",
            "Root Mean Squared Error: 3125479414885.944\n",
            "Mean Absolute Error: 285315929761.1835\n",
            "Score: -1.7021065385008233e+23\n",
            "\n",
            "\n",
            "KNeighborsRegressor(algorithm='auto', leaf_size=30, metric='minkowski',\n",
            "                    metric_params=None, n_jobs=None, n_neighbors=8, p=2,\n",
            "                    weights='uniform')\n",
            "Mean Squared Error: 18.234024739583333\n",
            "Root Mean Squared Error: 4.2701317004962895\n",
            "Mean Absolute Error: 3.204895833333333\n",
            "Score: 0.6822862621824974\n",
            "\n",
            "\n",
            "DecisionTreeRegressor(ccp_alpha=0.0, criterion='mse', max_depth=140,\n",
            "                      max_features=None, max_leaf_nodes=None,\n",
            "                      min_impurity_decrease=0.0, min_impurity_split=None,\n",
            "                      min_samples_leaf=1, min_samples_split=2,\n",
            "                      min_weight_fraction_leaf=0.0, presort='deprecated',\n",
            "                      random_state=None, splitter='best')\n",
            "Mean Squared Error: 12.369833333333334\n",
            "Root Mean Squared Error: 3.5170773851784003\n",
            "Mean Absolute Error: 2.3400000000000003\n",
            "Score: 0.7844652488607582\n",
            "\n",
            "\n",
            "SVR(C=1.0, cache_size=200, coef0=0.0, degree=3, epsilon=0.1, gamma='scale',\n",
            "    kernel='rbf', max_iter=-1, shrinking=True, tol=0.001, verbose=False)\n",
            "Mean Squared Error: 18.433915701718547\n",
            "Root Mean Squared Error: 4.293473617214684\n",
            "Mean Absolute Error: 3.1298482487742225\n",
            "Score: 0.6788033172132472\n",
            "\n",
            "\n",
            "RandomForestRegressor(bootstrap=True, ccp_alpha=0.0, criterion='mse',\n",
            "                      max_depth=3, max_features='auto', max_leaf_nodes=None,\n",
            "                      max_samples=None, min_impurity_decrease=0.0,\n",
            "                      min_impurity_split=None, min_samples_leaf=1,\n",
            "                      min_samples_split=2, min_weight_fraction_leaf=0.0,\n",
            "                      n_estimators=100, n_jobs=None, oob_score=False,\n",
            "                      random_state=None, verbose=0, warm_start=False)\n",
            "Mean Squared Error: 7.900498536961022\n",
            "Root Mean Squared Error: 2.8107825488573503\n",
            "Mean Absolute Error: 2.1863763672733683\n",
            "Score: 0.862339941036136\n",
            "\n",
            "\n"
          ]
        }
      ]
    },
    {
      "cell_type": "code",
      "metadata": {
        "id": "WlozW0ygYbXk"
      },
      "source": [
        ""
      ],
      "execution_count": null,
      "outputs": []
    },
    {
      "cell_type": "code",
      "metadata": {
        "id": "2c56ZbvqYbZd"
      },
      "source": [
        "\n",
        "  pipe =make_pipeline(scaler, i)"
      ],
      "execution_count": null,
      "outputs": []
    },
    {
      "cell_type": "code",
      "metadata": {
        "id": "lin9tYbYYbbZ"
      },
      "source": [
        ""
      ],
      "execution_count": null,
      "outputs": []
    },
    {
      "cell_type": "code",
      "metadata": {
        "id": "Exda7aC2G0BM"
      },
      "source": [
        ""
      ],
      "execution_count": null,
      "outputs": []
    },
    {
      "cell_type": "code",
      "metadata": {
        "id": "xKbvNjZVbNUb"
      },
      "source": [
        "#https://srnghn.medium.com/machine-learning-trying-to-predict-a-numerical-value-8aafb9ad4d36\n",
        "\n",
        "\n",
        "#Most Common Regression Algorithms\n",
        "#Below are introductions on the most common algorithms \n",
        "#for predicting a numerical value: Linear Regression, \n",
        "#Decision Trees, Neural Networks, and K-Nearest Neighbors"
      ],
      "execution_count": null,
      "outputs": []
    },
    {
      "cell_type": "code",
      "metadata": {
        "id": "rs2x2kSR5U1g"
      },
      "source": [
        "PCA"
      ],
      "execution_count": null,
      "outputs": []
    },
    {
      "cell_type": "code",
      "metadata": {
        "colab": {
          "base_uri": "https://localhost:8080/"
        },
        "id": "GPW5ejsNd5rm",
        "outputId": "6f907dae-c750-4fb8-aef3-15b9cab5acfc"
      },
      "source": [
        "df_prepro = df_prepro.drop(columns='origin')\n",
        "df_prepro.info()"
      ],
      "execution_count": null,
      "outputs": [
        {
          "output_type": "stream",
          "name": "stdout",
          "text": [
            "<class 'pandas.core.frame.DataFrame'>\n",
            "Int64Index: 398 entries, 0 to 405\n",
            "Data columns (total 8 columns):\n",
            " #   Column        Non-Null Count  Dtype  \n",
            "---  ------        --------------  -----  \n",
            " 0   mpg           398 non-null    float64\n",
            " 1   cylinders     398 non-null    int64  \n",
            " 2   displayments  398 non-null    float64\n",
            " 3   horsepower    398 non-null    float64\n",
            " 4   weight        398 non-null    int64  \n",
            " 5   acceleration  398 non-null    float64\n",
            " 6   model year    398 non-null    int64  \n",
            " 7   car_company   398 non-null    object \n",
            "dtypes: float64(4), int64(3), object(1)\n",
            "memory usage: 28.0+ KB\n"
          ]
        }
      ]
    },
    {
      "cell_type": "code",
      "metadata": {
        "colab": {
          "base_uri": "https://localhost:8080/",
          "height": 419
        },
        "id": "KwQ3EwqmEAVw",
        "outputId": "7c48ac15-5b97-4693-bab0-fd2861dbe190"
      },
      "source": [
        "q = df_prepro.iloc[:,[2,3,4,5,6,8]]\n",
        "q"
      ],
      "execution_count": 108,
      "outputs": [
        {
          "output_type": "execute_result",
          "data": {
            "text/html": [
              "<div>\n",
              "<style scoped>\n",
              "    .dataframe tbody tr th:only-of-type {\n",
              "        vertical-align: middle;\n",
              "    }\n",
              "\n",
              "    .dataframe tbody tr th {\n",
              "        vertical-align: top;\n",
              "    }\n",
              "\n",
              "    .dataframe thead th {\n",
              "        text-align: right;\n",
              "    }\n",
              "</style>\n",
              "<table border=\"1\" class=\"dataframe\">\n",
              "  <thead>\n",
              "    <tr style=\"text-align: right;\">\n",
              "      <th></th>\n",
              "      <th>displayments</th>\n",
              "      <th>horsepower</th>\n",
              "      <th>weight</th>\n",
              "      <th>acceleration</th>\n",
              "      <th>model year</th>\n",
              "      <th>car_company</th>\n",
              "    </tr>\n",
              "  </thead>\n",
              "  <tbody>\n",
              "    <tr>\n",
              "      <th>0</th>\n",
              "      <td>307.0</td>\n",
              "      <td>130.0</td>\n",
              "      <td>3504.0</td>\n",
              "      <td>12.0</td>\n",
              "      <td>70</td>\n",
              "      <td>chevrolet</td>\n",
              "    </tr>\n",
              "    <tr>\n",
              "      <th>1</th>\n",
              "      <td>350.0</td>\n",
              "      <td>165.0</td>\n",
              "      <td>3693.0</td>\n",
              "      <td>11.5</td>\n",
              "      <td>70</td>\n",
              "      <td>buick</td>\n",
              "    </tr>\n",
              "    <tr>\n",
              "      <th>2</th>\n",
              "      <td>318.0</td>\n",
              "      <td>150.0</td>\n",
              "      <td>3436.0</td>\n",
              "      <td>11.0</td>\n",
              "      <td>70</td>\n",
              "      <td>plymouth</td>\n",
              "    </tr>\n",
              "    <tr>\n",
              "      <th>3</th>\n",
              "      <td>304.0</td>\n",
              "      <td>150.0</td>\n",
              "      <td>3433.0</td>\n",
              "      <td>12.0</td>\n",
              "      <td>70</td>\n",
              "      <td>amc</td>\n",
              "    </tr>\n",
              "    <tr>\n",
              "      <th>4</th>\n",
              "      <td>302.0</td>\n",
              "      <td>140.0</td>\n",
              "      <td>3449.0</td>\n",
              "      <td>10.5</td>\n",
              "      <td>70</td>\n",
              "      <td>ford</td>\n",
              "    </tr>\n",
              "    <tr>\n",
              "      <th>...</th>\n",
              "      <td>...</td>\n",
              "      <td>...</td>\n",
              "      <td>...</td>\n",
              "      <td>...</td>\n",
              "      <td>...</td>\n",
              "      <td>...</td>\n",
              "    </tr>\n",
              "    <tr>\n",
              "      <th>401</th>\n",
              "      <td>140.0</td>\n",
              "      <td>86.0</td>\n",
              "      <td>2790.0</td>\n",
              "      <td>15.6</td>\n",
              "      <td>82</td>\n",
              "      <td>ford</td>\n",
              "    </tr>\n",
              "    <tr>\n",
              "      <th>402</th>\n",
              "      <td>97.0</td>\n",
              "      <td>52.0</td>\n",
              "      <td>2130.0</td>\n",
              "      <td>24.6</td>\n",
              "      <td>82</td>\n",
              "      <td>volkswagen</td>\n",
              "    </tr>\n",
              "    <tr>\n",
              "      <th>403</th>\n",
              "      <td>135.0</td>\n",
              "      <td>84.0</td>\n",
              "      <td>2295.0</td>\n",
              "      <td>11.6</td>\n",
              "      <td>82</td>\n",
              "      <td>dodge</td>\n",
              "    </tr>\n",
              "    <tr>\n",
              "      <th>404</th>\n",
              "      <td>120.0</td>\n",
              "      <td>79.0</td>\n",
              "      <td>2625.0</td>\n",
              "      <td>18.6</td>\n",
              "      <td>82</td>\n",
              "      <td>ford</td>\n",
              "    </tr>\n",
              "    <tr>\n",
              "      <th>405</th>\n",
              "      <td>119.0</td>\n",
              "      <td>82.0</td>\n",
              "      <td>2720.0</td>\n",
              "      <td>19.4</td>\n",
              "      <td>82</td>\n",
              "      <td>chevrolet</td>\n",
              "    </tr>\n",
              "  </tbody>\n",
              "</table>\n",
              "<p>398 rows × 6 columns</p>\n",
              "</div>"
            ],
            "text/plain": [
              "     displayments  horsepower  weight  acceleration  model year car_company\n",
              "0           307.0       130.0  3504.0          12.0          70   chevrolet\n",
              "1           350.0       165.0  3693.0          11.5          70       buick\n",
              "2           318.0       150.0  3436.0          11.0          70    plymouth\n",
              "3           304.0       150.0  3433.0          12.0          70         amc\n",
              "4           302.0       140.0  3449.0          10.5          70        ford\n",
              "..            ...         ...     ...           ...         ...         ...\n",
              "401         140.0        86.0  2790.0          15.6          82        ford\n",
              "402          97.0        52.0  2130.0          24.6          82  volkswagen\n",
              "403         135.0        84.0  2295.0          11.6          82       dodge\n",
              "404         120.0        79.0  2625.0          18.6          82        ford\n",
              "405         119.0        82.0  2720.0          19.4          82   chevrolet\n",
              "\n",
              "[398 rows x 6 columns]"
            ]
          },
          "metadata": {},
          "execution_count": 108
        }
      ]
    },
    {
      "cell_type": "code",
      "metadata": {
        "id": "q-qXYuwreBcL"
      },
      "source": [
        "# only with displayments\thorsepower\tweight\tacceleration\tmodel year\tcar_company\n",
        "X =  df_prepro.iloc[:,[2,3,4,5,6,8]]\n",
        "y =  df_prepro['mpg']\n",
        "\n",
        "seed = 42  # random seed for reproducability\n",
        "\n",
        "# it handles both shuffling and splitting\n",
        "# x_train, x_test, y_train, y_test\n",
        "X_train, X_test, y_train, y_test = train_test_split(X, \n",
        "                                                    y, \n",
        "                                                    test_size=0.3, \n",
        "                                                    random_state=seed)\n",
        "\n",
        "X_train = X_train.reset_index()\n",
        "encoder = OneHotEncoder( handle_unknown=\"ignore\")\n",
        "enc = pd.DataFrame(encoder.fit_transform(X_train[['car_company']]).toarray())\n",
        "X_train = X_train.join(enc)\n",
        "X_train.set_index('index', inplace=True)\n",
        "X_train = X_train.drop(columns=['car_company'])\n",
        "X_train = scaler.fit_transform(X_train)\n",
        "\n",
        "#OneHotEncoder\n",
        "X_test = X_test.reset_index()\n",
        "enc = pd.DataFrame(encoder.transform(X_test[['car_company']]).toarray())\n",
        "X_test = X_test.join(enc)\n",
        "X_test.set_index('index', inplace=True)\n",
        "#drop 'car_company','origin'\n",
        "X_test = X_test.drop(columns=['car_company'])\n",
        "#StandardScaler\n",
        "X_test = scaler.transform(X_test)\n",
        "\n",
        "model = LinearRegression()\n",
        "model.fit(X_train, y_train)\n",
        "#Predict\n",
        "pred_test = model.predict(X_test) "
      ],
      "execution_count": 110,
      "outputs": []
    },
    {
      "cell_type": "code",
      "metadata": {
        "id": "uDDYHMgkeyUu"
      },
      "source": [
        ""
      ],
      "execution_count": null,
      "outputs": []
    }
  ]
}