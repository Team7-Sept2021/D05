{
 "cells": [
  {
   "cell_type": "code",
   "execution_count": null,
   "metadata": {
    "id": "WjyxOGKRMkti"
   },
   "outputs": [],
   "source": [
    "import pandas as pd\n",
    "import numpy as np\n",
    "from sklearn import preprocessing\n",
    "from sklearn.preprocessing import OneHotEncoder\n",
    "from sklearn.model_selection import train_test_split \n",
    "from sklearn.preprocessing import StandardScaler\n",
    "\n",
    "from sklearn import linear_model\n",
    "from sklearn.linear_model import LinearRegression\n",
    "from sklearn.neighbors import KNeighborsRegressor\n",
    "from sklearn.tree import DecisionTreeRegressor\n",
    "from sklearn.svm import SVR\n",
    "from sklearn.ensemble import RandomForestRegressor\n",
    "from sklearn.model_selection import cross_val_score, KFold, GridSearchCV\n",
    "from sklearn.experimental import enable_hist_gradient_boosting\n",
    "from sklearn.ensemble import HistGradientBoostingRegressor\n",
    "\n",
    "from sklearn.metrics import r2_score\n",
    "from sklearn.metrics import mean_squared_error, mean_absolute_error\n",
    "\n",
    "\n",
    "import time"
   ]
  },
  {
   "cell_type": "code",
   "execution_count": null,
   "metadata": {
    "colab": {
     "base_uri": "https://localhost:8080/"
    },
    "id": "p0u5AsIsNhTY",
    "outputId": "003ca410-3b46-412c-c263-0d39348203f2"
   },
   "outputs": [
    {
     "name": "stdout",
     "output_type": "stream",
     "text": [
      "<class 'pandas.core.frame.DataFrame'>\n",
      "RangeIndex: 406 entries, 0 to 405\n",
      "Data columns (total 9 columns):\n",
      " #   Column        Non-Null Count  Dtype  \n",
      "---  ------        --------------  -----  \n",
      " 0   mpg           398 non-null    float64\n",
      " 1   cylinders     406 non-null    int64  \n",
      " 2   displayments  406 non-null    float64\n",
      " 3   horsepower    400 non-null    float64\n",
      " 4   weight        406 non-null    int64  \n",
      " 5   acceleration  406 non-null    float64\n",
      " 6   model year    406 non-null    int64  \n",
      " 7   origin        406 non-null    int64  \n",
      " 8   car name      406 non-null    object \n",
      "dtypes: float64(4), int64(4), object(1)\n",
      "memory usage: 28.7+ KB\n"
     ]
    }
   ],
   "source": [
    "df = pd.read_excel(\"mpg.data.xlsx\")\n",
    "df = df.dropna(axis=1, thresh= 200)\n",
    "df.info()"
   ]
  },
  {
   "cell_type": "markdown",
   "metadata": {
    "id": "V1slA0vzeKvm"
   },
   "source": [
    "# Preprocessing\n",
    "\n",
    "\n",
    "\n",
    "1.   Handling missing values\n",
    "2.   Drop the 'car name' feature\n",
    "3.   Split the Dataset\n",
    "4.   Encoding the categorical feature 'origin'\n",
    "5.   Scaling the features\n",
    "\n",
    "\n"
   ]
  },
  {
   "cell_type": "code",
   "execution_count": null,
   "metadata": {
    "id": "tEyII2yfUh3e"
   },
   "outputs": [],
   "source": [
    "df = df.dropna(axis = 0,subset=['mpg'])\n",
    "df['horsepower'] =df['horsepower'].fillna(df['horsepower'].median())\n",
    "df_prepro = df.copy()"
   ]
  },
  {
   "cell_type": "code",
   "execution_count": null,
   "metadata": {
    "id": "OO7r4isCcQml"
   },
   "outputs": [],
   "source": [
    "dict_region = {1:'USA',2:'Europe',3:'Japan'}\n",
    "df_prepro['origin'] = df_prepro['origin'].replace(dict_region)"
   ]
  },
  {
   "cell_type": "code",
   "execution_count": null,
   "metadata": {
    "id": "Bxhz6jklmRM7"
   },
   "outputs": [],
   "source": [
    "y =  df_prepro['mpg']\n",
    "X = df_prepro.iloc[:,[1,2,3,4,5,6,7]]"
   ]
  },
  {
   "cell_type": "code",
   "execution_count": null,
   "metadata": {
    "id": "RIT9ZVGZlsNy"
   },
   "outputs": [],
   "source": [
    "seed = 42  \n",
    "\n",
    "\n",
    "X_train, X_test, y_train, y_test = train_test_split(X, \n",
    "                                                    y, \n",
    "                                                    test_size=0.2, \n",
    "                                                    random_state=seed)"
   ]
  },
  {
   "cell_type": "code",
   "execution_count": null,
   "metadata": {
    "id": "6CI5epnhnD3U"
   },
   "outputs": [],
   "source": [
    "#OneHotEncoder for X_train\n",
    "X_train = X_train.reset_index()\n",
    "encoder = OneHotEncoder( handle_unknown=\"ignore\")\n",
    "enc = pd.DataFrame(encoder.fit_transform(X_train[['origin']]).toarray())\n",
    "X_train = X_train.join(enc)\n",
    "X_train.set_index('index', inplace=True)\n",
    "#drop 'origin'\n",
    "X_train = X_train.drop(columns=['origin'])\n",
    "\n",
    "\n",
    "#OneHotEncoder for X_test\n",
    "X_test = X_test.reset_index()\n",
    "enc = pd.DataFrame(encoder.transform(X_test[['origin']]).toarray())\n",
    "X_test = X_test.join(enc)\n",
    "X_test.set_index('index', inplace=True)\n",
    "#drop 'origin'\n",
    "X_test = X_test.drop(columns=['origin'])"
   ]
  },
  {
   "cell_type": "code",
   "execution_count": null,
   "metadata": {
    "id": "RNaGQ0pRigjH"
   },
   "outputs": [],
   "source": [
    "#StandardScaler \n",
    "scaler = StandardScaler()\n",
    "X_train = scaler.fit_transform(X_train)\n",
    "\n",
    "X_test = scaler.transform(X_test)"
   ]
  },
  {
   "cell_type": "markdown",
   "metadata": {
    "id": "pZHQecMMd_HK"
   },
   "source": [
    "# ML process"
   ]
  },
  {
   "cell_type": "code",
   "execution_count": null,
   "metadata": {
    "colab": {
     "base_uri": "https://localhost:8080/"
    },
    "id": "jzZE9ehce5eC",
    "outputId": "75417f05-cff5-4510-d1c0-b25f4ea47188"
   },
   "outputs": [
    {
     "name": "stdout",
     "output_type": "stream",
     "text": [
      "Lasso(alpha=1.0, copy_X=True, fit_intercept=True, max_iter=1000,\n",
      "      normalize=False, positive=False, precompute=False, random_state=None,\n",
      "      selection='cyclic', tol=0.0001, warm_start=False)\n",
      "Root Mean Squared Error: 2.941918461902098\n",
      "Mean Absolute Error: 2.251484227647977\n",
      "R2:0.8390281440832619\n",
      "\n",
      "Root Mean Squared Error: 3.662204313444849\n",
      "Mean Absolute Error: 2.709466472002321\n",
      "R2:0.7860837558105516\n",
      "\n",
      "\n",
      "\n",
      "LinearRegression(copy_X=True, fit_intercept=True, n_jobs=None, normalize=False)\n",
      "Root Mean Squared Error: 2.8876748114372144\n",
      "Mean Absolute Error: 2.2880728919667046\n",
      "R2:0.8449094781983056\n",
      "\n",
      "Root Mean Squared Error: 3.369816650789179\n",
      "Mean Absolute Error: 2.604850203627875\n",
      "R2:0.8188780150628445\n",
      "\n",
      "\n",
      "\n",
      "KNeighborsRegressor(algorithm='auto', leaf_size=30, metric='minkowski',\n",
      "                    metric_params=None, n_jobs=None, n_neighbors=5, p=2,\n",
      "                    weights='uniform')\n",
      "Root Mean Squared Error: 2.278413922008027\n",
      "Mean Absolute Error: 1.85\n",
      "R2:0.9034496307001894\n",
      "\n",
      "Root Mean Squared Error: 2.5330335804123987\n",
      "Mean Absolute Error: 1.7978616352201258\n",
      "R2:0.8976611529723981\n",
      "\n",
      "\n",
      "\n",
      "DecisionTreeRegressor(ccp_alpha=0.0, criterion='mse', max_depth=None,\n",
      "                      max_features=None, max_leaf_nodes=None,\n",
      "                      min_impurity_decrease=0.0, min_impurity_split=None,\n",
      "                      min_samples_leaf=1, min_samples_split=2,\n",
      "                      min_weight_fraction_leaf=0.0, presort='deprecated',\n",
      "                      random_state=None, splitter='best')\n",
      "Root Mean Squared Error: 3.3133253688703745\n",
      "Mean Absolute Error: 2.2087499999999998\n",
      "R2:0.7958182793147817\n",
      "\n",
      "Root Mean Squared Error: 0.0\n",
      "Mean Absolute Error: 0.0\n",
      "R2:1.0\n",
      "\n",
      "\n",
      "\n",
      "SVR(C=1.0, cache_size=200, coef0=0.0, degree=3, epsilon=0.1, gamma='scale',\n",
      "    kernel='rbf', max_iter=-1, shrinking=True, tol=0.001, verbose=False)\n",
      "Root Mean Squared Error: 2.680418526269889\n",
      "Mean Absolute Error: 1.86135167426851\n",
      "R2:0.8663730949106925\n",
      "\n",
      "Root Mean Squared Error: 3.266340272107251\n",
      "Mean Absolute Error: 2.182602729171052\n",
      "R2:0.8298305965710735\n",
      "\n",
      "\n",
      "\n",
      "RandomForestRegressor(bootstrap=True, ccp_alpha=0.0, criterion='mse',\n",
      "                      max_depth=None, max_features='auto', max_leaf_nodes=None,\n",
      "                      max_samples=None, min_impurity_decrease=0.0,\n",
      "                      min_impurity_split=None, min_samples_leaf=1,\n",
      "                      min_samples_split=2, min_weight_fraction_leaf=0.0,\n",
      "                      n_estimators=100, n_jobs=None, oob_score=False,\n",
      "                      random_state=None, verbose=0, warm_start=False)\n",
      "Root Mean Squared Error: 2.313215443381787\n",
      "Mean Absolute Error: 1.6587874999999994\n",
      "R2:0.9004775969119215\n",
      "\n",
      "Root Mean Squared Error: 1.0755302378142748\n",
      "Mean Absolute Error: 0.7428207547169805\n",
      "R2:0.9815496811917327\n",
      "\n",
      "\n",
      "\n",
      "HistGradientBoostingRegressor(l2_regularization=0.0, learning_rate=0.1,\n",
      "                              loss='least_squares', max_bins=255,\n",
      "                              max_depth=None, max_iter=100, max_leaf_nodes=31,\n",
      "                              min_samples_leaf=20, n_iter_no_change=None,\n",
      "                              random_state=None, scoring=None, tol=1e-07,\n",
      "                              validation_fraction=0.1, verbose=0,\n",
      "                              warm_start=False)\n",
      "Root Mean Squared Error: 2.1865367360895163\n",
      "Mean Absolute Error: 1.6810654370524905\n",
      "R2:0.9110794286395594\n",
      "\n",
      "Root Mean Squared Error: 1.5026043086660708\n",
      "Mean Absolute Error: 1.0485981630450585\n",
      "R2:0.96398794664418\n",
      "\n",
      "\n",
      "\n"
     ]
    }
   ],
   "source": [
    "lassoReg = linear_model.Lasso()\n",
    "linear = LinearRegression()\n",
    "knr = KNeighborsRegressor()\n",
    "regr = DecisionTreeRegressor()\n",
    "svr = SVR()\n",
    "rfr = RandomForestRegressor()\n",
    "hgbr = HistGradientBoostingRegressor()\n",
    "model = [lassoReg, linear, knr, regr, svr, rfr, hgbr]\n",
    "for i in model:\n",
    "  i.fit(X_train, y_train)\n",
    "\n",
    "  pred_test = i.predict(X_test)\n",
    "  print(i)\n",
    "  print(f'Root Mean Squared Error: {np.sqrt(mean_squared_error(y_test, pred_test))}')\n",
    "  print(f'Mean Absolute Error: {mean_absolute_error(y_test, pred_test)}')\n",
    "  print(f'R2:{r2_score(y_test,pred_test)}\\n')\n",
    "\n",
    "  pred_test = i.predict(X_train)\n",
    "  print(f'Root Mean Squared Error: {np.sqrt(mean_squared_error(y_train, pred_test))}')\n",
    "  print(f'Mean Absolute Error: {mean_absolute_error(y_train, pred_test)}')\n",
    "  print(f'R2:{r2_score(y_train, pred_test)}\\n\\n\\n')\n",
    "  "
   ]
  },
  {
   "cell_type": "markdown",
   "metadata": {
    "id": "I-R5Zy-L0o_H"
   },
   "source": [
    "# KNeighborsRegressor - Grid"
   ]
  },
  {
   "cell_type": "code",
   "execution_count": null,
   "metadata": {
    "colab": {
     "base_uri": "https://localhost:8080/"
    },
    "id": "8FavllKXw8_0",
    "outputId": "36e2854c-c238-4c9c-cebb-7e078b1723d8"
   },
   "outputs": [
    {
     "name": "stdout",
     "output_type": "stream",
     "text": [
      "0.76m\n"
     ]
    }
   ],
   "source": [
    "start = time.time()\n",
    "param_knr_grid = {'n_neighbors': np.arange(3,17, 2),\n",
    "                  'algorithm':[ 'ball_tree', 'kd_tree', 'brute'],\n",
    "                  'leaf_size':np.arange(5, 35, 1),\n",
    "                  'p':[1,2,3]}   \n",
    "\n",
    "\n",
    "knr = KNeighborsRegressor()\n",
    "gknr = GridSearchCV(knr, param_knr_grid, cv=KFold(n_splits=5,\n",
    "                                              shuffle=True, random_state=101))   \n",
    "gknr.fit(X_train, y_train)\n",
    "\n",
    "end = time.time()\n",
    "print(f'{(end - start)/60:.2f}m')"
   ]
  },
  {
   "cell_type": "code",
   "execution_count": null,
   "metadata": {
    "colab": {
     "base_uri": "https://localhost:8080/"
    },
    "id": "RUMpBnD-7lAX",
    "outputId": "c6e62a1b-c49e-48a9-c327-1146d22f11df"
   },
   "outputs": [
    {
     "name": "stdout",
     "output_type": "stream",
     "text": [
      "Root Mean Squared Error: 2.2463971153827633\n",
      "Mean Absolute Error: 1.7474999999999998\n",
      "R2:0.9061440622060856\n"
     ]
    }
   ],
   "source": [
    "pred_test = gknr.predict(X_test)\n",
    "print(f'Root Mean Squared Error: {np.sqrt(mean_squared_error(y_test, pred_test))}')\n",
    "print(f'Mean Absolute Error: {mean_absolute_error(y_test, pred_test)}')\n",
    "print(f'R2:{r2_score(y_test,pred_test)}')"
   ]
  },
  {
   "cell_type": "code",
   "execution_count": null,
   "metadata": {
    "colab": {
     "base_uri": "https://localhost:8080/"
    },
    "id": "uTR_INcTsO4g",
    "outputId": "8fc2bfdf-9ed8-48cf-ac00-ee9f464d6b5a"
   },
   "outputs": [
    {
     "name": "stdout",
     "output_type": "stream",
     "text": [
      "Root Mean Squared Error: 2.5280325210868937\n",
      "Mean Absolute Error: 1.7334591194968554\n",
      "R2:0.8980648565901117\n"
     ]
    }
   ],
   "source": [
    "pred_test = gknr.predict(X_train)\n",
    "print(f'Root Mean Squared Error: {np.sqrt(mean_squared_error(y_train, pred_test))}')\n",
    "print(f'Mean Absolute Error: {mean_absolute_error(y_train, pred_test)}')\n",
    "print(f'R2:{r2_score(y_train, pred_test)}')"
   ]
  },
  {
   "cell_type": "code",
   "execution_count": null,
   "metadata": {
    "colab": {
     "base_uri": "https://localhost:8080/"
    },
    "id": "t1TyR04Lq2bI",
    "outputId": "d37a8e09-9593-4e58-cc23-1647c30db7a1"
   },
   "outputs": [
    {
     "name": "stdout",
     "output_type": "stream",
     "text": [
      "KNeighborsRegressor(algorithm='ball_tree', leaf_size=5, metric='minkowski',\n",
      "                    metric_params=None, n_jobs=None, n_neighbors=5, p=1,\n",
      "                    weights='uniform')\n"
     ]
    }
   ],
   "source": [
    "print(gknr.best_estimator_)"
   ]
  },
  {
   "cell_type": "markdown",
   "metadata": {
    "id": "UeBemH2UsBAb"
   },
   "source": [
    "# HistGradientBoostingRegressor"
   ]
  },
  {
   "cell_type": "code",
   "execution_count": null,
   "metadata": {
    "colab": {
     "base_uri": "https://localhost:8080/"
    },
    "id": "CwU7YKxXC5qB",
    "outputId": "fcfe1671-c926-499e-95a8-4ff6c865d949"
   },
   "outputs": [
    {
     "name": "stdout",
     "output_type": "stream",
     "text": [
      "1.10m\n"
     ]
    }
   ],
   "source": [
    "start = time.time()\n",
    "param_hgbr_grid = {'learning_rate': np.arange(0.1, 0.6, 0.1),\n",
    "                  'max_iter': np.arange(90, 110, 5),\n",
    "                  'min_samples_leaf': np.arange(16, 21, 1)\n",
    "                  }\n",
    "\n",
    "\n",
    "hgbr = HistGradientBoostingRegressor()\n",
    "ghgbr = GridSearchCV(hgbr, param_hgbr_grid, cv=KFold(n_splits=5,\n",
    "                                              shuffle=True, random_state=101))\n",
    "ghgbr.fit(X_train, y_train)\n",
    "end = time.time()\n",
    "print(f'{(end - start)/60:.2f}m')"
   ]
  },
  {
   "cell_type": "code",
   "execution_count": null,
   "metadata": {
    "colab": {
     "base_uri": "https://localhost:8080/"
    },
    "id": "Sd3taL2AC9IR",
    "outputId": "25d3a07e-dfd6-45fc-b3a5-605480406eab"
   },
   "outputs": [
    {
     "name": "stdout",
     "output_type": "stream",
     "text": [
      "Root Mean Squared Error: 2.1865367360895163\n",
      "Mean Absolute Error: 1.6810654370524905\n",
      "R2:0.9110794286395594\n"
     ]
    }
   ],
   "source": [
    "pred_test = ghgbr.predict(X_test)\n",
    "print(f'Root Mean Squared Error: {np.sqrt(mean_squared_error(y_test, pred_test))}')\n",
    "print(f'Mean Absolute Error: {mean_absolute_error(y_test, pred_test)}')\n",
    "print(f'R2:{r2_score(y_test,pred_test)}')"
   ]
  },
  {
   "cell_type": "code",
   "execution_count": null,
   "metadata": {
    "colab": {
     "base_uri": "https://localhost:8080/"
    },
    "id": "pyf9Q2trDJxI",
    "outputId": "c8c6b789-debe-4d14-aa9d-b318b5e04f72"
   },
   "outputs": [
    {
     "name": "stdout",
     "output_type": "stream",
     "text": [
      "Root Mean Squared Error: 1.5026043086660708\n",
      "Mean Absolute Error: 1.0485981630450585\n",
      "R2:0.96398794664418\n"
     ]
    }
   ],
   "source": [
    "pred_test = ghgbr.predict(X_train)\n",
    "print(f'Root Mean Squared Error: {np.sqrt(mean_squared_error(y_train, pred_test))}')\n",
    "print(f'Mean Absolute Error: {mean_absolute_error(y_train, pred_test)}')\n",
    "print(f'R2:{r2_score(y_train, pred_test)}')"
   ]
  },
  {
   "cell_type": "code",
   "execution_count": null,
   "metadata": {
    "colab": {
     "base_uri": "https://localhost:8080/"
    },
    "id": "zIzS7r3ZsJtz",
    "outputId": "e038dc4a-1ad5-4413-8506-82310f8dd898"
   },
   "outputs": [
    {
     "name": "stdout",
     "output_type": "stream",
     "text": [
      "HistGradientBoostingRegressor(l2_regularization=0.0, learning_rate=0.1,\n",
      "                              loss='least_squares', max_bins=255,\n",
      "                              max_depth=None, max_iter=100, max_leaf_nodes=31,\n",
      "                              min_samples_leaf=20, n_iter_no_change=None,\n",
      "                              random_state=None, scoring=None, tol=1e-07,\n",
      "                              validation_fraction=0.1, verbose=0,\n",
      "                              warm_start=False)\n"
     ]
    }
   ],
   "source": [
    "print(ghgbr.best_estimator_)"
   ]
  },
  {
   "cell_type": "markdown",
   "metadata": {
    "id": "U1SoKFTG2eE-"
   },
   "source": [
    "# RandomForestRegressor - Grid"
   ]
  },
  {
   "cell_type": "code",
   "execution_count": null,
   "metadata": {
    "colab": {
     "base_uri": "https://localhost:8080/"
    },
    "id": "GhmbvSa9-kL4",
    "outputId": "5a8dd861-7d5d-45e6-8606-ae17c2519d14"
   },
   "outputs": [
    {
     "name": "stdout",
     "output_type": "stream",
     "text": [
      "4.39m\n"
     ]
    }
   ],
   "source": [
    "start = time.time()\n",
    "param_rfr_grid = {'n_estimators': np.arange(90, 110, 2),\n",
    "              'max_features' : ['auto', 'sqrt'],\n",
    "              'min_samples_split' : np.arange(2, 5, 1),\n",
    "              'min_samples_leaf' : np.arange(1, 4, 1),\n",
    "              'bootstrap' : [True, False]}\n",
    "\n",
    "\n",
    "rfr = RandomForestRegressor()\n",
    "grfr = GridSearchCV(rfr, param_rfr_grid, cv=KFold(n_splits=5,\n",
    "                                              shuffle=True, random_state=101))   \n",
    "grfr.fit(X_train, y_train)\n",
    "end = time.time()\n",
    "print(f'{(end - start)/60:.2f}m')"
   ]
  },
  {
   "cell_type": "code",
   "execution_count": null,
   "metadata": {
    "colab": {
     "base_uri": "https://localhost:8080/"
    },
    "id": "_xKCTuloAqcm",
    "outputId": "6d4ed70b-7efe-4e71-bf51-ea7cb19c9234"
   },
   "outputs": [
    {
     "name": "stdout",
     "output_type": "stream",
     "text": [
      "Root Mean Squared Error: 2.092585226440881\n",
      "Mean Absolute Error: 1.5533653846153839\n",
      "R2:0.9185567684134097\n"
     ]
    }
   ],
   "source": [
    "pred_test = grfr.predict(X_test)\n",
    "print(f'Root Mean Squared Error: {np.sqrt(mean_squared_error(y_test, pred_test))}')\n",
    "print(f'Mean Absolute Error: {mean_absolute_error(y_test, pred_test)}')\n",
    "print(f'R2:{r2_score(y_test,pred_test)}')"
   ]
  },
  {
   "cell_type": "code",
   "execution_count": null,
   "metadata": {
    "colab": {
     "base_uri": "https://localhost:8080/"
    },
    "id": "d2E7INpLAtYq",
    "outputId": "0279f363-887d-40b0-adc3-e32635734c87"
   },
   "outputs": [
    {
     "name": "stdout",
     "output_type": "stream",
     "text": [
      "Root Mean Squared Error: 1.0651318958408704\n",
      "Mean Absolute Error: 0.7417513304305754\n",
      "R2:0.9819047159297446\n"
     ]
    }
   ],
   "source": [
    "pred_test = grfr.predict(X_train)\n",
    "print(f'Root Mean Squared Error: {np.sqrt(mean_squared_error(y_train, pred_test))}')\n",
    "print(f'Mean Absolute Error: {mean_absolute_error(y_train, pred_test)}')\n",
    "print(f'R2:{r2_score(y_train, pred_test)}')"
   ]
  },
  {
   "cell_type": "code",
   "execution_count": null,
   "metadata": {
    "colab": {
     "base_uri": "https://localhost:8080/"
    },
    "id": "1AAumZA8q5uH",
    "outputId": "071ebfd3-6103-4c30-dd21-dd5afa4e294d"
   },
   "outputs": [
    {
     "name": "stdout",
     "output_type": "stream",
     "text": [
      "RandomForestRegressor(bootstrap=True, ccp_alpha=0.0, criterion='mse',\n",
      "                      max_depth=None, max_features='sqrt', max_leaf_nodes=None,\n",
      "                      max_samples=None, min_impurity_decrease=0.0,\n",
      "                      min_impurity_split=None, min_samples_leaf=1,\n",
      "                      min_samples_split=2, min_weight_fraction_leaf=0.0,\n",
      "                      n_estimators=104, n_jobs=None, oob_score=False,\n",
      "                      random_state=None, verbose=0, warm_start=False)\n"
     ]
    }
   ],
   "source": [
    "print(grfr.best_estimator_)"
   ]
  }
 ],
 "metadata": {
  "colab": {
   "collapsed_sections": [],
   "name": "ML-Data Science.ipynb",
   "provenance": []
  },
  "kernelspec": {
   "display_name": "Python 3 (ipykernel)",
   "language": "python",
   "name": "python3"
  },
  "language_info": {
   "codemirror_mode": {
    "name": "ipython",
    "version": 3
   },
   "file_extension": ".py",
   "mimetype": "text/x-python",
   "name": "python",
   "nbconvert_exporter": "python",
   "pygments_lexer": "ipython3",
   "version": "3.9.7"
  }
 },
 "nbformat": 4,
 "nbformat_minor": 1
}
