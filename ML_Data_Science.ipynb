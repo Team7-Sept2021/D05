{
  "nbformat": 4,
  "nbformat_minor": 0,
  "metadata": {
    "colab": {
      "name": "ML-Data Science.ipynb",
      "provenance": [],
      "collapsed_sections": [],
      "authorship_tag": "ABX9TyMpjlUFnwTM8RrMN6VaWDPC",
      "include_colab_link": true
    },
    "kernelspec": {
      "name": "python3",
      "display_name": "Python 3"
    },
    "language_info": {
      "name": "python"
    }
  },
  "cells": [
    {
      "cell_type": "markdown",
      "metadata": {
        "id": "view-in-github",
        "colab_type": "text"
      },
      "source": [
        "<a href=\"https://colab.research.google.com/github/Team7-Sept2021/test/blob/main/ML_Data_Science.ipynb\" target=\"_parent\"><img src=\"https://colab.research.google.com/assets/colab-badge.svg\" alt=\"Open In Colab\"/></a>"
      ]
    },
    {
      "cell_type": "code",
      "metadata": {
        "id": "WjyxOGKRMkti"
      },
      "source": [
        "import pandas as pd\n",
        "import numpy as np\n",
        "from sklearn import preprocessing\n",
        "from sklearn.preprocessing import OneHotEncoder\n",
        "from sklearn.model_selection import train_test_split \n",
        "from sklearn.preprocessing import StandardScaler\n",
        "\n",
        "from sklearn import linear_model\n",
        "from sklearn.linear_model import LinearRegression\n",
        "from sklearn.neighbors import KNeighborsRegressor\n",
        "from sklearn.tree import DecisionTreeRegressor\n",
        "from sklearn.svm import SVR\n",
        "from sklearn.ensemble import RandomForestRegressor\n",
        "from sklearn.model_selection import cross_val_score, KFold, GridSearchCV\n",
        "from sklearn.experimental import enable_hist_gradient_boosting\n",
        "from sklearn.ensemble import HistGradientBoostingRegressor\n",
        "\n",
        "from sklearn.metrics import r2_score\n",
        "from sklearn.metrics import mean_squared_error, mean_absolute_error\n",
        "\n",
        "\n",
        "import time"
      ],
      "execution_count": 2,
      "outputs": []
    },
    {
      "cell_type": "code",
      "metadata": {
        "colab": {
          "base_uri": "https://localhost:8080/"
        },
        "id": "p0u5AsIsNhTY",
        "outputId": "b8c4bd78-1363-4005-9b7d-fc42a6d95e73"
      },
      "source": [
        "df = pd.read_excel(\"mpg.data.xlsx\")\n",
        "df = df.dropna(axis=1, thresh= 200)\n",
        "df.info()"
      ],
      "execution_count": 3,
      "outputs": [
        {
          "output_type": "stream",
          "name": "stdout",
          "text": [
            "<class 'pandas.core.frame.DataFrame'>\n",
            "RangeIndex: 406 entries, 0 to 405\n",
            "Data columns (total 9 columns):\n",
            " #   Column        Non-Null Count  Dtype  \n",
            "---  ------        --------------  -----  \n",
            " 0   mpg           398 non-null    float64\n",
            " 1   cylinders     406 non-null    int64  \n",
            " 2   displayments  406 non-null    float64\n",
            " 3   horsepower    400 non-null    float64\n",
            " 4   weight        406 non-null    int64  \n",
            " 5   acceleration  406 non-null    float64\n",
            " 6   model year    406 non-null    int64  \n",
            " 7   origin        406 non-null    int64  \n",
            " 8   car name      406 non-null    object \n",
            "dtypes: float64(4), int64(4), object(1)\n",
            "memory usage: 28.7+ KB\n"
          ]
        }
      ]
    },
    {
      "cell_type": "markdown",
      "metadata": {
        "id": "V1slA0vzeKvm"
      },
      "source": [
        "# Preprocessing\n",
        "\n",
        "\n",
        "\n",
        "1.   Handling missing values\n",
        "2.   Drop the 'car name' feature\n",
        "3.   Split the Dataset\n",
        "4.   Encoding the categorical feature 'origin'\n",
        "5.   Scaling the features\n",
        "\n",
        "\n"
      ]
    },
    {
      "cell_type": "code",
      "metadata": {
        "id": "tEyII2yfUh3e",
        "colab": {
          "base_uri": "https://localhost:8080/"
        },
        "outputId": "a774f595-a3de-4181-d5b2-3571058ca047"
      },
      "source": [
        "df_re_missing = df.dropna(axis = 0,subset=['mpg'])\n",
        "df['horsepower'] =df['horsepower'].fillna(df['horsepower'].median())\n",
        "df_prepro = df_re_missing.copy()"
      ],
      "execution_count": 4,
      "outputs": [
        {
          "output_type": "stream",
          "name": "stderr",
          "text": [
            "/usr/local/lib/python3.7/dist-packages/ipykernel_launcher.py:3: SettingWithCopyWarning: \n",
            "A value is trying to be set on a copy of a slice from a DataFrame.\n",
            "Try using .loc[row_indexer,col_indexer] = value instead\n",
            "\n",
            "See the caveats in the documentation: https://pandas.pydata.org/pandas-docs/stable/user_guide/indexing.html#returning-a-view-versus-a-copy\n",
            "  This is separate from the ipykernel package so we can avoid doing imports until\n"
          ]
        }
      ]
    },
    {
      "cell_type": "code",
      "metadata": {
        "id": "OO7r4isCcQml"
      },
      "source": [
        "dict_region = {1:'USA',2:'Europe',3:'Japan'}\n",
        "df_prepro['origin'] = df_prepro['origin'].replace(dict_region)"
      ],
      "execution_count": 5,
      "outputs": []
    },
    {
      "cell_type": "code",
      "metadata": {
        "id": "Bxhz6jklmRM7"
      },
      "source": [
        "y =  df_prepro['mpg']\n",
        "X = df_prepro.iloc[:,[1,2,3,4,5,6,7]]"
      ],
      "execution_count": 7,
      "outputs": []
    },
    {
      "cell_type": "code",
      "metadata": {
        "id": "RIT9ZVGZlsNy"
      },
      "source": [
        "seed = 42  \n",
        "\n",
        "\n",
        "X_train, X_test, y_train, y_test = train_test_split(X, \n",
        "                                                    y, \n",
        "                                                    test_size=0.2, \n",
        "                                                    random_state=seed)"
      ],
      "execution_count": 8,
      "outputs": []
    },
    {
      "cell_type": "code",
      "metadata": {
        "id": "6CI5epnhnD3U"
      },
      "source": [
        "#OneHotEncoder for X_train\n",
        "X_train = X_train.reset_index()\n",
        "encoder = OneHotEncoder( handle_unknown=\"ignore\")\n",
        "enc = pd.DataFrame(encoder.fit_transform(X_train[['origin']]).toarray())\n",
        "X_train = X_train.join(enc)\n",
        "X_train.set_index('index', inplace=True)\n",
        "#drop 'origin'\n",
        "X_train = X_train.drop(columns=['origin'])\n",
        "\n",
        "\n",
        "#OneHotEncoder for X_test\n",
        "X_test = X_test.reset_index()\n",
        "enc = pd.DataFrame(encoder.transform(X_test[['origin']]).toarray())\n",
        "X_test = X_test.join(enc)\n",
        "X_test.set_index('index', inplace=True)\n",
        "#drop 'origin'\n",
        "X_test = X_test.drop(columns=['origin'])"
      ],
      "execution_count": 9,
      "outputs": []
    },
    {
      "cell_type": "code",
      "metadata": {
        "id": "RNaGQ0pRigjH"
      },
      "source": [
        "#StandardScaler \n",
        "scaler = StandardScaler()\n",
        "X_train = scaler.fit_transform(X_train)\n",
        "\n",
        "X_test = scaler.transform(X_test)"
      ],
      "execution_count": 11,
      "outputs": []
    },
    {
      "cell_type": "markdown",
      "metadata": {
        "id": "pZHQecMMd_HK"
      },
      "source": [
        "# ML process"
      ]
    },
    {
      "cell_type": "code",
      "metadata": {
        "colab": {
          "base_uri": "https://localhost:8080/"
        },
        "id": "jzZE9ehce5eC",
        "outputId": "67de08dc-812e-44d6-c3cf-003db5b4f22d"
      },
      "source": [
        "lassoReg = linear_model.Lasso()\n",
        "linear = LinearRegression()\n",
        "knr = KNeighborsRegressor()\n",
        "regr = DecisionTreeRegressor()\n",
        "svr = SVR()\n",
        "rfr = RandomForestRegressor()\n",
        "hgbr = HistGradientBoostingRegressor()\n",
        "model = [lassoReg, linear, knr, regr, svr, rfr, hgbr]\n",
        "for i in model:\n",
        "  i.fit(X_train, y_train)\n",
        "\n",
        "  pred_test = i.predict(X_test)\n",
        "  print(i)\n",
        "  print(f'Root Mean Squared Error: {np.sqrt(mean_squared_error(y_test, pred_test))}')\n",
        "  print(f'Mean Absolute Error: {mean_absolute_error(y_test, pred_test)}')\n",
        "  print(f'R2:{r2_score(y_test,pred_test)}\\n')\n",
        "\n",
        "  pred_test = i.predict(X_train)\n",
        "  print(f'Root Mean Squared Error: {np.sqrt(mean_squared_error(y_train, pred_test))}')\n",
        "  print(f'Mean Absolute Error: {mean_absolute_error(y_train, pred_test)}')\n",
        "  print(f'R2:{r2_score(y_train, pred_test)}\\n\\n\\n')\n",
        "  "
      ],
      "execution_count": 12,
      "outputs": [
        {
          "output_type": "stream",
          "name": "stdout",
          "text": [
            "Lasso(alpha=1.0, copy_X=True, fit_intercept=True, max_iter=1000,\n",
            "      normalize=False, positive=False, precompute=False, random_state=None,\n",
            "      selection='cyclic', tol=0.0001, warm_start=False)\n",
            "Root Mean Squared Error: 2.9418163917996827\n",
            "Mean Absolute Error: 2.2515865750073827\n",
            "R2:0.8390393137529892\n",
            "\n",
            "Root Mean Squared Error: 3.6621739121503114\n",
            "Mean Absolute Error: 2.7094856154159297\n",
            "R2:0.7860873073894348\n",
            "\n",
            "\n",
            "\n",
            "LinearRegression(copy_X=True, fit_intercept=True, n_jobs=None, normalize=False)\n",
            "Root Mean Squared Error: 2.8876733677169266\n",
            "Mean Absolute Error: 2.2881587267140917\n",
            "R2:0.8449096332762084\n",
            "\n",
            "Root Mean Squared Error: 3.369747091715918\n",
            "Mean Absolute Error: 2.604740365903637\n",
            "R2:0.8188854923523801\n",
            "\n",
            "\n",
            "\n",
            "KNeighborsRegressor(algorithm='auto', leaf_size=30, metric='minkowski',\n",
            "                    metric_params=None, n_jobs=None, n_neighbors=5, p=2,\n",
            "                    weights='uniform')\n",
            "Root Mean Squared Error: 2.2763281837204405\n",
            "Mean Absolute Error: 1.8475000000000001\n",
            "R2:0.9036263208313828\n",
            "\n",
            "Root Mean Squared Error: 2.5330335804123987\n",
            "Mean Absolute Error: 1.7978616352201258\n",
            "R2:0.8976611529723981\n",
            "\n",
            "\n",
            "\n",
            "DecisionTreeRegressor(ccp_alpha=0.0, criterion='mse', max_depth=None,\n",
            "                      max_features=None, max_leaf_nodes=None,\n",
            "                      min_impurity_decrease=0.0, min_impurity_split=None,\n",
            "                      min_samples_leaf=1, min_samples_split=2,\n",
            "                      min_weight_fraction_leaf=0.0, presort='deprecated',\n",
            "                      random_state=None, splitter='best')\n",
            "Root Mean Squared Error: 3.366767737756794\n",
            "Mean Absolute Error: 2.25375\n",
            "R2:0.7891784501741386\n",
            "\n",
            "Root Mean Squared Error: 0.0\n",
            "Mean Absolute Error: 0.0\n",
            "R2:1.0\n",
            "\n",
            "\n",
            "\n",
            "SVR(C=1.0, cache_size=200, coef0=0.0, degree=3, epsilon=0.1, gamma='scale',\n",
            "    kernel='rbf', max_iter=-1, shrinking=True, tol=0.001, verbose=False)\n",
            "Root Mean Squared Error: 2.679621088678031\n",
            "Mean Absolute Error: 1.8603564600872011\n",
            "R2:0.8664525923962\n",
            "\n",
            "Root Mean Squared Error: 3.264898867814962\n",
            "Mean Absolute Error: 2.1820041400711374\n",
            "R2:0.8299807516483801\n",
            "\n",
            "\n",
            "\n",
            "RandomForestRegressor(bootstrap=True, ccp_alpha=0.0, criterion='mse',\n",
            "                      max_depth=None, max_features='auto', max_leaf_nodes=None,\n",
            "                      max_samples=None, min_impurity_decrease=0.0,\n",
            "                      min_impurity_split=None, min_samples_leaf=1,\n",
            "                      min_samples_split=2, min_weight_fraction_leaf=0.0,\n",
            "                      n_estimators=100, n_jobs=None, oob_score=False,\n",
            "                      random_state=None, verbose=0, warm_start=False)\n",
            "Root Mean Squared Error: 2.186499379716354\n",
            "Mean Absolute Error: 1.5583125\n",
            "R2:0.9110824669801599\n",
            "\n",
            "Root Mean Squared Error: 1.06673668893594\n",
            "Mean Absolute Error: 0.7409056603773586\n",
            "R2:0.9818501479214942\n",
            "\n",
            "\n",
            "\n",
            "HistGradientBoostingRegressor(l2_regularization=0.0, learning_rate=0.1,\n",
            "                              loss='least_squares', max_bins=255,\n",
            "                              max_depth=None, max_iter=100, max_leaf_nodes=31,\n",
            "                              min_samples_leaf=20, n_iter_no_change=None,\n",
            "                              random_state=None, scoring=None, tol=1e-07,\n",
            "                              validation_fraction=0.1, verbose=0,\n",
            "                              warm_start=False)\n",
            "Root Mean Squared Error: 2.164369444363486\n",
            "Mean Absolute Error: 1.6623091333270783\n",
            "R2:0.9128732576497715\n",
            "\n",
            "Root Mean Squared Error: 1.5097517423797755\n",
            "Mean Absolute Error: 1.05273828531806\n",
            "R2:0.9636445349623867\n",
            "\n",
            "\n",
            "\n"
          ]
        }
      ]
    },
    {
      "cell_type": "markdown",
      "metadata": {
        "id": "I-R5Zy-L0o_H"
      },
      "source": [
        "# KNeighborsRegressor - Grid"
      ]
    },
    {
      "cell_type": "code",
      "metadata": {
        "colab": {
          "base_uri": "https://localhost:8080/"
        },
        "id": "8FavllKXw8_0",
        "outputId": "af1988f7-b951-4240-c224-96b6f7d65fce"
      },
      "source": [
        "start = time.time()\n",
        "param_knr_grid = {'n_neighbors': np.arange(3,17, 2),\n",
        "                  'algorithm':[ 'ball_tree', 'kd_tree', 'brute'],\n",
        "                  'leaf_size':np.arange(5, 35, 1),\n",
        "                  'p':[1,2,3]}   \n",
        "\n",
        "\n",
        "knr = KNeighborsRegressor()\n",
        "gknr = GridSearchCV(knr, param_knr_grid, cv=KFold(n_splits=100,\n",
        "                                              shuffle=True, random_state=101))   \n",
        "gknr.fit(X_train, y_train)\n",
        "\n",
        "end = time.time()\n",
        "print(f'{(end - start)/60:.2f}m')"
      ],
      "execution_count": 13,
      "outputs": [
        {
          "output_type": "stream",
          "name": "stdout",
          "text": [
            "7.91m\n"
          ]
        }
      ]
    },
    {
      "cell_type": "code",
      "metadata": {
        "colab": {
          "base_uri": "https://localhost:8080/"
        },
        "id": "RUMpBnD-7lAX",
        "outputId": "817e5f99-2766-4542-e02b-175abdd88ac4"
      },
      "source": [
        "pred_test = gknr.predict(X_test)\n",
        "print(f'Root Mean Squared Error: {np.sqrt(mean_squared_error(y_test, pred_test))}')\n",
        "print(f'Mean Absolute Error: {mean_absolute_error(y_test, pred_test)}')\n",
        "print(f'R2:{r2_score(y_test,pred_test)}')"
      ],
      "execution_count": 14,
      "outputs": [
        {
          "output_type": "stream",
          "name": "stdout",
          "text": [
            "Root Mean Squared Error: 2.2463971153827633\n",
            "Mean Absolute Error: 1.7474999999999998\n",
            "R2:0.9061440622060856\n"
          ]
        }
      ]
    },
    {
      "cell_type": "code",
      "metadata": {
        "colab": {
          "base_uri": "https://localhost:8080/"
        },
        "id": "uTR_INcTsO4g",
        "outputId": "6a884bcf-4dee-4ccc-b54e-9ffd5e0f7cfc"
      },
      "source": [
        "pred_test = gknr.predict(X_train)\n",
        "print(f'Root Mean Squared Error: {np.sqrt(mean_squared_error(y_train, pred_test))}')\n",
        "print(f'Mean Absolute Error: {mean_absolute_error(y_train, pred_test)}')\n",
        "print(f'R2:{r2_score(y_train, pred_test)}')"
      ],
      "execution_count": 15,
      "outputs": [
        {
          "output_type": "stream",
          "name": "stdout",
          "text": [
            "Root Mean Squared Error: 2.5227827303203334\n",
            "Mean Absolute Error: 1.7256603773584904\n",
            "R2:0.8984877803681359\n"
          ]
        }
      ]
    },
    {
      "cell_type": "code",
      "metadata": {
        "colab": {
          "base_uri": "https://localhost:8080/"
        },
        "id": "t1TyR04Lq2bI",
        "outputId": "105f9274-98b5-4f86-e818-f6f3fe894a58"
      },
      "source": [
        "print(gknr.best_estimator_)"
      ],
      "execution_count": 16,
      "outputs": [
        {
          "output_type": "stream",
          "name": "stdout",
          "text": [
            "KNeighborsRegressor(algorithm='ball_tree', leaf_size=5, metric='minkowski',\n",
            "                    metric_params=None, n_jobs=None, n_neighbors=5, p=1,\n",
            "                    weights='uniform')\n"
          ]
        }
      ]
    },
    {
      "cell_type": "markdown",
      "metadata": {
        "id": "UeBemH2UsBAb"
      },
      "source": [
        "# HistGradientBoostingRegressor"
      ]
    },
    {
      "cell_type": "code",
      "metadata": {
        "id": "uDHV70r2p5MW",
        "colab": {
          "base_uri": "https://localhost:8080/"
        },
        "outputId": "f881d344-682e-456f-be84-80c1f87d11bc"
      },
      "source": [
        "start = time.time()\n",
        "param_hgbr_grid = {'learning_rate': np.arange(0.1, 0.6, 0.1),\n",
        "                  'max_iter': np.arange(90, 110, 5),\n",
        "                  'min_samples_leaf': np.arange(16, 21, 1)\n",
        "                  }\n",
        "\n",
        "\n",
        "hgbr = HistGradientBoostingRegressor()\n",
        "ghgbr = GridSearchCV(hgbr, param_hgbr_grid, cv=KFold(n_splits=100,\n",
        "                                              shuffle=True, random_state=101))\n",
        "ghgbr.fit(X_train, y_train)\n",
        "end = time.time()\n",
        "print(f'{(end - start)/60:.2f}m')"
      ],
      "execution_count": 17,
      "outputs": [
        {
          "output_type": "stream",
          "name": "stdout",
          "text": [
            "29.34m\n"
          ]
        }
      ]
    },
    {
      "cell_type": "code",
      "metadata": {
        "colab": {
          "base_uri": "https://localhost:8080/"
        },
        "id": "87Fyh0xRsIVt",
        "outputId": "d69d6d86-9bd2-4a19-da51-3415325b65a7"
      },
      "source": [
        "pred_test = ghgbr.predict(X_test)\n",
        "print(f'Root Mean Squared Error: {np.sqrt(mean_squared_error(y_test, pred_test))}')\n",
        "print(f'Mean Absolute Error: {mean_absolute_error(y_test, pred_test)}')\n",
        "print(f'R2:{r2_score(y_test,pred_test)}')"
      ],
      "execution_count": 18,
      "outputs": [
        {
          "output_type": "stream",
          "name": "stdout",
          "text": [
            "Root Mean Squared Error: 2.433873891004786\n",
            "Mean Absolute Error: 1.8047991470846205\n",
            "R2:0.8898245503299671\n"
          ]
        }
      ]
    },
    {
      "cell_type": "code",
      "metadata": {
        "colab": {
          "base_uri": "https://localhost:8080/"
        },
        "id": "FUTn4c8r2PIP",
        "outputId": "44ac9231-8362-4de2-d334-7a64d0b0a178"
      },
      "source": [
        "pred_test = ghgbr.predict(X_train)\n",
        "print(f'Root Mean Squared Error: {np.sqrt(mean_squared_error(y_train, pred_test))}')\n",
        "print(f'Mean Absolute Error: {mean_absolute_error(y_train, pred_test)}')\n",
        "print(f'R2:{r2_score(y_train, pred_test)}')"
      ],
      "execution_count": 19,
      "outputs": [
        {
          "output_type": "stream",
          "name": "stdout",
          "text": [
            "Root Mean Squared Error: 0.7774757456542041\n",
            "Mean Absolute Error: 0.5372586039606625\n",
            "R2:0.990358772644229\n"
          ]
        }
      ]
    },
    {
      "cell_type": "code",
      "metadata": {
        "colab": {
          "base_uri": "https://localhost:8080/"
        },
        "id": "zIzS7r3ZsJtz",
        "outputId": "d6845ebd-a08e-442c-9b3a-e8b73c7654b2"
      },
      "source": [
        "print(ghgbr.best_estimator_)"
      ],
      "execution_count": 20,
      "outputs": [
        {
          "output_type": "stream",
          "name": "stdout",
          "text": [
            "HistGradientBoostingRegressor(l2_regularization=0.0,\n",
            "                              learning_rate=0.30000000000000004,\n",
            "                              loss='least_squares', max_bins=255,\n",
            "                              max_depth=None, max_iter=90, max_leaf_nodes=31,\n",
            "                              min_samples_leaf=19, n_iter_no_change=None,\n",
            "                              random_state=None, scoring=None, tol=1e-07,\n",
            "                              validation_fraction=0.1, verbose=0,\n",
            "                              warm_start=False)\n"
          ]
        }
      ]
    },
    {
      "cell_type": "markdown",
      "metadata": {
        "id": "U1SoKFTG2eE-"
      },
      "source": [
        "# RandomForestRegressor - Grid"
      ]
    },
    {
      "cell_type": "code",
      "metadata": {
        "id": "Jwxf2WmV2k4d",
        "colab": {
          "base_uri": "https://localhost:8080/"
        },
        "outputId": "640beb21-275b-48b9-d566-5df61e7208f2"
      },
      "source": [
        "start = time.time()\n",
        "param_rfr_grid = {'n_estimators': np.arange(90, 110, 2),\n",
        "              'max_features' : ['auto', 'sqrt'],\n",
        "              'min_samples_split' : np.arange(2, 5, 1),\n",
        "              'min_samples_leaf' : np.arange(1, 4, 1),\n",
        "              'bootstrap' : [True, False]}\n",
        "\n",
        "\n",
        "rfr = RandomForestRegressor()\n",
        "grfr = GridSearchCV(rfr, param_rfr_grid, cv=KFold(n_splits=100,\n",
        "                                              shuffle=True, random_state=101))   \n",
        "grfr.fit(X_train, y_train)\n",
        "end = time.time()\n",
        "print(f'{(end - start)/60:.2f}m')"
      ],
      "execution_count": 21,
      "outputs": [
        {
          "output_type": "stream",
          "name": "stdout",
          "text": [
            "98.38m\n"
          ]
        }
      ]
    },
    {
      "cell_type": "code",
      "metadata": {
        "colab": {
          "base_uri": "https://localhost:8080/"
        },
        "id": "O7zdpreG_ANo",
        "outputId": "d0ebb678-900d-4acb-faba-30bd4de95862"
      },
      "source": [
        "pred_test = grfr.predict(X_test)\n",
        "print(f'Mean Absolute Error: {mean_absolute_error(y_test, pred_test)}')\n",
        "print(f'Score: {grfr.score(X_test, y_test)}')\n",
        "print(f'R2:{r2_score(y_test,pred_test)}')"
      ],
      "execution_count": 22,
      "outputs": [
        {
          "output_type": "stream",
          "name": "stdout",
          "text": [
            "Mean Absolute Error: 1.5984227631645573\n",
            "Score: 0.9172614695075233\n",
            "R2:0.9172614695075233\n"
          ]
        }
      ]
    },
    {
      "cell_type": "code",
      "metadata": {
        "colab": {
          "base_uri": "https://localhost:8080/"
        },
        "id": "KdqzpdsXzaHY",
        "outputId": "ff16401e-fd7f-4b57-b654-5a63fc1a616b"
      },
      "source": [
        "pred_test = grfr.predict(X_train)\n",
        "print(f'Root Mean Squared Error: {np.sqrt(mean_squared_error(y_train, pred_test))}')\n",
        "print(f'Mean Absolute Error: {mean_absolute_error(y_train, pred_test)}')\n",
        "print(f'R2:{r2_score(y_train, pred_test)}')"
      ],
      "execution_count": 23,
      "outputs": [
        {
          "output_type": "stream",
          "name": "stdout",
          "text": [
            "Root Mean Squared Error: 1.048261539932056\n",
            "Mean Absolute Error: 0.6861156800773511\n",
            "R2:0.9824733897355683\n"
          ]
        }
      ]
    },
    {
      "cell_type": "code",
      "metadata": {
        "colab": {
          "base_uri": "https://localhost:8080/"
        },
        "id": "1AAumZA8q5uH",
        "outputId": "9d8ab6a0-3f5a-485a-8c30-c7313f942457"
      },
      "source": [
        "print(grfr.best_estimator_)"
      ],
      "execution_count": 24,
      "outputs": [
        {
          "output_type": "stream",
          "name": "stdout",
          "text": [
            "RandomForestRegressor(bootstrap=False, ccp_alpha=0.0, criterion='mse',\n",
            "                      max_depth=None, max_features='sqrt', max_leaf_nodes=None,\n",
            "                      max_samples=None, min_impurity_decrease=0.0,\n",
            "                      min_impurity_split=None, min_samples_leaf=2,\n",
            "                      min_samples_split=2, min_weight_fraction_leaf=0.0,\n",
            "                      n_estimators=94, n_jobs=None, oob_score=False,\n",
            "                      random_state=None, verbose=0, warm_start=False)\n"
          ]
        }
      ]
    }
  ]
}