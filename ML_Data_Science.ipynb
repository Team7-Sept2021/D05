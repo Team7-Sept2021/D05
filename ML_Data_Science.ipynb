{
  "nbformat": 4,
  "nbformat_minor": 0,
  "metadata": {
    "colab": {
      "name": "ML-Data Science.ipynb",
      "provenance": [],
      "collapsed_sections": [],
      "authorship_tag": "ABX9TyOxV3ryJ98sunjfDvnGRfGz",
      "include_colab_link": true
    },
    "kernelspec": {
      "name": "python3",
      "display_name": "Python 3"
    },
    "language_info": {
      "name": "python"
    }
  },
  "cells": [
    {
      "cell_type": "markdown",
      "metadata": {
        "id": "view-in-github",
        "colab_type": "text"
      },
      "source": [
        "<a href=\"https://colab.research.google.com/github/Team7-Sept2021/test/blob/main/ML_Data_Science.ipynb\" target=\"_parent\"><img src=\"https://colab.research.google.com/assets/colab-badge.svg\" alt=\"Open In Colab\"/></a>"
      ]
    },
    {
      "cell_type": "code",
      "metadata": {
        "id": "WjyxOGKRMkti"
      },
      "source": [
        "import pandas as pd\n",
        "import numpy as np\n",
        "import matplotlib.pyplot as plt\n",
        "import seaborn as sns\n",
        "from sklearn import preprocessing\n",
        "from sklearn.preprocessing import OneHotEncoder\n",
        "from sklearn.model_selection import train_test_split \n",
        "from sklearn.preprocessing import MinMaxScaler, StandardScaler, Normalizer, OrdinalEncoder\n",
        "\n",
        "from sklearn.linear_model import LinearRegression\n",
        "from sklearn.metrics import r2_score\n",
        "from sklearn.metrics import mean_squared_error, mean_absolute_error\n",
        "\n",
        "\n",
        "from sklearn.neighbors import KNeighborsRegressor\n",
        "from sklearn.neighbors import KNeighborsClassifier\n",
        "\n",
        "\n",
        "from sklearn.tree import DecisionTreeClassifier\n",
        "\n",
        "from sklearn.metrics import accuracy_score, precision_recall_fscore_support, classification_report\n",
        "np.set_printoptions(precision=3)\n",
        "\n",
        "%matplotlib inline\n",
        "np.set_printoptions(precision=3, suppress=True)\n",
        "pd.set_option('precision', 3)\n"
      ],
      "execution_count": 1,
      "outputs": []
    },
    {
      "cell_type": "code",
      "metadata": {
        "colab": {
          "base_uri": "https://localhost:8080/"
        },
        "id": "p0u5AsIsNhTY",
        "outputId": "80f18c89-f981-40a3-d380-a0ff1b54d06b"
      },
      "source": [
        "df = pd.read_excel(\"mpg.data.xlsx\")\n",
        "df = df.dropna(axis=1, thresh= 200)\n",
        "df.info()"
      ],
      "execution_count": 65,
      "outputs": [
        {
          "output_type": "stream",
          "name": "stdout",
          "text": [
            "<class 'pandas.core.frame.DataFrame'>\n",
            "RangeIndex: 406 entries, 0 to 405\n",
            "Data columns (total 9 columns):\n",
            " #   Column        Non-Null Count  Dtype  \n",
            "---  ------        --------------  -----  \n",
            " 0   mpg           398 non-null    float64\n",
            " 1   cylinders     406 non-null    int64  \n",
            " 2   displayments  406 non-null    float64\n",
            " 3   horsepower    400 non-null    float64\n",
            " 4   weight        406 non-null    int64  \n",
            " 5   acceleration  406 non-null    float64\n",
            " 6   model year    406 non-null    int64  \n",
            " 7   origin        406 non-null    int64  \n",
            " 8   car name      406 non-null    object \n",
            "dtypes: float64(4), int64(4), object(1)\n",
            "memory usage: 28.7+ KB\n"
          ]
        }
      ]
    },
    {
      "cell_type": "markdown",
      "metadata": {
        "id": "V1slA0vzeKvm"
      },
      "source": [
        "# Preprocessing"
      ]
    },
    {
      "cell_type": "markdown",
      "metadata": {
        "id": "qNGNoHpGVzIC"
      },
      "source": [
        "Missing Values"
      ]
    },
    {
      "cell_type": "code",
      "metadata": {
        "id": "tEyII2yfUh3e",
        "colab": {
          "base_uri": "https://localhost:8080/"
        },
        "outputId": "df07cc69-8b9f-4414-984e-f5c75d03a2b0"
      },
      "source": [
        "df_re_missing = df.dropna(axis = 0,subset=['mpg'])\n",
        "median_value = df_re_missing['horsepower'].median()\n",
        "df_re_missing['horsepower'] =df_re_missing['horsepower'].fillna(median_value)\n",
        "df_prepro = df_re_missing.copy()"
      ],
      "execution_count": 66,
      "outputs": [
        {
          "output_type": "stream",
          "name": "stderr",
          "text": [
            "/usr/local/lib/python3.7/dist-packages/ipykernel_launcher.py:3: SettingWithCopyWarning: \n",
            "A value is trying to be set on a copy of a slice from a DataFrame.\n",
            "Try using .loc[row_indexer,col_indexer] = value instead\n",
            "\n",
            "See the caveats in the documentation: https://pandas.pydata.org/pandas-docs/stable/user_guide/indexing.html#returning-a-view-versus-a-copy\n",
            "  This is separate from the ipykernel package so we can avoid doing imports until\n"
          ]
        }
      ]
    },
    {
      "cell_type": "code",
      "metadata": {
        "id": "2aS6uZ_uMlRH"
      },
      "source": [
        "df_prepro['car_company'] = df_prepro['car name'].apply(lambda x: x.split()[0])\n",
        "\n",
        "df_prepro.replace({'vokswagen': 'volkswagen',\n",
        "            'vw': 'volkswagen', \n",
        "            'maxda': 'mazda', \n",
        "            'toyouta': 'toyota',\n",
        "            'mercedes-benz': 'mercedes',\n",
        "            'chevy': 'chevrolet',\n",
        "            'chevroelt': 'chevrolet',\n",
        "            'capri': 'ford'}, inplace=True)\n",
        "\n",
        "df_prepro = df_prepro.drop(columns='car name')"
      ],
      "execution_count": 67,
      "outputs": []
    },
    {
      "cell_type": "code",
      "metadata": {
        "id": "OO7r4isCcQml"
      },
      "source": [
        "dict_region = {1:'USA',2:'Europe',3:'Japan'}\n",
        "df_prepro['origin'] = df_prepro['origin'].replace(dict_region)"
      ],
      "execution_count": 68,
      "outputs": []
    },
    {
      "cell_type": "code",
      "metadata": {
        "colab": {
          "base_uri": "https://localhost:8080/",
          "height": 419
        },
        "id": "KIgdSerMQtzV",
        "outputId": "5ec10088-c87d-42f7-c57c-77a3b53e0501"
      },
      "source": [
        "df_prepro"
      ],
      "execution_count": 69,
      "outputs": [
        {
          "output_type": "execute_result",
          "data": {
            "text/html": [
              "<div>\n",
              "<style scoped>\n",
              "    .dataframe tbody tr th:only-of-type {\n",
              "        vertical-align: middle;\n",
              "    }\n",
              "\n",
              "    .dataframe tbody tr th {\n",
              "        vertical-align: top;\n",
              "    }\n",
              "\n",
              "    .dataframe thead th {\n",
              "        text-align: right;\n",
              "    }\n",
              "</style>\n",
              "<table border=\"1\" class=\"dataframe\">\n",
              "  <thead>\n",
              "    <tr style=\"text-align: right;\">\n",
              "      <th></th>\n",
              "      <th>mpg</th>\n",
              "      <th>cylinders</th>\n",
              "      <th>displayments</th>\n",
              "      <th>horsepower</th>\n",
              "      <th>weight</th>\n",
              "      <th>acceleration</th>\n",
              "      <th>model year</th>\n",
              "      <th>origin</th>\n",
              "      <th>car_company</th>\n",
              "    </tr>\n",
              "  </thead>\n",
              "  <tbody>\n",
              "    <tr>\n",
              "      <th>0</th>\n",
              "      <td>18.0</td>\n",
              "      <td>8</td>\n",
              "      <td>307.0</td>\n",
              "      <td>130.0</td>\n",
              "      <td>3504</td>\n",
              "      <td>12.0</td>\n",
              "      <td>70</td>\n",
              "      <td>USA</td>\n",
              "      <td>chevrolet</td>\n",
              "    </tr>\n",
              "    <tr>\n",
              "      <th>1</th>\n",
              "      <td>15.0</td>\n",
              "      <td>8</td>\n",
              "      <td>350.0</td>\n",
              "      <td>165.0</td>\n",
              "      <td>3693</td>\n",
              "      <td>11.5</td>\n",
              "      <td>70</td>\n",
              "      <td>USA</td>\n",
              "      <td>buick</td>\n",
              "    </tr>\n",
              "    <tr>\n",
              "      <th>2</th>\n",
              "      <td>18.0</td>\n",
              "      <td>8</td>\n",
              "      <td>318.0</td>\n",
              "      <td>150.0</td>\n",
              "      <td>3436</td>\n",
              "      <td>11.0</td>\n",
              "      <td>70</td>\n",
              "      <td>USA</td>\n",
              "      <td>plymouth</td>\n",
              "    </tr>\n",
              "    <tr>\n",
              "      <th>3</th>\n",
              "      <td>16.0</td>\n",
              "      <td>8</td>\n",
              "      <td>304.0</td>\n",
              "      <td>150.0</td>\n",
              "      <td>3433</td>\n",
              "      <td>12.0</td>\n",
              "      <td>70</td>\n",
              "      <td>USA</td>\n",
              "      <td>amc</td>\n",
              "    </tr>\n",
              "    <tr>\n",
              "      <th>4</th>\n",
              "      <td>17.0</td>\n",
              "      <td>8</td>\n",
              "      <td>302.0</td>\n",
              "      <td>140.0</td>\n",
              "      <td>3449</td>\n",
              "      <td>10.5</td>\n",
              "      <td>70</td>\n",
              "      <td>USA</td>\n",
              "      <td>ford</td>\n",
              "    </tr>\n",
              "    <tr>\n",
              "      <th>...</th>\n",
              "      <td>...</td>\n",
              "      <td>...</td>\n",
              "      <td>...</td>\n",
              "      <td>...</td>\n",
              "      <td>...</td>\n",
              "      <td>...</td>\n",
              "      <td>...</td>\n",
              "      <td>...</td>\n",
              "      <td>...</td>\n",
              "    </tr>\n",
              "    <tr>\n",
              "      <th>401</th>\n",
              "      <td>27.0</td>\n",
              "      <td>4</td>\n",
              "      <td>140.0</td>\n",
              "      <td>86.0</td>\n",
              "      <td>2790</td>\n",
              "      <td>15.6</td>\n",
              "      <td>82</td>\n",
              "      <td>USA</td>\n",
              "      <td>ford</td>\n",
              "    </tr>\n",
              "    <tr>\n",
              "      <th>402</th>\n",
              "      <td>44.0</td>\n",
              "      <td>4</td>\n",
              "      <td>97.0</td>\n",
              "      <td>52.0</td>\n",
              "      <td>2130</td>\n",
              "      <td>24.6</td>\n",
              "      <td>82</td>\n",
              "      <td>Europe</td>\n",
              "      <td>volkswagen</td>\n",
              "    </tr>\n",
              "    <tr>\n",
              "      <th>403</th>\n",
              "      <td>32.0</td>\n",
              "      <td>4</td>\n",
              "      <td>135.0</td>\n",
              "      <td>84.0</td>\n",
              "      <td>2295</td>\n",
              "      <td>11.6</td>\n",
              "      <td>82</td>\n",
              "      <td>USA</td>\n",
              "      <td>dodge</td>\n",
              "    </tr>\n",
              "    <tr>\n",
              "      <th>404</th>\n",
              "      <td>28.0</td>\n",
              "      <td>4</td>\n",
              "      <td>120.0</td>\n",
              "      <td>79.0</td>\n",
              "      <td>2625</td>\n",
              "      <td>18.6</td>\n",
              "      <td>82</td>\n",
              "      <td>USA</td>\n",
              "      <td>ford</td>\n",
              "    </tr>\n",
              "    <tr>\n",
              "      <th>405</th>\n",
              "      <td>31.0</td>\n",
              "      <td>4</td>\n",
              "      <td>119.0</td>\n",
              "      <td>82.0</td>\n",
              "      <td>2720</td>\n",
              "      <td>19.4</td>\n",
              "      <td>82</td>\n",
              "      <td>USA</td>\n",
              "      <td>chevrolet</td>\n",
              "    </tr>\n",
              "  </tbody>\n",
              "</table>\n",
              "<p>398 rows × 9 columns</p>\n",
              "</div>"
            ],
            "text/plain": [
              "      mpg  cylinders  displayments  ...  model year  origin  car_company\n",
              "0    18.0          8         307.0  ...          70     USA    chevrolet\n",
              "1    15.0          8         350.0  ...          70     USA        buick\n",
              "2    18.0          8         318.0  ...          70     USA     plymouth\n",
              "3    16.0          8         304.0  ...          70     USA          amc\n",
              "4    17.0          8         302.0  ...          70     USA         ford\n",
              "..    ...        ...           ...  ...         ...     ...          ...\n",
              "401  27.0          4         140.0  ...          82     USA         ford\n",
              "402  44.0          4          97.0  ...          82  Europe   volkswagen\n",
              "403  32.0          4         135.0  ...          82     USA        dodge\n",
              "404  28.0          4         120.0  ...          82     USA         ford\n",
              "405  31.0          4         119.0  ...          82     USA    chevrolet\n",
              "\n",
              "[398 rows x 9 columns]"
            ]
          },
          "metadata": {},
          "execution_count": 69
        }
      ]
    },
    {
      "cell_type": "code",
      "metadata": {
        "id": "Bxhz6jklmRM7"
      },
      "source": [
        "#X =  df_prepro.drop(columns='mpg')\n",
        "y =  df_prepro['mpg']\n",
        "X = df_prepro.iloc[:,[2,3,4,5,6,8]]"
      ],
      "execution_count": 41,
      "outputs": []
    },
    {
      "cell_type": "code",
      "metadata": {
        "id": "RIT9ZVGZlsNy"
      },
      "source": [
        "seed = 42  # random seed for reproducability\n",
        "\n",
        "# it handles both shuffling and splitting\n",
        "# x_train, x_test, y_train, y_test\n",
        "X_train, X_test, y_train, y_test = train_test_split(X, \n",
        "                                                    y, \n",
        "                                                    test_size=0.2, \n",
        "                                                    random_state=seed)"
      ],
      "execution_count": 42,
      "outputs": []
    },
    {
      "cell_type": "code",
      "metadata": {
        "colab": {
          "base_uri": "https://localhost:8080/",
          "height": 204
        },
        "id": "glzsusJhZPVw",
        "outputId": "86d841b1-5f6f-40b0-bd9f-02604204f53e"
      },
      "source": [
        "X_train.head()"
      ],
      "execution_count": 43,
      "outputs": [
        {
          "output_type": "execute_result",
          "data": {
            "text/html": [
              "<div>\n",
              "<style scoped>\n",
              "    .dataframe tbody tr th:only-of-type {\n",
              "        vertical-align: middle;\n",
              "    }\n",
              "\n",
              "    .dataframe tbody tr th {\n",
              "        vertical-align: top;\n",
              "    }\n",
              "\n",
              "    .dataframe thead th {\n",
              "        text-align: right;\n",
              "    }\n",
              "</style>\n",
              "<table border=\"1\" class=\"dataframe\">\n",
              "  <thead>\n",
              "    <tr style=\"text-align: right;\">\n",
              "      <th></th>\n",
              "      <th>displayments</th>\n",
              "      <th>horsepower</th>\n",
              "      <th>weight</th>\n",
              "      <th>acceleration</th>\n",
              "      <th>model year</th>\n",
              "      <th>car_company</th>\n",
              "    </tr>\n",
              "  </thead>\n",
              "  <tbody>\n",
              "    <tr>\n",
              "      <th>3</th>\n",
              "      <td>304.0</td>\n",
              "      <td>150.0</td>\n",
              "      <td>3433.0</td>\n",
              "      <td>12.0</td>\n",
              "      <td>70</td>\n",
              "      <td>amc</td>\n",
              "    </tr>\n",
              "    <tr>\n",
              "      <th>24</th>\n",
              "      <td>97.0</td>\n",
              "      <td>88.0</td>\n",
              "      <td>2130.0</td>\n",
              "      <td>14.5</td>\n",
              "      <td>70</td>\n",
              "      <td>datsun</td>\n",
              "    </tr>\n",
              "    <tr>\n",
              "      <th>384</th>\n",
              "      <td>91.0</td>\n",
              "      <td>68.0</td>\n",
              "      <td>2025.0</td>\n",
              "      <td>18.2</td>\n",
              "      <td>82</td>\n",
              "      <td>mazda</td>\n",
              "    </tr>\n",
              "    <tr>\n",
              "      <th>255</th>\n",
              "      <td>91.0</td>\n",
              "      <td>60.0</td>\n",
              "      <td>1800.0</td>\n",
              "      <td>16.4</td>\n",
              "      <td>78</td>\n",
              "      <td>honda</td>\n",
              "    </tr>\n",
              "    <tr>\n",
              "      <th>184</th>\n",
              "      <td>115.0</td>\n",
              "      <td>95.0</td>\n",
              "      <td>2694.0</td>\n",
              "      <td>15.0</td>\n",
              "      <td>75</td>\n",
              "      <td>audi</td>\n",
              "    </tr>\n",
              "  </tbody>\n",
              "</table>\n",
              "</div>"
            ],
            "text/plain": [
              "     displayments  horsepower  weight  acceleration  model year car_company\n",
              "3           304.0       150.0  3433.0          12.0          70         amc\n",
              "24           97.0        88.0  2130.0          14.5          70      datsun\n",
              "384          91.0        68.0  2025.0          18.2          82       mazda\n",
              "255          91.0        60.0  1800.0          16.4          78       honda\n",
              "184         115.0        95.0  2694.0          15.0          75        audi"
            ]
          },
          "metadata": {},
          "execution_count": 43
        }
      ]
    },
    {
      "cell_type": "markdown",
      "metadata": {
        "id": "EHOVrmLuHz73"
      },
      "source": [
        "## If we keep 'origin' or 'car_company'"
      ]
    },
    {
      "cell_type": "code",
      "metadata": {
        "id": "6CI5epnhnD3U"
      },
      "source": [
        "#OneHotEncoder  https://stackoverflow.com/questions/36631163/what-are-the-pros-and-cons-between-get-dummies-pandas-and-onehotencoder-sciki\n",
        "X_train = X_train.reset_index()\n",
        "encoder = OneHotEncoder( handle_unknown=\"ignore\")\n",
        "enc = pd.DataFrame(encoder.fit_transform(X_train[['car_company']]).toarray())\n",
        "X_train = X_train.join(enc)\n",
        "X_train.set_index('index', inplace=True)\n",
        "#drop 'car_company','origin'\n",
        "X_train = X_train.drop(columns=['car_company'])\n"
      ],
      "execution_count": 44,
      "outputs": []
    },
    {
      "cell_type": "code",
      "metadata": {
        "id": "nbJRvqU8lRCR"
      },
      "source": [
        "X_test = X_test.reset_index()\n",
        "enc = pd.DataFrame(encoder.transform(X_test[['car_company']]).toarray())\n",
        "X_test = X_test.join(enc)\n",
        "X_test.set_index('index', inplace=True)\n",
        "#drop 'car_company','origin'\n",
        "X_test = X_test.drop(columns=['car_company'])"
      ],
      "execution_count": 45,
      "outputs": []
    },
    {
      "cell_type": "markdown",
      "metadata": {
        "id": "pZHQecMMd_HK"
      },
      "source": [
        "# ML process"
      ]
    },
    {
      "cell_type": "code",
      "metadata": {
        "id": "RNaGQ0pRigjH"
      },
      "source": [
        "#StandardScaler  https://www.geeksforgeeks.org/normalization-vs-standardization/\n",
        "scaler = StandardScaler()\n",
        "X_train = scaler.fit_transform(X_train)\n",
        "\n",
        "X_test = scaler.transform(X_test)"
      ],
      "execution_count": 46,
      "outputs": []
    },
    {
      "cell_type": "code",
      "metadata": {
        "id": "MsDHDoVS0_dx"
      },
      "source": [
        "from sklearn import linear_model\n",
        "from sklearn.linear_model import LinearRegression\n",
        "from sklearn.neighbors import KNeighborsRegressor\n",
        "from sklearn.tree import DecisionTreeRegressor\n",
        "from sklearn.svm import SVR\n",
        "from sklearn.ensemble import RandomForestRegressor\n",
        "from sklearn.model_selection import cross_val_score, KFold, GridSearchCV"
      ],
      "execution_count": 47,
      "outputs": []
    },
    {
      "cell_type": "code",
      "metadata": {
        "colab": {
          "base_uri": "https://localhost:8080/"
        },
        "id": "jzZE9ehce5eC",
        "outputId": "b2160c31-5619-4a8f-eb59-ad86c8a5582d"
      },
      "source": [
        "lassoReg = linear_model.Lasso()\n",
        "linear = LinearRegression()\n",
        "knr = KNeighborsRegressor()\n",
        "regr = DecisionTreeRegressor()\n",
        "svr = SVR()\n",
        "rfr = RandomForestRegressor()\n",
        "model = [lassoReg, linear, knr, regr, svr, rfr]\n",
        "for i in model:\n",
        "  i.fit(X_train, y_train)\n",
        "\n",
        "  pred_test = i.predict(X_test)\n",
        "  print(i)\n",
        "  print(f'Mean Squared Error: {mean_squared_error(y_test, pred_test)}')  \n",
        "  print(f'Root Mean Squared Error: {np.sqrt(mean_squared_error(y_test, pred_test))}')\n",
        "  print(f'Mean Absolute Error: {mean_absolute_error(y_test, pred_test)}')\n",
        "  print(f'R2:{r2_score(y_test,pred_test)}')\n",
        "  print(f'Score: {i.score(X_test, y_test)}\\n\\n')"
      ],
      "execution_count": 48,
      "outputs": [
        {
          "output_type": "stream",
          "name": "stdout",
          "text": [
            "Lasso(alpha=1.0, copy_X=True, fit_intercept=True, max_iter=1000,\n",
            "      normalize=False, positive=False, precompute=False, random_state=None,\n",
            "      selection='cyclic', tol=0.0001, warm_start=False)\n",
            "Mean Squared Error: 9.01046410819161\n",
            "Root Mean Squared Error: 3.001743511393272\n",
            "Mean Absolute Error: 2.3025660479178027\n",
            "R2:0.8324147278535303\n",
            "Score: 0.8324147278535303\n",
            "\n",
            "\n",
            "LinearRegression(copy_X=True, fit_intercept=True, n_jobs=None, normalize=False)\n",
            "Mean Squared Error: 3.0144113189461466e+23\n",
            "Root Mean Squared Error: 549036548778.5077\n",
            "Mean Absolute Error: 61384152262.498245\n",
            "R2:-5.606491909642333e+21\n",
            "Score: -5.606491909642333e+21\n",
            "\n",
            "\n",
            "KNeighborsRegressor(algorithm='auto', leaf_size=30, metric='minkowski',\n",
            "                    metric_params=None, n_jobs=None, n_neighbors=5, p=2,\n",
            "                    weights='uniform')\n",
            "Mean Squared Error: 12.625715\n",
            "Root Mean Squared Error: 3.5532682139123692\n",
            "Mean Absolute Error: 2.59925\n",
            "R2:0.7651748168670724\n",
            "Score: 0.7651748168670724\n",
            "\n",
            "\n",
            "DecisionTreeRegressor(ccp_alpha=0.0, criterion='mse', max_depth=None,\n",
            "                      max_features=None, max_leaf_nodes=None,\n",
            "                      min_impurity_decrease=0.0, min_impurity_split=None,\n",
            "                      min_samples_leaf=1, min_samples_split=2,\n",
            "                      min_weight_fraction_leaf=0.0, presort='deprecated',\n",
            "                      random_state=None, splitter='best')\n",
            "Mean Squared Error: 11.572375000000001\n",
            "Root Mean Squared Error: 3.40181936616276\n",
            "Mean Absolute Error: 2.32875\n",
            "R2:0.7847658466345935\n",
            "Score: 0.7847658466345935\n",
            "\n",
            "\n",
            "SVR(C=1.0, cache_size=200, coef0=0.0, degree=3, epsilon=0.1, gamma='scale',\n",
            "    kernel='rbf', max_iter=-1, shrinking=True, tol=0.001, verbose=False)\n",
            "Mean Squared Error: 13.784027701956774\n",
            "Root Mean Squared Error: 3.7126847027396193\n",
            "Mean Absolute Error: 2.5874041502013676\n",
            "R2:0.743631403891079\n",
            "Score: 0.743631403891079\n",
            "\n",
            "\n",
            "RandomForestRegressor(bootstrap=True, ccp_alpha=0.0, criterion='mse',\n",
            "                      max_depth=None, max_features='auto', max_leaf_nodes=None,\n",
            "                      max_samples=None, min_impurity_decrease=0.0,\n",
            "                      min_impurity_split=None, min_samples_leaf=1,\n",
            "                      min_samples_split=2, min_weight_fraction_leaf=0.0,\n",
            "                      n_estimators=100, n_jobs=None, oob_score=False,\n",
            "                      random_state=None, verbose=0, warm_start=False)\n",
            "Mean Squared Error: 4.516440099999997\n",
            "Root Mean Squared Error: 2.125191779581315\n",
            "Mean Absolute Error: 1.6306749999999994\n",
            "R2:0.9159989059161088\n",
            "Score: 0.9159989059161088\n",
            "\n",
            "\n"
          ]
        }
      ]
    },
    {
      "cell_type": "markdown",
      "metadata": {
        "id": "I-R5Zy-L0o_H"
      },
      "source": [
        "# KNeighborsRegressor - Grid"
      ]
    },
    {
      "cell_type": "code",
      "metadata": {
        "colab": {
          "base_uri": "https://localhost:8080/"
        },
        "id": "8FavllKXw8_0",
        "outputId": "a490cb34-fbf4-4c49-95d5-8eb80c97d44a"
      },
      "source": [
        "param_knr_grid = {'n_neighbors': np.arange(1,40, 2),\n",
        "                  'algorithm':[ 'ball_tree', 'kd_tree', 'brute'],\n",
        "                'weights': ['uniform', 'distance'],\n",
        "                'leaf_size':np.arange(1, 100, 10),\n",
        "                'p':np.arange(1, 4, 1)}\n",
        "\n",
        "\n",
        "knr = KNeighborsRegressor()\n",
        "gknr = GridSearchCV(knr, param_knr_grid, cv=KFold(n_splits=5,\n",
        "                                              shuffle=True, random_state=0))\n",
        "gknr.fit(X_train, y_train)"
      ],
      "execution_count": 49,
      "outputs": [
        {
          "output_type": "execute_result",
          "data": {
            "text/plain": [
              "GridSearchCV(cv=KFold(n_splits=5, random_state=0, shuffle=True),\n",
              "             error_score=nan,\n",
              "             estimator=KNeighborsRegressor(algorithm='auto', leaf_size=30,\n",
              "                                           metric='minkowski',\n",
              "                                           metric_params=None, n_jobs=None,\n",
              "                                           n_neighbors=5, p=2,\n",
              "                                           weights='uniform'),\n",
              "             iid='deprecated', n_jobs=None,\n",
              "             param_grid={'algorithm': ['ball_tree', 'kd_tree', 'brute'],\n",
              "                         'leaf_size': array([ 1, 11, 21, 31, 41, 51, 61, 71, 81, 91]),\n",
              "                         'n_neighbors': array([ 1,  3,  5,  7,  9, 11, 13, 15, 17, 19, 21, 23, 25, 27, 29, 31, 33,\n",
              "       35, 37, 39]),\n",
              "                         'p': array([1, 2, 3]),\n",
              "                         'weights': ['uniform', 'distance']},\n",
              "             pre_dispatch='2*n_jobs', refit=True, return_train_score=False,\n",
              "             scoring=None, verbose=0)"
            ]
          },
          "metadata": {},
          "execution_count": 49
        }
      ]
    },
    {
      "cell_type": "code",
      "metadata": {
        "colab": {
          "base_uri": "https://localhost:8080/"
        },
        "id": "RUMpBnD-7lAX",
        "outputId": "a45be5cc-e7d5-4b4b-87b9-02885b6166f2"
      },
      "source": [
        "pred_test = gknr.predict(X_test)\n",
        "print(f'Mean Squared Error: {mean_squared_error(y_test, pred_test)}')  \n",
        "print(f'Root Mean Squared Error: {np.sqrt(mean_squared_error(y_test, pred_test))}')\n",
        "print(f'Mean Absolute Error: {mean_absolute_error(y_test, pred_test)}')\n",
        "print(f'Score: {gknr.score(X_test, y_test)}')\n",
        "print(f'R2:{r2_score(y_test,pred_test)}')"
      ],
      "execution_count": 57,
      "outputs": [
        {
          "output_type": "stream",
          "name": "stdout",
          "text": [
            "Mean Squared Error: 9.92700880836218\n",
            "Root Mean Squared Error: 3.150715602583353\n",
            "Mean Absolute Error: 2.467615198428947\n",
            "Score: 0.8153679485569068\n",
            "R2:0.8153679485569068\n"
          ]
        }
      ]
    },
    {
      "cell_type": "markdown",
      "metadata": {
        "id": "U1SoKFTG2eE-"
      },
      "source": [
        "# RandomForestRegressor - Grid"
      ]
    },
    {
      "cell_type": "code",
      "metadata": {
        "id": "Jwxf2WmV2k4d",
        "colab": {
          "base_uri": "https://localhost:8080/"
        },
        "outputId": "de62ab06-91dc-4d29-d714-faa2a1ccca26"
      },
      "source": [
        "param_rfr_grid = {'n_estimators': np.arange(10, 100, 20),\n",
        "              'max_depth':np.arange(10, 110, 10),\n",
        "              'max_features' : ['auto', 'sqrt'],\n",
        "              'min_samples_split' : [2, 5, 10],\n",
        "              'min_samples_leaf' : [1, 2, 4],\n",
        "              'bootstrap' : [True, False]}\n",
        "\n",
        "\n",
        "rfr = RandomForestRegressor()\n",
        "grfr = GridSearchCV(rfr, param_rfr_grid, scoring='neg_mean_squared_error', cv=KFold(n_splits=5,\n",
        "                                              shuffle=True, random_state=0))\n",
        "grfr.fit(X_train, y_train)"
      ],
      "execution_count": 51,
      "outputs": [
        {
          "output_type": "execute_result",
          "data": {
            "text/plain": [
              "GridSearchCV(cv=KFold(n_splits=5, random_state=0, shuffle=True),\n",
              "             error_score=nan,\n",
              "             estimator=RandomForestRegressor(bootstrap=True, ccp_alpha=0.0,\n",
              "                                             criterion='mse', max_depth=None,\n",
              "                                             max_features='auto',\n",
              "                                             max_leaf_nodes=None,\n",
              "                                             max_samples=None,\n",
              "                                             min_impurity_decrease=0.0,\n",
              "                                             min_impurity_split=None,\n",
              "                                             min_samples_leaf=1,\n",
              "                                             min_samples_split=2,\n",
              "                                             min_weight_fraction_leaf=0.0,\n",
              "                                             n_est...\n",
              "                                             verbose=0, warm_start=False),\n",
              "             iid='deprecated', n_jobs=None,\n",
              "             param_grid={'bootstrap': [True, False],\n",
              "                         'max_depth': array([ 10,  20,  30,  40,  50,  60,  70,  80,  90, 100]),\n",
              "                         'max_features': ['auto', 'sqrt'],\n",
              "                         'min_samples_leaf': [1, 2, 4],\n",
              "                         'min_samples_split': [2, 5, 10],\n",
              "                         'n_estimators': array([10, 30, 50, 70, 90])},\n",
              "             pre_dispatch='2*n_jobs', refit=True, return_train_score=False,\n",
              "             scoring='neg_mean_squared_error', verbose=0)"
            ]
          },
          "metadata": {},
          "execution_count": 51
        }
      ]
    },
    {
      "cell_type": "code",
      "metadata": {
        "colab": {
          "base_uri": "https://localhost:8080/"
        },
        "id": "O7zdpreG_ANo",
        "outputId": "4503088b-5dea-438e-923f-4c3e8de7553a"
      },
      "source": [
        "pred_test = grfr.predict(X_test)\n",
        "print(f'Mean Squared Error: {mean_squared_error(y_test, pred_test)}')  \n",
        "print(f'Root Mean Squared Error: {np.sqrt(mean_squared_error(y_test, pred_test))}')\n",
        "print(f'Mean Absolute Error: {mean_absolute_error(y_test, pred_test)}')\n",
        "print(f'Score: {grfr.score(X_test, y_test)}')\n",
        "print(f'R2:{r2_score(y_test,pred_test)}')"
      ],
      "execution_count": 52,
      "outputs": [
        {
          "output_type": "stream",
          "name": "stdout",
          "text": [
            "Mean Squared Error: 4.70711220679012\n",
            "Root Mean Squared Error: 2.169588026974273\n",
            "Mean Absolute Error: 1.6281527777777776\n",
            "Score: -4.70711220679012\n",
            "R2:0.9124526028041399\n"
          ]
        }
      ]
    },
    {
      "cell_type": "markdown",
      "metadata": {
        "id": "NAJ_vb5zB06K"
      },
      "source": [
        "# Lasso Regression"
      ]
    },
    {
      "cell_type": "code",
      "metadata": {
        "colab": {
          "base_uri": "https://localhost:8080/"
        },
        "id": "pxE04gvYCCoU",
        "outputId": "78476ce5-d21d-45be-dc96-302999e85420"
      },
      "source": [
        "param_lassoReg_grid = {'alpha':np.arange(0, 1, 0.01)}\n",
        "\n",
        "\n",
        "lassoReg = linear_model.Lasso()\n",
        "glassoReg = GridSearchCV(lassoReg, param_lassoReg_grid, scoring='neg_mean_squared_error', cv=KFold(n_splits=5,\n",
        "                                              shuffle=True, random_state=0))\n",
        "glassoReg.fit(X_train, y_train)"
      ],
      "execution_count": 58,
      "outputs": [
        {
          "output_type": "stream",
          "name": "stderr",
          "text": [
            "/usr/local/lib/python3.7/dist-packages/sklearn/model_selection/_validation.py:515: UserWarning: With alpha=0, this algorithm does not converge well. You are advised to use the LinearRegression estimator\n",
            "  estimator.fit(X_train, y_train, **fit_params)\n",
            "/usr/local/lib/python3.7/dist-packages/sklearn/linear_model/_coordinate_descent.py:476: UserWarning: Coordinate descent with no regularization may lead to unexpected results and is discouraged.\n",
            "  positive)\n",
            "/usr/local/lib/python3.7/dist-packages/sklearn/linear_model/_coordinate_descent.py:476: ConvergenceWarning: Objective did not converge. You might want to increase the number of iterations. Duality gap: 1190.8802640346823, tolerance: 1.5798070393700787\n",
            "  positive)\n",
            "/usr/local/lib/python3.7/dist-packages/sklearn/model_selection/_validation.py:515: UserWarning: With alpha=0, this algorithm does not converge well. You are advised to use the LinearRegression estimator\n",
            "  estimator.fit(X_train, y_train, **fit_params)\n",
            "/usr/local/lib/python3.7/dist-packages/sklearn/linear_model/_coordinate_descent.py:476: UserWarning: Coordinate descent with no regularization may lead to unexpected results and is discouraged.\n",
            "  positive)\n",
            "/usr/local/lib/python3.7/dist-packages/sklearn/linear_model/_coordinate_descent.py:476: ConvergenceWarning: Objective did not converge. You might want to increase the number of iterations. Duality gap: 1251.5059390909262, tolerance: 1.5727739566929138\n",
            "  positive)\n",
            "/usr/local/lib/python3.7/dist-packages/sklearn/model_selection/_validation.py:515: UserWarning: With alpha=0, this algorithm does not converge well. You are advised to use the LinearRegression estimator\n",
            "  estimator.fit(X_train, y_train, **fit_params)\n",
            "/usr/local/lib/python3.7/dist-packages/sklearn/linear_model/_coordinate_descent.py:476: UserWarning: Coordinate descent with no regularization may lead to unexpected results and is discouraged.\n",
            "  positive)\n",
            "/usr/local/lib/python3.7/dist-packages/sklearn/linear_model/_coordinate_descent.py:476: ConvergenceWarning: Objective did not converge. You might want to increase the number of iterations. Duality gap: 1231.258236625476, tolerance: 1.548840724409449\n",
            "  positive)\n",
            "/usr/local/lib/python3.7/dist-packages/sklearn/model_selection/_validation.py:515: UserWarning: With alpha=0, this algorithm does not converge well. You are advised to use the LinearRegression estimator\n",
            "  estimator.fit(X_train, y_train, **fit_params)\n",
            "/usr/local/lib/python3.7/dist-packages/sklearn/linear_model/_coordinate_descent.py:476: UserWarning: Coordinate descent with no regularization may lead to unexpected results and is discouraged.\n",
            "  positive)\n",
            "/usr/local/lib/python3.7/dist-packages/sklearn/linear_model/_coordinate_descent.py:476: ConvergenceWarning: Objective did not converge. You might want to increase the number of iterations. Duality gap: 1271.0231569678256, tolerance: 1.6478338588235288\n",
            "  positive)\n",
            "/usr/local/lib/python3.7/dist-packages/sklearn/model_selection/_validation.py:515: UserWarning: With alpha=0, this algorithm does not converge well. You are advised to use the LinearRegression estimator\n",
            "  estimator.fit(X_train, y_train, **fit_params)\n",
            "/usr/local/lib/python3.7/dist-packages/sklearn/linear_model/_coordinate_descent.py:476: UserWarning: Coordinate descent with no regularization may lead to unexpected results and is discouraged.\n",
            "  positive)\n",
            "/usr/local/lib/python3.7/dist-packages/sklearn/linear_model/_coordinate_descent.py:476: ConvergenceWarning: Objective did not converge. You might want to increase the number of iterations. Duality gap: 1231.6275850550787, tolerance: 1.6251136313725492\n",
            "  positive)\n"
          ]
        },
        {
          "output_type": "execute_result",
          "data": {
            "text/plain": [
              "GridSearchCV(cv=KFold(n_splits=5, random_state=0, shuffle=True),\n",
              "             error_score=nan,\n",
              "             estimator=Lasso(alpha=1.0, copy_X=True, fit_intercept=True,\n",
              "                             max_iter=1000, normalize=False, positive=False,\n",
              "                             precompute=False, random_state=None,\n",
              "                             selection='cyclic', tol=0.0001, warm_start=False),\n",
              "             iid='deprecated', n_jobs=None,\n",
              "             param_grid={'alpha': array([0.  , 0.01, 0.02, 0.03, 0.04, 0.05, 0.0...\n",
              "       0.44, 0.45, 0.46, 0.47, 0.48, 0.49, 0.5 , 0.51, 0.52, 0.53, 0.54,\n",
              "       0.55, 0.56, 0.57, 0.58, 0.59, 0.6 , 0.61, 0.62, 0.63, 0.64, 0.65,\n",
              "       0.66, 0.67, 0.68, 0.69, 0.7 , 0.71, 0.72, 0.73, 0.74, 0.75, 0.76,\n",
              "       0.77, 0.78, 0.79, 0.8 , 0.81, 0.82, 0.83, 0.84, 0.85, 0.86, 0.87,\n",
              "       0.88, 0.89, 0.9 , 0.91, 0.92, 0.93, 0.94, 0.95, 0.96, 0.97, 0.98,\n",
              "       0.99])},\n",
              "             pre_dispatch='2*n_jobs', refit=True, return_train_score=False,\n",
              "             scoring='neg_mean_squared_error', verbose=0)"
            ]
          },
          "metadata": {},
          "execution_count": 58
        }
      ]
    },
    {
      "cell_type": "code",
      "metadata": {
        "colab": {
          "base_uri": "https://localhost:8080/"
        },
        "id": "P5bIWhVCFCUQ",
        "outputId": "dcae6a64-0468-4629-958a-9ba77f8f066c"
      },
      "source": [
        "pred_test = glassoReg.predict(X_test)\n",
        "print(f'Mean Squared Error: {mean_squared_error(y_test, pred_test)}')  \n",
        "print(f'Root Mean Squared Error: {np.sqrt(mean_squared_error(y_test, pred_test))}')\n",
        "print(f'Mean Absolute Error: {mean_absolute_error(y_test, pred_test)}')\n",
        "print(f'Score: {glassoReg.score(X_test, y_test)}')\n",
        "print(f'R2:{r2_score(y_test,pred_test)}')"
      ],
      "execution_count": 59,
      "outputs": [
        {
          "output_type": "stream",
          "name": "stdout",
          "text": [
            "Mean Squared Error: 9.111527719958193\n",
            "Root Mean Squared Error: 3.0185307220497513\n",
            "Mean Absolute Error: 2.462257440594223\n",
            "Score: -9.111527719958193\n",
            "R2:0.8305350496617476\n"
          ]
        }
      ]
    },
    {
      "cell_type": "markdown",
      "metadata": {
        "id": "07DFRsFNYb-b"
      },
      "source": [
        "# Pipe"
      ]
    },
    {
      "cell_type": "code",
      "metadata": {
        "id": "rs2x2kSR5U1g"
      },
      "source": [
        "#PCA"
      ],
      "execution_count": null,
      "outputs": []
    }
  ]
}